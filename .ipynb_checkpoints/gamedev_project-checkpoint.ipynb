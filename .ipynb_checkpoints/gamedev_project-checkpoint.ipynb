{
 "cells": [
  {
   "cell_type": "markdown",
   "metadata": {},
   "source": [
    "<h1>Проект: Аналитика мобильного приложения<h1>"
   ]
  },
  {
   "cell_type": "markdown",
   "metadata": {},
   "source": [
    "__Условие и задания__"
   ]
  },
  {
   "cell_type": "markdown",
   "metadata": {},
   "source": [
    "Представьте, что вы работаете в компании, которая разрабатывает мобильные игры. К вам пришел менеджер с рядом задач по исследованию нескольких аспектов мобильного приложения:\n",
    "\n",
    "1. В первую очередь, его интересует показатель retention. Напишите функцию для его подсчета.\n",
    "2. Помимо этого, в компании провели A/B тестирование наборов акционных предложений. На основе имеющихся данных определите, какой набор можно считать лучшим и на основе каких метрик стоит принять правильное решение.\n",
    "3. Предложите метрики для оценки результатов последнего прошедшего тематического события в игре."
   ]
  },
  {
   "cell_type": "markdown",
   "metadata": {},
   "source": [
    "Перед началом выполнения заданий импортируем необходимые библиотеки"
   ]
  },
  {
   "cell_type": "code",
   "execution_count": 58,
   "metadata": {},
   "outputs": [],
   "source": [
    "import pandas as pd\n",
    "import numpy as np\n",
    "import seaborn as sns\n",
    "import requests \n",
    "from urllib.parse import urlencode\n",
    "import datetime\n",
    "from scipy.stats import chi2_contingency\n",
    "from scipy.stats import ttest_ind\n",
    "from scipy.stats import levene"
   ]
  },
  {
   "cell_type": "markdown",
   "metadata": {},
   "source": [
    "<h2>Задание 1<h2>"
   ]
  },
  {
   "cell_type": "markdown",
   "metadata": {},
   "source": [
    "__Retention__ – один из самых важных показателей в компании. Задача – написать функцию, которая будет считать retention игроков (по дням от даты регистрации игрока). Функция должна быть написана на python. В ходе решения можно тестировать работу функции как на полном датасете, так и на части (сэмпле) данных."
   ]
  },
  {
   "cell_type": "markdown",
   "metadata": {},
   "source": [
    "Считываем данные для задания из файла"
   ]
  },
  {
   "cell_type": "code",
   "execution_count": 3,
   "metadata": {},
   "outputs": [],
   "source": [
    "base_url = 'https://cloud-api.yandex.net/v1/disk/public/resources/download?'\n",
    "name_dict = {'reg_data': 'https://disk.yandex.ru/d/RurhdC-xlKB9XA',\n",
    "             'auth_data': 'https://disk.yandex.ru/d/BkcYFOOxuLUJ2w'}\n",
    "# Получаем загрузочную ссылку\n",
    "for key, value in name_dict.items():\n",
    "    final_url = base_url + urlencode(dict(public_key=value))\n",
    "    response = requests.get(final_url)\n",
    "    download_url = response.json()['href']\n",
    "    # Загружаем файл и сохраняем его\n",
    "    download_response = requests.get(download_url)\n",
    "    with open(f'{key}.csv', 'wb') as f:   # Здесь укажите нужный путь к файлу\n",
    "        f.write(download_response.content)"
   ]
  },
  {
   "cell_type": "code",
   "execution_count": 4,
   "metadata": {},
   "outputs": [],
   "source": [
    "registrations = pd.read_csv('reg_data.csv', sep=';')\n",
    "authorizations = pd.read_csv('auth_data.csv', sep=';')"
   ]
  },
  {
   "cell_type": "markdown",
   "metadata": {},
   "source": [
    "Посмотрим на сам датафрейм, типы его колонок, количество пропущенных и уникальных значений в колонках"
   ]
  },
  {
   "cell_type": "code",
   "execution_count": 72,
   "metadata": {},
   "outputs": [
    {
     "data": {
      "text/html": [
       "<div>\n",
       "<style scoped>\n",
       "    .dataframe tbody tr th:only-of-type {\n",
       "        vertical-align: middle;\n",
       "    }\n",
       "\n",
       "    .dataframe tbody tr th {\n",
       "        vertical-align: top;\n",
       "    }\n",
       "\n",
       "    .dataframe thead th {\n",
       "        text-align: right;\n",
       "    }\n",
       "</style>\n",
       "<table border=\"1\" class=\"dataframe\">\n",
       "  <thead>\n",
       "    <tr style=\"text-align: right;\">\n",
       "      <th></th>\n",
       "      <th>reg_ts</th>\n",
       "      <th>uid</th>\n",
       "      <th>reg_date</th>\n",
       "    </tr>\n",
       "  </thead>\n",
       "  <tbody>\n",
       "    <tr>\n",
       "      <th>0</th>\n",
       "      <td>911382223</td>\n",
       "      <td>1</td>\n",
       "      <td>1998-11-18</td>\n",
       "    </tr>\n",
       "    <tr>\n",
       "      <th>1</th>\n",
       "      <td>932683089</td>\n",
       "      <td>2</td>\n",
       "      <td>1999-07-22</td>\n",
       "    </tr>\n",
       "    <tr>\n",
       "      <th>2</th>\n",
       "      <td>947802447</td>\n",
       "      <td>3</td>\n",
       "      <td>2000-01-13</td>\n",
       "    </tr>\n",
       "    <tr>\n",
       "      <th>3</th>\n",
       "      <td>959523541</td>\n",
       "      <td>4</td>\n",
       "      <td>2000-05-28</td>\n",
       "    </tr>\n",
       "    <tr>\n",
       "      <th>4</th>\n",
       "      <td>969103313</td>\n",
       "      <td>5</td>\n",
       "      <td>2000-09-16</td>\n",
       "    </tr>\n",
       "    <tr>\n",
       "      <th>...</th>\n",
       "      <td>...</td>\n",
       "      <td>...</td>\n",
       "      <td>...</td>\n",
       "    </tr>\n",
       "    <tr>\n",
       "      <th>999995</th>\n",
       "      <td>1600874034</td>\n",
       "      <td>1110618</td>\n",
       "      <td>2020-09-23</td>\n",
       "    </tr>\n",
       "    <tr>\n",
       "      <th>999996</th>\n",
       "      <td>1600874086</td>\n",
       "      <td>1110619</td>\n",
       "      <td>2020-09-23</td>\n",
       "    </tr>\n",
       "    <tr>\n",
       "      <th>999997</th>\n",
       "      <td>1600874139</td>\n",
       "      <td>1110620</td>\n",
       "      <td>2020-09-23</td>\n",
       "    </tr>\n",
       "    <tr>\n",
       "      <th>999998</th>\n",
       "      <td>1600874191</td>\n",
       "      <td>1110621</td>\n",
       "      <td>2020-09-23</td>\n",
       "    </tr>\n",
       "    <tr>\n",
       "      <th>999999</th>\n",
       "      <td>1600874244</td>\n",
       "      <td>1110622</td>\n",
       "      <td>2020-09-23</td>\n",
       "    </tr>\n",
       "  </tbody>\n",
       "</table>\n",
       "<p>1000000 rows × 3 columns</p>\n",
       "</div>"
      ],
      "text/plain": [
       "            reg_ts      uid    reg_date\n",
       "0        911382223        1  1998-11-18\n",
       "1        932683089        2  1999-07-22\n",
       "2        947802447        3  2000-01-13\n",
       "3        959523541        4  2000-05-28\n",
       "4        969103313        5  2000-09-16\n",
       "...            ...      ...         ...\n",
       "999995  1600874034  1110618  2020-09-23\n",
       "999996  1600874086  1110619  2020-09-23\n",
       "999997  1600874139  1110620  2020-09-23\n",
       "999998  1600874191  1110621  2020-09-23\n",
       "999999  1600874244  1110622  2020-09-23\n",
       "\n",
       "[1000000 rows x 3 columns]"
      ]
     },
     "execution_count": 72,
     "metadata": {},
     "output_type": "execute_result"
    }
   ],
   "source": [
    "registrations"
   ]
  },
  {
   "cell_type": "markdown",
   "metadata": {},
   "source": [
    "Начнем с анализа датафреймов. Будем рассматривать по одному датафрейму. \n",
    "Первый датафрейм __registrations__, он содержит данные о времени регистрации пользователей, вот его колонки:\n",
    "- _reg_ts_ — время регистрации пользователя\n",
    "- _uid_ —  уникальный идентификатор (id) пользователя"
   ]
  },
  {
   "cell_type": "code",
   "execution_count": 75,
   "metadata": {},
   "outputs": [
    {
     "data": {
      "text/plain": [
       "reg_ts       int64\n",
       "uid          int64\n",
       "reg_date    object\n",
       "dtype: object"
      ]
     },
     "execution_count": 75,
     "metadata": {},
     "output_type": "execute_result"
    }
   ],
   "source": [
    "registrations.dtypes"
   ]
  },
  {
   "cell_type": "code",
   "execution_count": 7,
   "metadata": {},
   "outputs": [
    {
     "data": {
      "text/plain": [
       "reg_ts    0\n",
       "uid       0\n",
       "dtype: int64"
      ]
     },
     "execution_count": 7,
     "metadata": {},
     "output_type": "execute_result"
    }
   ],
   "source": [
    "registrations.isna().sum()"
   ]
  },
  {
   "cell_type": "code",
   "execution_count": 8,
   "metadata": {},
   "outputs": [
    {
     "data": {
      "text/plain": [
       "reg_ts    1000000\n",
       "uid       1000000\n",
       "dtype: int64"
      ]
     },
     "execution_count": 8,
     "metadata": {},
     "output_type": "execute_result"
    }
   ],
   "source": [
    "registrations.nunique()"
   ]
  },
  {
   "cell_type": "markdown",
   "metadata": {},
   "source": [
    "Колонка reg_ts представлена в формате UNIX-время.\n",
    "Для упрощения восприятия данных я добавлю дополнительное поле с классическим форматом даты."
   ]
  },
  {
   "cell_type": "code",
   "execution_count": 74,
   "metadata": {},
   "outputs": [],
   "source": [
    "registrations['reg_date'] = pd.to_datetime(\n",
    "    registrations.reg_ts, unit='s').dt.date"
   ]
  },
  {
   "cell_type": "code",
   "execution_count": 71,
   "metadata": {},
   "outputs": [
    {
     "data": {
      "text/html": [
       "<div>\n",
       "<style scoped>\n",
       "    .dataframe tbody tr th:only-of-type {\n",
       "        vertical-align: middle;\n",
       "    }\n",
       "\n",
       "    .dataframe tbody tr th {\n",
       "        vertical-align: top;\n",
       "    }\n",
       "\n",
       "    .dataframe thead th {\n",
       "        text-align: right;\n",
       "    }\n",
       "</style>\n",
       "<table border=\"1\" class=\"dataframe\">\n",
       "  <thead>\n",
       "    <tr style=\"text-align: right;\">\n",
       "      <th></th>\n",
       "      <th>reg_ts</th>\n",
       "      <th>uid</th>\n",
       "      <th>reg_date</th>\n",
       "    </tr>\n",
       "  </thead>\n",
       "  <tbody>\n",
       "    <tr>\n",
       "      <th>0</th>\n",
       "      <td>911382223</td>\n",
       "      <td>1</td>\n",
       "      <td>1998-11-18</td>\n",
       "    </tr>\n",
       "    <tr>\n",
       "      <th>1</th>\n",
       "      <td>932683089</td>\n",
       "      <td>2</td>\n",
       "      <td>1999-07-22</td>\n",
       "    </tr>\n",
       "    <tr>\n",
       "      <th>2</th>\n",
       "      <td>947802447</td>\n",
       "      <td>3</td>\n",
       "      <td>2000-01-13</td>\n",
       "    </tr>\n",
       "    <tr>\n",
       "      <th>3</th>\n",
       "      <td>959523541</td>\n",
       "      <td>4</td>\n",
       "      <td>2000-05-28</td>\n",
       "    </tr>\n",
       "    <tr>\n",
       "      <th>4</th>\n",
       "      <td>969103313</td>\n",
       "      <td>5</td>\n",
       "      <td>2000-09-16</td>\n",
       "    </tr>\n",
       "  </tbody>\n",
       "</table>\n",
       "</div>"
      ],
      "text/plain": [
       "      reg_ts  uid    reg_date\n",
       "0  911382223    1  1998-11-18\n",
       "1  932683089    2  1999-07-22\n",
       "2  947802447    3  2000-01-13\n",
       "3  959523541    4  2000-05-28\n",
       "4  969103313    5  2000-09-16"
      ]
     },
     "execution_count": 71,
     "metadata": {},
     "output_type": "execute_result"
    }
   ],
   "source": [
    "registrations.head()"
   ]
  },
  {
   "cell_type": "markdown",
   "metadata": {},
   "source": [
    "Посмотрим на диапазон времени, в котором у нас находятся данные по регистрациям."
   ]
  },
  {
   "cell_type": "code",
   "execution_count": 11,
   "metadata": {},
   "outputs": [
    {
     "data": {
      "text/plain": [
       "min    1998-11-18\n",
       "max    2020-09-23\n",
       "Name: reg_date, dtype: object"
      ]
     },
     "execution_count": 11,
     "metadata": {},
     "output_type": "execute_result"
    }
   ],
   "source": [
    "registrations.reg_date.agg(['min', 'max'])"
   ]
  },
  {
   "cell_type": "markdown",
   "metadata": {},
   "source": [
    "__Заключения по первому датафрейму__:\n",
    "- Всего 1000000 строк;\n",
    "- У каждого пользователя уникальный id и уникальное время регистрации;\n",
    "- Данные находятся в диапазоне с ноября 1998 года по сентябрь 2020 года;\n",
    "- Пропущенных значений нет."
   ]
  },
  {
   "cell_type": "markdown",
   "metadata": {},
   "source": [
    "Теперь проделаем аналогичное исследование второго датафрейма __authorizations__. Он содержит данные о времени захода пользователей в игру.\n",
    "  \n",
    "Посмотрим на сам датафрейм, типы его колонок, количество пропущенных и уникальных значений в колонках"
   ]
  },
  {
   "cell_type": "code",
   "execution_count": 12,
   "metadata": {},
   "outputs": [
    {
     "data": {
      "text/html": [
       "<div>\n",
       "<style scoped>\n",
       "    .dataframe tbody tr th:only-of-type {\n",
       "        vertical-align: middle;\n",
       "    }\n",
       "\n",
       "    .dataframe tbody tr th {\n",
       "        vertical-align: top;\n",
       "    }\n",
       "\n",
       "    .dataframe thead th {\n",
       "        text-align: right;\n",
       "    }\n",
       "</style>\n",
       "<table border=\"1\" class=\"dataframe\">\n",
       "  <thead>\n",
       "    <tr style=\"text-align: right;\">\n",
       "      <th></th>\n",
       "      <th>auth_ts</th>\n",
       "      <th>uid</th>\n",
       "    </tr>\n",
       "  </thead>\n",
       "  <tbody>\n",
       "    <tr>\n",
       "      <th>0</th>\n",
       "      <td>911382223</td>\n",
       "      <td>1</td>\n",
       "    </tr>\n",
       "    <tr>\n",
       "      <th>1</th>\n",
       "      <td>932683089</td>\n",
       "      <td>2</td>\n",
       "    </tr>\n",
       "    <tr>\n",
       "      <th>2</th>\n",
       "      <td>932921206</td>\n",
       "      <td>2</td>\n",
       "    </tr>\n",
       "    <tr>\n",
       "      <th>3</th>\n",
       "      <td>933393015</td>\n",
       "      <td>2</td>\n",
       "    </tr>\n",
       "    <tr>\n",
       "      <th>4</th>\n",
       "      <td>933875379</td>\n",
       "      <td>2</td>\n",
       "    </tr>\n",
       "    <tr>\n",
       "      <th>...</th>\n",
       "      <td>...</td>\n",
       "      <td>...</td>\n",
       "    </tr>\n",
       "    <tr>\n",
       "      <th>9601008</th>\n",
       "      <td>1600874034</td>\n",
       "      <td>1110618</td>\n",
       "    </tr>\n",
       "    <tr>\n",
       "      <th>9601009</th>\n",
       "      <td>1600874086</td>\n",
       "      <td>1110619</td>\n",
       "    </tr>\n",
       "    <tr>\n",
       "      <th>9601010</th>\n",
       "      <td>1600874139</td>\n",
       "      <td>1110620</td>\n",
       "    </tr>\n",
       "    <tr>\n",
       "      <th>9601011</th>\n",
       "      <td>1600874191</td>\n",
       "      <td>1110621</td>\n",
       "    </tr>\n",
       "    <tr>\n",
       "      <th>9601012</th>\n",
       "      <td>1600874244</td>\n",
       "      <td>1110622</td>\n",
       "    </tr>\n",
       "  </tbody>\n",
       "</table>\n",
       "<p>9601013 rows × 2 columns</p>\n",
       "</div>"
      ],
      "text/plain": [
       "            auth_ts      uid\n",
       "0         911382223        1\n",
       "1         932683089        2\n",
       "2         932921206        2\n",
       "3         933393015        2\n",
       "4         933875379        2\n",
       "...             ...      ...\n",
       "9601008  1600874034  1110618\n",
       "9601009  1600874086  1110619\n",
       "9601010  1600874139  1110620\n",
       "9601011  1600874191  1110621\n",
       "9601012  1600874244  1110622\n",
       "\n",
       "[9601013 rows x 2 columns]"
      ]
     },
     "execution_count": 12,
     "metadata": {},
     "output_type": "execute_result"
    }
   ],
   "source": [
    "authorizations"
   ]
  },
  {
   "cell_type": "markdown",
   "metadata": {},
   "source": [
    "Колонки датафрейма:\n",
    "- _auth_ts_ — время авторизации пользователя\n",
    "- _uid_ —  уникальный идентификатор (id) пользователя"
   ]
  },
  {
   "cell_type": "code",
   "execution_count": 13,
   "metadata": {},
   "outputs": [
    {
     "data": {
      "text/plain": [
       "auth_ts    int64\n",
       "uid        int64\n",
       "dtype: object"
      ]
     },
     "execution_count": 13,
     "metadata": {},
     "output_type": "execute_result"
    }
   ],
   "source": [
    "authorizations.dtypes"
   ]
  },
  {
   "cell_type": "code",
   "execution_count": 14,
   "metadata": {},
   "outputs": [
    {
     "data": {
      "text/plain": [
       "auth_ts    0\n",
       "uid        0\n",
       "dtype: int64"
      ]
     },
     "execution_count": 14,
     "metadata": {},
     "output_type": "execute_result"
    }
   ],
   "source": [
    "authorizations.isna().sum()"
   ]
  },
  {
   "cell_type": "code",
   "execution_count": 15,
   "metadata": {},
   "outputs": [
    {
     "data": {
      "text/plain": [
       "auth_ts    9180915\n",
       "uid        1000000\n",
       "dtype: int64"
      ]
     },
     "execution_count": 15,
     "metadata": {},
     "output_type": "execute_result"
    }
   ],
   "source": [
    "authorizations.nunique()"
   ]
  },
  {
   "cell_type": "markdown",
   "metadata": {},
   "source": [
    "Для упрощения восприятия данных я так же добавлю дополнительное поле с классическим форматом даты в этот датафрейм."
   ]
  },
  {
   "cell_type": "code",
   "execution_count": 16,
   "metadata": {},
   "outputs": [],
   "source": [
    "authorizations['auth_date'] = pd.to_datetime(\n",
    "    authorizations.auth_ts, unit='s').dt.date"
   ]
  },
  {
   "cell_type": "code",
   "execution_count": 17,
   "metadata": {},
   "outputs": [
    {
     "data": {
      "text/html": [
       "<div>\n",
       "<style scoped>\n",
       "    .dataframe tbody tr th:only-of-type {\n",
       "        vertical-align: middle;\n",
       "    }\n",
       "\n",
       "    .dataframe tbody tr th {\n",
       "        vertical-align: top;\n",
       "    }\n",
       "\n",
       "    .dataframe thead th {\n",
       "        text-align: right;\n",
       "    }\n",
       "</style>\n",
       "<table border=\"1\" class=\"dataframe\">\n",
       "  <thead>\n",
       "    <tr style=\"text-align: right;\">\n",
       "      <th></th>\n",
       "      <th>auth_ts</th>\n",
       "      <th>uid</th>\n",
       "      <th>auth_date</th>\n",
       "    </tr>\n",
       "  </thead>\n",
       "  <tbody>\n",
       "    <tr>\n",
       "      <th>0</th>\n",
       "      <td>911382223</td>\n",
       "      <td>1</td>\n",
       "      <td>1998-11-18</td>\n",
       "    </tr>\n",
       "    <tr>\n",
       "      <th>1</th>\n",
       "      <td>932683089</td>\n",
       "      <td>2</td>\n",
       "      <td>1999-07-22</td>\n",
       "    </tr>\n",
       "    <tr>\n",
       "      <th>2</th>\n",
       "      <td>932921206</td>\n",
       "      <td>2</td>\n",
       "      <td>1999-07-25</td>\n",
       "    </tr>\n",
       "    <tr>\n",
       "      <th>3</th>\n",
       "      <td>933393015</td>\n",
       "      <td>2</td>\n",
       "      <td>1999-07-31</td>\n",
       "    </tr>\n",
       "    <tr>\n",
       "      <th>4</th>\n",
       "      <td>933875379</td>\n",
       "      <td>2</td>\n",
       "      <td>1999-08-05</td>\n",
       "    </tr>\n",
       "  </tbody>\n",
       "</table>\n",
       "</div>"
      ],
      "text/plain": [
       "     auth_ts  uid   auth_date\n",
       "0  911382223    1  1998-11-18\n",
       "1  932683089    2  1999-07-22\n",
       "2  932921206    2  1999-07-25\n",
       "3  933393015    2  1999-07-31\n",
       "4  933875379    2  1999-08-05"
      ]
     },
     "execution_count": 17,
     "metadata": {},
     "output_type": "execute_result"
    }
   ],
   "source": [
    "authorizations.head()"
   ]
  },
  {
   "cell_type": "markdown",
   "metadata": {},
   "source": [
    "Посмотрим на диапазон времени, в котором у нас находятся данные по авторизациям."
   ]
  },
  {
   "cell_type": "code",
   "execution_count": 18,
   "metadata": {},
   "outputs": [
    {
     "data": {
      "text/plain": [
       "min    1998-11-18\n",
       "max    2020-09-23\n",
       "Name: auth_date, dtype: object"
      ]
     },
     "execution_count": 18,
     "metadata": {},
     "output_type": "execute_result"
    }
   ],
   "source": [
    "authorizations.auth_date.agg(['min', 'max'])"
   ]
  },
  {
   "cell_type": "markdown",
   "metadata": {},
   "source": [
    "__Заключения по второму датафрейму__:\n",
    "- Всего 9601013 строк;\n",
    "- На одного пользователя имеется несколько строк с данными об авторизации;\n",
    "- Временной диапазон совпадает с данными по регистрациям;\n",
    "- Пропущенных значений нет."
   ]
  },
  {
   "cell_type": "markdown",
   "metadata": {},
   "source": [
    "__Решение задания 1__"
   ]
  },
  {
   "cell_type": "markdown",
   "metadata": {},
   "source": [
    "Функция считает retention N-го дня.\n",
    "\n",
    "В начале будет представлена сама функция с целью показать её работоспособность и вывод данных, затем подробное разъяснение каждого шага.\n",
    "\n",
    "Так как данные находятся в довольно широком временном диапазоне (более 20 лет), целесообразно ограничить формат выводимых данных. Поэтому на вход функция принимает 3 или 6 аргументов в формате строки:  'год', 'месяц', 'день'. \n",
    "Например: '2019', '03', '01' - пользователь получит данные за 2019-03-01. '2019', '03', '01', '2020', '06', '30'- пользователь получит данные с 2019-03-01 по 2020-06-30 включительно."
   ]
  },
  {
   "cell_type": "code",
   "execution_count": 120,
   "metadata": {},
   "outputs": [],
   "source": [
    "def retention_rate(year1, month1, day1, year2=1, month2=1, day2=1):\n",
    "    '''\n",
    "    Возвращает сводную таблицу с данными за 30 дней начиная с данных на следующий день.\n",
    "            Параметры:\n",
    "                    year1 (str): год в формате строки, 4 символа\n",
    "                    month1 (str): месяц в формате строки, 2 символа\n",
    "                    day1 (str): день в формате строки, 2 символа\n",
    "                    year2 (str): год в формате строки, 4 символа\n",
    "                    month2 (str): месяц в формате строки, 2 символа\n",
    "                    day2 (str): день в формате строки, 2 символа                    \n",
    "            Возвращаемое значение:\n",
    "                    Сводная таблица и график типа heatmap\n",
    "    '''    \n",
    "    # 1. Проверка, пользователю нужна одна дата или диапазон дат\n",
    "    if year2 == 1 and month2 == 1 and day2 == 1:\n",
    "        chosen_date_1 = pd.to_datetime(year1 + month1 + day1)\n",
    "        chosen_date_2 = 0\n",
    "    else:\n",
    "        chosen_date_1 = pd.to_datetime(year1 + month1 + day1)\n",
    "        chosen_date_2 = pd.to_datetime(year2 + month2 + day2)\n",
    "\n",
    "    # 2. Разбивка данных об авторизациях на когорты\n",
    "    data = authorizations.merge(\n",
    "        registrations[['uid', 'reg_date']], how='left', on='uid')\n",
    "\n",
    "    # 3.Ограничиваем основной датафрейм только нужными когортами из п.1\n",
    "    if chosen_date_2 == 0:\n",
    "        correct_data = data.loc[pd.to_datetime(data['reg_date']) == chosen_date_1]\n",
    "    else:\n",
    "        correct_data = data.loc[pd.to_datetime(data['reg_date']) >=\n",
    "                                chosen_date_1].loc[pd.to_datetime(data['reg_date']) <= chosen_date_2]\n",
    "\n",
    "    # 4. В каждой когорте подсчитываем уникальное количество пользователей, зарегистрировавшихся в этот день\n",
    "    reg_users = registrations \\\n",
    "        .groupby(['reg_date'], as_index=False) \\\n",
    "        .agg({'uid': 'nunique'}) \\\n",
    "        .rename(columns={'uid': 'reg_users'})\n",
    "\n",
    "    # 5. В отфильтрованный датафрейм из п.3 добавляем количество пользователей в когорте\n",
    "    correct_data = correct_data.merge(reg_users, how='left', on='reg_date')\n",
    "\n",
    "    # 6. Добавляем столбец с разницей дней между датой регистрации и авторизации\n",
    "    correct_data['day_diff'] = pd.to_datetime(correct_data.auth_date) - pd.to_datetime(correct_data.reg_date)\n",
    "\n",
    "    # 7. Считаем активных пользователей группируя данные по когорте и количеству дней\n",
    "    active_users_data = correct_data \\\n",
    "        .groupby(['reg_date', 'day_diff'], as_index=False) \\\n",
    "        .agg({'auth_date': 'count'}) \\\n",
    "        .rename(columns={'auth_date': 'active_users'})\n",
    "\n",
    "    # 8. По когорте и количеству дней добавляем в основной датафрейм количество активных пользователей из предыдущего шага\n",
    "    correct_data = correct_data.merge(\n",
    "        active_users_data, how='left', on=['reg_date', 'day_diff'])\n",
    "\n",
    "    # 9. Добавляем расчет retention в %\n",
    "    correct_data['retention'] = (\n",
    "        correct_data.active_users/correct_data.reg_users)\n",
    "\n",
    "    # 10. Формируем сводную таблицу с корректным выводом данных. Берем данные за 30 дней начиная с данных на следующий день\n",
    "\n",
    "    pivot_df = correct_data.query(\"day_diff < datetime.timedelta(days=31) & day_diff != datetime.timedelta(days=0)\") \\\n",
    "        .pivot_table('retention', index='reg_date', columns='day_diff') \\\n",
    "        .rename(columns=lambda x: 'Day ' + str(x).replace(' days 00:00:00', ''))\n",
    "\n",
    "    sns.set(font_scale=1, style=\"whitegrid\", rc={\n",
    "            'figure.figsize': (12, 6)})  # Добавление визуализации\n",
    "    print(sns.heatmap(pivot_df, cmap='Blues'))\n",
    "\n",
    "    return pivot_df.style \\\n",
    "        .set_caption('RR') \\\n",
    "        .background_gradient(cmap='Blues', vmin=0, vmax=0.1) \\\n",
    "        .highlight_null('white') \\\n",
    "        .format(\"{:.2%}\", na_rep=\"\")"
   ]
  },
  {
   "cell_type": "markdown",
   "metadata": {},
   "source": [
    "Также в функцию добавлена визуализация в формате _heatmap_. На мой взгляд, это оптимальный вид визуализации для этого типа данных."
   ]
  },
  {
   "cell_type": "markdown",
   "metadata": {},
   "source": [
    "Пример выполнения функции:"
   ]
  },
  {
   "cell_type": "code",
   "execution_count": 121,
   "metadata": {},
   "outputs": [
    {
     "name": "stdout",
     "output_type": "stream",
     "text": [
      "Axes(0.125,0.11;0.62x0.77)\n"
     ]
    },
    {
     "data": {
      "text/html": [
       "<style type=\"text/css\">\n",
       "#T_f2f79_row0_col0, #T_f2f79_row5_col0 {\n",
       "  background-color: #d4e4f4;\n",
       "  color: #000000;\n",
       "}\n",
       "#T_f2f79_row0_col1, #T_f2f79_row1_col19, #T_f2f79_row2_col18, #T_f2f79_row18_col12, #T_f2f79_row18_col22, #T_f2f79_row19_col2, #T_f2f79_row20_col2, #T_f2f79_row21_col2, #T_f2f79_row21_col11, #T_f2f79_row22_col19 {\n",
       "  background-color: #7cb7da;\n",
       "  color: #000000;\n",
       "}\n",
       "#T_f2f79_row0_col2, #T_f2f79_row0_col3, #T_f2f79_row0_col16, #T_f2f79_row1_col7, #T_f2f79_row2_col2, #T_f2f79_row2_col8, #T_f2f79_row2_col16, #T_f2f79_row3_col13, #T_f2f79_row20_col3, #T_f2f79_row20_col16, #T_f2f79_row21_col12, #T_f2f79_row21_col17, #T_f2f79_row21_col21, #T_f2f79_row22_col16, #T_f2f79_row22_col18, #T_f2f79_row22_col21, #T_f2f79_row23_col18 {\n",
       "  background-color: #82bbdb;\n",
       "  color: #000000;\n",
       "}\n",
       "#T_f2f79_row0_col4, #T_f2f79_row0_col11, #T_f2f79_row14_col4, #T_f2f79_row14_col5, #T_f2f79_row17_col7, #T_f2f79_row29_col5 {\n",
       "  background-color: #4d99ca;\n",
       "  color: #f1f1f1;\n",
       "}\n",
       "#T_f2f79_row0_col5, #T_f2f79_row2_col9, #T_f2f79_row3_col7, #T_f2f79_row15_col13, #T_f2f79_row16_col22, #T_f2f79_row17_col12, #T_f2f79_row18_col14 {\n",
       "  background-color: #529dcc;\n",
       "  color: #f1f1f1;\n",
       "}\n",
       "#T_f2f79_row0_col6 {\n",
       "  background-color: #2f7fbc;\n",
       "  color: #f1f1f1;\n",
       "}\n",
       "#T_f2f79_row0_col7, #T_f2f79_row1_col26, #T_f2f79_row23_col26, #T_f2f79_row24_col21, #T_f2f79_row24_col27, #T_f2f79_row25_col22, #T_f2f79_row26_col13, #T_f2f79_row27_col23, #T_f2f79_row27_col26 {\n",
       "  background-color: #a9cfe5;\n",
       "  color: #000000;\n",
       "}\n",
       "#T_f2f79_row0_col8, #T_f2f79_row14_col8, #T_f2f79_row14_col9, #T_f2f79_row14_col13, #T_f2f79_row15_col19, #T_f2f79_row17_col6, #T_f2f79_row17_col11, #T_f2f79_row18_col21 {\n",
       "  background-color: #6fb0d7;\n",
       "  color: #f1f1f1;\n",
       "}\n",
       "#T_f2f79_row0_col9, #T_f2f79_row1_col25, #T_f2f79_row2_col13, #T_f2f79_row2_col17, #T_f2f79_row2_col21, #T_f2f79_row3_col18, #T_f2f79_row5_col3, #T_f2f79_row21_col20, #T_f2f79_row21_col25, #T_f2f79_row22_col3, #T_f2f79_row22_col15, #T_f2f79_row23_col7, #T_f2f79_row23_col22, #T_f2f79_row24_col15, #T_f2f79_row25_col1 {\n",
       "  background-color: #89bedc;\n",
       "  color: #000000;\n",
       "}\n",
       "#T_f2f79_row0_col10, #T_f2f79_row1_col1, #T_f2f79_row2_col24, #T_f2f79_row24_col20, #T_f2f79_row26_col15, #T_f2f79_row26_col27, #T_f2f79_row28_col15, #T_f2f79_row28_col19, #T_f2f79_row28_col21, #T_f2f79_row29_col7, #T_f2f79_row29_col8 {\n",
       "  background-color: #a0cbe2;\n",
       "  color: #000000;\n",
       "}\n",
       "#T_f2f79_row0_col12, #T_f2f79_row12_col13, #T_f2f79_row12_col14, #T_f2f79_row15_col2, #T_f2f79_row15_col10, #T_f2f79_row28_col9, #T_f2f79_row29_col4 {\n",
       "  background-color: #56a0ce;\n",
       "  color: #f1f1f1;\n",
       "}\n",
       "#T_f2f79_row0_col13, #T_f2f79_row0_col24, #T_f2f79_row28_col29 {\n",
       "  background-color: #c1d9ed;\n",
       "  color: #000000;\n",
       "}\n",
       "#T_f2f79_row0_col14, #T_f2f79_row0_col28, #T_f2f79_row24_col24, #T_f2f79_row26_col1, #T_f2f79_row29_col27 {\n",
       "  background-color: #bcd7eb;\n",
       "  color: #000000;\n",
       "}\n",
       "#T_f2f79_row0_col15, #T_f2f79_row1_col14, #T_f2f79_row1_col15, #T_f2f79_row1_col16, #T_f2f79_row16_col23, #T_f2f79_row17_col2, #T_f2f79_row17_col10, #T_f2f79_row19_col16, #T_f2f79_row19_col19, #T_f2f79_row21_col8, #T_f2f79_row21_col14, #T_f2f79_row21_col15, #T_f2f79_row22_col8 {\n",
       "  background-color: #8dc1dd;\n",
       "  color: #000000;\n",
       "}\n",
       "#T_f2f79_row0_col17, #T_f2f79_row0_col20, #T_f2f79_row0_col21, #T_f2f79_row18_col23, #T_f2f79_row19_col3, #T_f2f79_row20_col1, #T_f2f79_row22_col22, #T_f2f79_row22_col24, #T_f2f79_row24_col28 {\n",
       "  background-color: #a4cce3;\n",
       "  color: #000000;\n",
       "}\n",
       "#T_f2f79_row0_col18, #T_f2f79_row1_col12, #T_f2f79_row18_col19, #T_f2f79_row19_col11, #T_f2f79_row20_col10, #T_f2f79_row20_col15, #T_f2f79_row23_col15, #T_f2f79_row23_col20 {\n",
       "  background-color: #94c4df;\n",
       "  color: #000000;\n",
       "}\n",
       "#T_f2f79_row0_col19, #T_f2f79_row0_col23, #T_f2f79_row0_col27, #T_f2f79_row2_col26, #T_f2f79_row4_col22, #T_f2f79_row29_col20, #T_f2f79_row29_col28, #T_f2f79_row29_col29 {\n",
       "  background-color: #b3d3e8;\n",
       "  color: #000000;\n",
       "}\n",
       "#T_f2f79_row0_col22, #T_f2f79_row3_col24, #T_f2f79_row21_col1, #T_f2f79_row23_col11, #T_f2f79_row24_col17, #T_f2f79_row24_col18, #T_f2f79_row25_col21, #T_f2f79_row25_col25, #T_f2f79_row26_col19 {\n",
       "  background-color: #9ac8e0;\n",
       "  color: #000000;\n",
       "}\n",
       "#T_f2f79_row0_col25, #T_f2f79_row0_col26, #T_f2f79_row1_col27, #T_f2f79_row6_col29 {\n",
       "  background-color: #ccdff1;\n",
       "  color: #000000;\n",
       "}\n",
       "#T_f2f79_row0_col29, #T_f2f79_row1_col24, #T_f2f79_row1_col28 {\n",
       "  background-color: #cee0f2;\n",
       "  color: #000000;\n",
       "}\n",
       "#T_f2f79_row1_col0, #T_f2f79_row1_col20, #T_f2f79_row1_col21, #T_f2f79_row2_col23 {\n",
       "  background-color: #c6dbef;\n",
       "  color: #000000;\n",
       "}\n",
       "#T_f2f79_row1_col2, #T_f2f79_row1_col8, #T_f2f79_row3_col3, #T_f2f79_row18_col11, #T_f2f79_row19_col17, #T_f2f79_row21_col9, #T_f2f79_row21_col10, #T_f2f79_row21_col22, #T_f2f79_row21_col23, #T_f2f79_row22_col11, #T_f2f79_row22_col20 {\n",
       "  background-color: #6aaed6;\n",
       "  color: #f1f1f1;\n",
       "}\n",
       "#T_f2f79_row1_col3, #T_f2f79_row1_col4, #T_f2f79_row1_col9, #T_f2f79_row3_col4, #T_f2f79_row18_col13, #T_f2f79_row19_col9, #T_f2f79_row19_col10 {\n",
       "  background-color: #57a0ce;\n",
       "  color: #f1f1f1;\n",
       "}\n",
       "#T_f2f79_row1_col5 {\n",
       "  background-color: #1764ab;\n",
       "  color: #f1f1f1;\n",
       "}\n",
       "#T_f2f79_row1_col6, #T_f2f79_row1_col10, #T_f2f79_row2_col1, #T_f2f79_row2_col10, #T_f2f79_row3_col8, #T_f2f79_row3_col12, #T_f2f79_row3_col17, #T_f2f79_row3_col19, #T_f2f79_row4_col1, #T_f2f79_row21_col16, #T_f2f79_row21_col27, #T_f2f79_row22_col13, #T_f2f79_row23_col4 {\n",
       "  background-color: #71b1d7;\n",
       "  color: #f1f1f1;\n",
       "}\n",
       "#T_f2f79_row1_col11, #T_f2f79_row16_col10, #T_f2f79_row16_col14, #T_f2f79_row17_col14, #T_f2f79_row18_col10 {\n",
       "  background-color: #60a7d2;\n",
       "  color: #f1f1f1;\n",
       "}\n",
       "#T_f2f79_row1_col13, #T_f2f79_row1_col29, #T_f2f79_row2_col27, #T_f2f79_row3_col0, #T_f2f79_row3_col25, #T_f2f79_row6_col25, #T_f2f79_row6_col28 {\n",
       "  background-color: #c9ddf0;\n",
       "  color: #000000;\n",
       "}\n",
       "#T_f2f79_row1_col17, #T_f2f79_row1_col18, #T_f2f79_row1_col22, #T_f2f79_row2_col22, #T_f2f79_row23_col17, #T_f2f79_row24_col2, #T_f2f79_row24_col26, #T_f2f79_row25_col12, #T_f2f79_row26_col18, #T_f2f79_row26_col20, #T_f2f79_row26_col22, #T_f2f79_row26_col24, #T_f2f79_row28_col18, #T_f2f79_row29_col12, #T_f2f79_row29_col19 {\n",
       "  background-color: #aed1e7;\n",
       "  color: #000000;\n",
       "}\n",
       "#T_f2f79_row1_col23, #T_f2f79_row2_col0, #T_f2f79_row3_col26, #T_f2f79_row3_col27, #T_f2f79_row4_col29, #T_f2f79_row5_col24, #T_f2f79_row6_col13, #T_f2f79_row7_col20, #T_f2f79_row7_col23, #T_f2f79_row7_col28, #T_f2f79_row8_col21 {\n",
       "  background-color: #bdd7ec;\n",
       "  color: #000000;\n",
       "}\n",
       "#T_f2f79_row2_col3, #T_f2f79_row2_col7, #T_f2f79_row15_col5, #T_f2f79_row16_col6 {\n",
       "  background-color: #3484bf;\n",
       "  color: #f1f1f1;\n",
       "}\n",
       "#T_f2f79_row2_col4, #T_f2f79_row2_col12, #T_f2f79_row16_col2, #T_f2f79_row18_col9, #T_f2f79_row18_col16, #T_f2f79_row19_col8, #T_f2f79_row20_col6 {\n",
       "  background-color: #65aad4;\n",
       "  color: #f1f1f1;\n",
       "}\n",
       "#T_f2f79_row2_col5, #T_f2f79_row4_col12, #T_f2f79_row18_col4 {\n",
       "  background-color: #3888c1;\n",
       "  color: #f1f1f1;\n",
       "}\n",
       "#T_f2f79_row2_col6, #T_f2f79_row4_col8, #T_f2f79_row18_col7 {\n",
       "  background-color: #4493c7;\n",
       "  color: #f1f1f1;\n",
       "}\n",
       "#T_f2f79_row2_col11, #T_f2f79_row4_col3, #T_f2f79_row4_col7, #T_f2f79_row5_col12, #T_f2f79_row5_col15, #T_f2f79_row19_col12, #T_f2f79_row20_col14, #T_f2f79_row21_col13, #T_f2f79_row22_col14, #T_f2f79_row23_col24 {\n",
       "  background-color: #61a7d2;\n",
       "  color: #f1f1f1;\n",
       "}\n",
       "#T_f2f79_row2_col14, #T_f2f79_row3_col15, #T_f2f79_row3_col21, #T_f2f79_row3_col29, #T_f2f79_row4_col13, #T_f2f79_row4_col18, #T_f2f79_row5_col16, #T_f2f79_row5_col21, #T_f2f79_row5_col26, #T_f2f79_row5_col28, #T_f2f79_row24_col8, #T_f2f79_row24_col23, #T_f2f79_row25_col11, #T_f2f79_row25_col13, #T_f2f79_row26_col10, #T_f2f79_row28_col17 {\n",
       "  background-color: #8fc2de;\n",
       "  color: #000000;\n",
       "}\n",
       "#T_f2f79_row2_col15, #T_f2f79_row4_col4, #T_f2f79_row4_col15, #T_f2f79_row18_col3, #T_f2f79_row19_col14 {\n",
       "  background-color: #5ca4d0;\n",
       "  color: #f1f1f1;\n",
       "}\n",
       "#T_f2f79_row2_col19, #T_f2f79_row2_col25, #T_f2f79_row3_col1, #T_f2f79_row4_col20, #T_f2f79_row5_col25, #T_f2f79_row6_col1, #T_f2f79_row7_col13, #T_f2f79_row8_col24, #T_f2f79_row28_col22, #T_f2f79_row29_col18 {\n",
       "  background-color: #aacfe5;\n",
       "  color: #000000;\n",
       "}\n",
       "#T_f2f79_row2_col20, #T_f2f79_row3_col16, #T_f2f79_row4_col10, #T_f2f79_row5_col20, #T_f2f79_row6_col10, #T_f2f79_row6_col16, #T_f2f79_row6_col26, #T_f2f79_row8_col7, #T_f2f79_row8_col14, #T_f2f79_row8_col18, #T_f2f79_row8_col20, #T_f2f79_row25_col20, #T_f2f79_row26_col9, #T_f2f79_row27_col22, #T_f2f79_row27_col27, #T_f2f79_row29_col14, #T_f2f79_row29_col17, #T_f2f79_row29_col22 {\n",
       "  background-color: #95c5df;\n",
       "  color: #000000;\n",
       "}\n",
       "#T_f2f79_row2_col28, #T_f2f79_row4_col24, #T_f2f79_row5_col1, #T_f2f79_row5_col18, #T_f2f79_row6_col17 {\n",
       "  background-color: #b8d5ea;\n",
       "  color: #000000;\n",
       "}\n",
       "#T_f2f79_row2_col29, #T_f2f79_row3_col20, #T_f2f79_row4_col26, #T_f2f79_row4_col27, #T_f2f79_row6_col27, #T_f2f79_row10_col24 {\n",
       "  background-color: #c2d9ee;\n",
       "  color: #000000;\n",
       "}\n",
       "#T_f2f79_row3_col2, #T_f2f79_row5_col23, #T_f2f79_row24_col13, #T_f2f79_row24_col19, #T_f2f79_row25_col6, #T_f2f79_row25_col18, #T_f2f79_row26_col11, #T_f2f79_row27_col19 {\n",
       "  background-color: #7db8da;\n",
       "  color: #000000;\n",
       "}\n",
       "#T_f2f79_row3_col5 {\n",
       "  background-color: #084e98;\n",
       "  color: #f1f1f1;\n",
       "}\n",
       "#T_f2f79_row3_col6, #T_f2f79_row15_col9, #T_f2f79_row15_col11 {\n",
       "  background-color: #3f8fc5;\n",
       "  color: #f1f1f1;\n",
       "}\n",
       "#T_f2f79_row3_col9, #T_f2f79_row3_col10, #T_f2f79_row16_col3, #T_f2f79_row16_col8, #T_f2f79_row17_col4, #T_f2f79_row18_col5 {\n",
       "  background-color: #4997c9;\n",
       "  color: #f1f1f1;\n",
       "}\n",
       "#T_f2f79_row3_col11, #T_f2f79_row4_col9, #T_f2f79_row5_col2, #T_f2f79_row5_col9, #T_f2f79_row5_col10, #T_f2f79_row6_col12, #T_f2f79_row21_col7, #T_f2f79_row22_col2, #T_f2f79_row22_col9, #T_f2f79_row23_col8, #T_f2f79_row23_col12, #T_f2f79_row23_col14, #T_f2f79_row24_col6 {\n",
       "  background-color: #66abd4;\n",
       "  color: #f1f1f1;\n",
       "}\n",
       "#T_f2f79_row3_col14, #T_f2f79_row3_col23, #T_f2f79_row5_col22, #T_f2f79_row6_col3, #T_f2f79_row21_col3, #T_f2f79_row22_col7, #T_f2f79_row23_col16, #T_f2f79_row23_col19, #T_f2f79_row24_col14, #T_f2f79_row25_col14, #T_f2f79_row25_col19, #T_f2f79_row25_col26 {\n",
       "  background-color: #77b5d9;\n",
       "  color: #000000;\n",
       "}\n",
       "#T_f2f79_row3_col22, #T_f2f79_row26_col29, #T_f2f79_row27_col25 {\n",
       "  background-color: #a5cde3;\n",
       "  color: #000000;\n",
       "}\n",
       "#T_f2f79_row3_col28, #T_f2f79_row6_col0, #T_f2f79_row6_col23, #T_f2f79_row10_col0, #T_f2f79_row10_col26, #T_f2f79_row11_col27 {\n",
       "  background-color: #cfe1f2;\n",
       "  color: #000000;\n",
       "}\n",
       "#T_f2f79_row4_col0 {\n",
       "  background-color: #d2e3f3;\n",
       "  color: #000000;\n",
       "}\n",
       "#T_f2f79_row4_col2, #T_f2f79_row4_col6, #T_f2f79_row4_col11, #T_f2f79_row6_col2, #T_f2f79_row18_col6, #T_f2f79_row20_col5, #T_f2f79_row20_col9 {\n",
       "  background-color: #4e9acb;\n",
       "  color: #f1f1f1;\n",
       "}\n",
       "#T_f2f79_row4_col5, #T_f2f79_row27_col5 {\n",
       "  background-color: #1b69af;\n",
       "  color: #f1f1f1;\n",
       "}\n",
       "#T_f2f79_row4_col14, #T_f2f79_row4_col17, #T_f2f79_row4_col19, #T_f2f79_row4_col23, #T_f2f79_row4_col25, #T_f2f79_row5_col27, #T_f2f79_row6_col7, #T_f2f79_row6_col18, #T_f2f79_row6_col19, #T_f2f79_row7_col27, #T_f2f79_row8_col17, #T_f2f79_row8_col25, #T_f2f79_row27_col1, #T_f2f79_row27_col29, #T_f2f79_row28_col24, #T_f2f79_row28_col28 {\n",
       "  background-color: #9cc9e1;\n",
       "  color: #000000;\n",
       "}\n",
       "#T_f2f79_row4_col16, #T_f2f79_row4_col28, #T_f2f79_row6_col21, #T_f2f79_row7_col24 {\n",
       "  background-color: #afd1e7;\n",
       "  color: #000000;\n",
       "}\n",
       "#T_f2f79_row4_col21, #T_f2f79_row5_col8, #T_f2f79_row5_col17, #T_f2f79_row6_col9, #T_f2f79_row6_col20, #T_f2f79_row7_col12, #T_f2f79_row7_col19, #T_f2f79_row8_col5, #T_f2f79_row24_col1, #T_f2f79_row24_col7, #T_f2f79_row26_col16, #T_f2f79_row27_col18, #T_f2f79_row27_col21, #T_f2f79_row29_col15 {\n",
       "  background-color: #84bcdb;\n",
       "  color: #000000;\n",
       "}\n",
       "#T_f2f79_row5_col4, #T_f2f79_row6_col4, #T_f2f79_row7_col10, #T_f2f79_row19_col5, #T_f2f79_row19_col6, #T_f2f79_row20_col8, #T_f2f79_row23_col2 {\n",
       "  background-color: #4594c7;\n",
       "  color: #f1f1f1;\n",
       "}\n",
       "#T_f2f79_row5_col5 {\n",
       "  background-color: #1966ad;\n",
       "  color: #f1f1f1;\n",
       "}\n",
       "#T_f2f79_row5_col6 {\n",
       "  background-color: #2575b7;\n",
       "  color: #f1f1f1;\n",
       "}\n",
       "#T_f2f79_row5_col7, #T_f2f79_row5_col19, #T_f2f79_row7_col3, #T_f2f79_row7_col4, #T_f2f79_row7_col14, #T_f2f79_row8_col3, #T_f2f79_row23_col1, #T_f2f79_row23_col10, #T_f2f79_row23_col13, #T_f2f79_row25_col17 {\n",
       "  background-color: #6caed6;\n",
       "  color: #f1f1f1;\n",
       "}\n",
       "#T_f2f79_row5_col11, #T_f2f79_row7_col5, #T_f2f79_row20_col4, #T_f2f79_row21_col4, #T_f2f79_row23_col9 {\n",
       "  background-color: #539ecd;\n",
       "  color: #f1f1f1;\n",
       "}\n",
       "#T_f2f79_row5_col13, #T_f2f79_row8_col4, #T_f2f79_row21_col6, #T_f2f79_row24_col11, #T_f2f79_row24_col16 {\n",
       "  background-color: #58a1cf;\n",
       "  color: #f1f1f1;\n",
       "}\n",
       "#T_f2f79_row5_col14, #T_f2f79_row5_col29, #T_f2f79_row9_col28, #T_f2f79_row10_col18, #T_f2f79_row10_col27, #T_f2f79_row12_col27 {\n",
       "  background-color: #b4d3e9;\n",
       "  color: #000000;\n",
       "}\n",
       "#T_f2f79_row6_col5, #T_f2f79_row6_col14, #T_f2f79_row7_col15, #T_f2f79_row8_col8, #T_f2f79_row8_col12, #T_f2f79_row9_col17, #T_f2f79_row24_col10, #T_f2f79_row26_col14, #T_f2f79_row27_col24 {\n",
       "  background-color: #72b2d8;\n",
       "  color: #f1f1f1;\n",
       "}\n",
       "#T_f2f79_row6_col6, #T_f2f79_row22_col5 {\n",
       "  background-color: #3989c1;\n",
       "  color: #f1f1f1;\n",
       "}\n",
       "#T_f2f79_row6_col8, #T_f2f79_row9_col8, #T_f2f79_row9_col9, #T_f2f79_row10_col6 {\n",
       "  background-color: #4a98c9;\n",
       "  color: #f1f1f1;\n",
       "}\n",
       "#T_f2f79_row6_col11, #T_f2f79_row7_col11, #T_f2f79_row9_col13, #T_f2f79_row10_col10, #T_f2f79_row22_col17, #T_f2f79_row23_col6, #T_f2f79_row24_col3 {\n",
       "  background-color: #5da5d1;\n",
       "  color: #f1f1f1;\n",
       "}\n",
       "#T_f2f79_row6_col15, #T_f2f79_row6_col22, #T_f2f79_row9_col1, #T_f2f79_row9_col21, #T_f2f79_row10_col12, #T_f2f79_row10_col25, #T_f2f79_row26_col3, #T_f2f79_row26_col21, #T_f2f79_row28_col23, #T_f2f79_row29_col21 {\n",
       "  background-color: #8abfdd;\n",
       "  color: #000000;\n",
       "}\n",
       "#T_f2f79_row6_col24, #T_f2f79_row7_col25, #T_f2f79_row8_col29, #T_f2f79_row9_col29 {\n",
       "  background-color: #c7dbef;\n",
       "  color: #000000;\n",
       "}\n",
       "#T_f2f79_row7_col0, #T_f2f79_row11_col0, #T_f2f79_row14_col27, #T_f2f79_row16_col17, #T_f2f79_row17_col26, #T_f2f79_row17_col29 {\n",
       "  background-color: #caddf0;\n",
       "  color: #000000;\n",
       "}\n",
       "#T_f2f79_row7_col1, #T_f2f79_row7_col2, #T_f2f79_row7_col18, #T_f2f79_row9_col20, #T_f2f79_row11_col10, #T_f2f79_row26_col7, #T_f2f79_row26_col8, #T_f2f79_row27_col10, #T_f2f79_row28_col1, #T_f2f79_row28_col13, #T_f2f79_row28_col20, #T_f2f79_row29_col24 {\n",
       "  background-color: #79b5d9;\n",
       "  color: #000000;\n",
       "}\n",
       "#T_f2f79_row7_col6 {\n",
       "  background-color: #3585bf;\n",
       "  color: #f1f1f1;\n",
       "}\n",
       "#T_f2f79_row7_col7, #T_f2f79_row7_col17, #T_f2f79_row8_col15, #T_f2f79_row8_col22, #T_f2f79_row8_col23, #T_f2f79_row9_col16, #T_f2f79_row9_col26, #T_f2f79_row10_col2, #T_f2f79_row10_col19, #T_f2f79_row10_col23, #T_f2f79_row11_col18, #T_f2f79_row29_col3 {\n",
       "  background-color: #91c3de;\n",
       "  color: #000000;\n",
       "}\n",
       "#T_f2f79_row7_col8, #T_f2f79_row9_col3, #T_f2f79_row9_col6, #T_f2f79_row9_col15, #T_f2f79_row9_col22, #T_f2f79_row10_col3, #T_f2f79_row10_col17, #T_f2f79_row25_col16, #T_f2f79_row25_col23, #T_f2f79_row27_col11, #T_f2f79_row27_col14 {\n",
       "  background-color: #63a8d3;\n",
       "  color: #f1f1f1;\n",
       "}\n",
       "#T_f2f79_row7_col9, #T_f2f79_row7_col22, #T_f2f79_row8_col1, #T_f2f79_row10_col1, #T_f2f79_row11_col26 {\n",
       "  background-color: #a1cbe2;\n",
       "  color: #000000;\n",
       "}\n",
       "#T_f2f79_row7_col16, #T_f2f79_row7_col26, #T_f2f79_row8_col16, #T_f2f79_row8_col26, #T_f2f79_row8_col28, #T_f2f79_row9_col23, #T_f2f79_row11_col1, #T_f2f79_row13_col21, #T_f2f79_row13_col28, #T_f2f79_row14_col25, #T_f2f79_row14_col29 {\n",
       "  background-color: #b9d6ea;\n",
       "  color: #000000;\n",
       "}\n",
       "#T_f2f79_row7_col21, #T_f2f79_row8_col11, #T_f2f79_row8_col19, #T_f2f79_row10_col8, #T_f2f79_row10_col16, #T_f2f79_row11_col22, #T_f2f79_row11_col23, #T_f2f79_row12_col21, #T_f2f79_row12_col28 {\n",
       "  background-color: #a6cee4;\n",
       "  color: #000000;\n",
       "}\n",
       "#T_f2f79_row7_col29 {\n",
       "  background-color: #d7e6f5;\n",
       "  color: #000000;\n",
       "}\n",
       "#T_f2f79_row8_col0, #T_f2f79_row8_col27, #T_f2f79_row14_col0, #T_f2f79_row20_col0 {\n",
       "  background-color: #e0ecf8;\n",
       "  color: #000000;\n",
       "}\n",
       "#T_f2f79_row8_col2, #T_f2f79_row8_col9, #T_f2f79_row8_col10, #T_f2f79_row8_col13, #T_f2f79_row9_col2, #T_f2f79_row9_col12, #T_f2f79_row10_col14, #T_f2f79_row11_col13, #T_f2f79_row12_col16, #T_f2f79_row25_col2, #T_f2f79_row26_col6, #T_f2f79_row26_col17, #T_f2f79_row27_col6, #T_f2f79_row27_col7, #T_f2f79_row27_col20, #T_f2f79_row29_col9 {\n",
       "  background-color: #68acd5;\n",
       "  color: #f1f1f1;\n",
       "}\n",
       "#T_f2f79_row8_col6, #T_f2f79_row9_col11, #T_f2f79_row24_col9, #T_f2f79_row25_col8, #T_f2f79_row27_col12 {\n",
       "  background-color: #549fcd;\n",
       "  color: #f1f1f1;\n",
       "}\n",
       "#T_f2f79_row9_col0, #T_f2f79_row10_col22, #T_f2f79_row13_col0, #T_f2f79_row17_col27, #T_f2f79_row20_col19 {\n",
       "  background-color: #cddff1;\n",
       "  color: #000000;\n",
       "}\n",
       "#T_f2f79_row9_col4, #T_f2f79_row11_col5, #T_f2f79_row12_col4 {\n",
       "  background-color: #3a8ac2;\n",
       "  color: #f1f1f1;\n",
       "}\n",
       "#T_f2f79_row9_col5, #T_f2f79_row12_col6 {\n",
       "  background-color: #1460a8;\n",
       "  color: #f1f1f1;\n",
       "}\n",
       "#T_f2f79_row9_col7, #T_f2f79_row10_col11 {\n",
       "  background-color: #3282be;\n",
       "  color: #f1f1f1;\n",
       "}\n",
       "#T_f2f79_row9_col10, #T_f2f79_row9_col14, #T_f2f79_row24_col4 {\n",
       "  background-color: #4f9bcb;\n",
       "  color: #f1f1f1;\n",
       "}\n",
       "#T_f2f79_row9_col18, #T_f2f79_row9_col19, #T_f2f79_row9_col25, #T_f2f79_row11_col15, #T_f2f79_row12_col3, #T_f2f79_row13_col12, #T_f2f79_row29_col10, #T_f2f79_row29_col11, #T_f2f79_row29_col16 {\n",
       "  background-color: #7fb9da;\n",
       "  color: #000000;\n",
       "}\n",
       "#T_f2f79_row9_col24, #T_f2f79_row10_col15, #T_f2f79_row11_col21, #T_f2f79_row12_col18, #T_f2f79_row13_col2, #T_f2f79_row13_col11, #T_f2f79_row14_col12, #T_f2f79_row14_col22 {\n",
       "  background-color: #85bcdc;\n",
       "  color: #000000;\n",
       "}\n",
       "#T_f2f79_row9_col27, #T_f2f79_row10_col9, #T_f2f79_row10_col20, #T_f2f79_row11_col16, #T_f2f79_row11_col28, #T_f2f79_row12_col29 {\n",
       "  background-color: #abd0e6;\n",
       "  color: #000000;\n",
       "}\n",
       "#T_f2f79_row10_col4, #T_f2f79_row10_col21, #T_f2f79_row26_col5, #T_f2f79_row27_col15, #T_f2f79_row28_col2, #T_f2f79_row28_col3, #T_f2f79_row28_col12, #T_f2f79_row29_col2 {\n",
       "  background-color: #5aa2cf;\n",
       "  color: #f1f1f1;\n",
       "}\n",
       "#T_f2f79_row10_col5 {\n",
       "  background-color: #115ca5;\n",
       "  color: #f1f1f1;\n",
       "}\n",
       "#T_f2f79_row10_col7, #T_f2f79_row10_col13, #T_f2f79_row11_col11, #T_f2f79_row11_col14, #T_f2f79_row11_col19, #T_f2f79_row12_col24 {\n",
       "  background-color: #97c6df;\n",
       "  color: #000000;\n",
       "}\n",
       "#T_f2f79_row10_col28, #T_f2f79_row10_col29, #T_f2f79_row11_col24, #T_f2f79_row15_col27, #T_f2f79_row16_col24, #T_f2f79_row16_col29, #T_f2f79_row17_col0 {\n",
       "  background-color: #bed8ec;\n",
       "  color: #000000;\n",
       "}\n",
       "#T_f2f79_row11_col2, #T_f2f79_row11_col12, #T_f2f79_row11_col17, #T_f2f79_row14_col6, #T_f2f79_row14_col17, #T_f2f79_row26_col2, #T_f2f79_row27_col2, #T_f2f79_row28_col8, #T_f2f79_row28_col16, #T_f2f79_row29_col6 {\n",
       "  background-color: #5fa6d1;\n",
       "  color: #f1f1f1;\n",
       "}\n",
       "#T_f2f79_row11_col3, #T_f2f79_row11_col8, #T_f2f79_row12_col10, #T_f2f79_row26_col12, #T_f2f79_row27_col9, #T_f2f79_row28_col6, #T_f2f79_row28_col7 {\n",
       "  background-color: #519ccc;\n",
       "  color: #f1f1f1;\n",
       "}\n",
       "#T_f2f79_row11_col4, #T_f2f79_row25_col7, #T_f2f79_row27_col8, #T_f2f79_row27_col16 {\n",
       "  background-color: #4b98ca;\n",
       "  color: #f1f1f1;\n",
       "}\n",
       "#T_f2f79_row11_col6, #T_f2f79_row23_col5 {\n",
       "  background-color: #2676b8;\n",
       "  color: #f1f1f1;\n",
       "}\n",
       "#T_f2f79_row11_col7, #T_f2f79_row12_col7, #T_f2f79_row13_col8, #T_f2f79_row14_col7, #T_f2f79_row14_col11, #T_f2f79_row15_col3, #T_f2f79_row29_col13 {\n",
       "  background-color: #74b3d8;\n",
       "  color: #000000;\n",
       "}\n",
       "#T_f2f79_row11_col9, #T_f2f79_row12_col19, #T_f2f79_row28_col14 {\n",
       "  background-color: #64a9d3;\n",
       "  color: #f1f1f1;\n",
       "}\n",
       "#T_f2f79_row11_col20, #T_f2f79_row11_col25, #T_f2f79_row11_col29, #T_f2f79_row18_col27 {\n",
       "  background-color: #c3daee;\n",
       "  color: #000000;\n",
       "}\n",
       "#T_f2f79_row12_col0 {\n",
       "  background-color: #ddeaf7;\n",
       "  color: #000000;\n",
       "}\n",
       "#T_f2f79_row12_col1, #T_f2f79_row13_col6, #T_f2f79_row27_col17, #T_f2f79_row28_col5, #T_f2f79_row28_col11 {\n",
       "  background-color: #6dafd7;\n",
       "  color: #f1f1f1;\n",
       "}\n",
       "#T_f2f79_row12_col2, #T_f2f79_row12_col9, #T_f2f79_row12_col11, #T_f2f79_row13_col3, #T_f2f79_row13_col14, #T_f2f79_row14_col2, #T_f2f79_row15_col15, #T_f2f79_row16_col20, #T_f2f79_row17_col18 {\n",
       "  background-color: #7ab6d9;\n",
       "  color: #000000;\n",
       "}\n",
       "#T_f2f79_row12_col5, #T_f2f79_row24_col12, #T_f2f79_row25_col9, #T_f2f79_row27_col13 {\n",
       "  background-color: #3e8ec4;\n",
       "  color: #f1f1f1;\n",
       "}\n",
       "#T_f2f79_row12_col8, #T_f2f79_row12_col20, #T_f2f79_row12_col23, #T_f2f79_row13_col16, #T_f2f79_row13_col22, #T_f2f79_row14_col1, #T_f2f79_row14_col3, #T_f2f79_row14_col10, #T_f2f79_row14_col19, #T_f2f79_row15_col21 {\n",
       "  background-color: #9dcae1;\n",
       "  color: #000000;\n",
       "}\n",
       "#T_f2f79_row12_col12, #T_f2f79_row25_col4 {\n",
       "  background-color: #4695c8;\n",
       "  color: #f1f1f1;\n",
       "}\n",
       "#T_f2f79_row12_col15, #T_f2f79_row12_col22, #T_f2f79_row13_col7, #T_f2f79_row13_col13, #T_f2f79_row13_col24, #T_f2f79_row14_col16, #T_f2f79_row15_col14, #T_f2f79_row15_col18 {\n",
       "  background-color: #8cc0dd;\n",
       "  color: #000000;\n",
       "}\n",
       "#T_f2f79_row12_col17, #T_f2f79_row12_col25, #T_f2f79_row12_col26, #T_f2f79_row13_col10, #T_f2f79_row13_col20, #T_f2f79_row14_col14, #T_f2f79_row15_col29, #T_f2f79_row16_col21, #T_f2f79_row16_col28 {\n",
       "  background-color: #a3cce3;\n",
       "  color: #000000;\n",
       "}\n",
       "#T_f2f79_row13_col1, #T_f2f79_row13_col15, #T_f2f79_row13_col18, #T_f2f79_row13_col19, #T_f2f79_row15_col28 {\n",
       "  background-color: #92c4de;\n",
       "  color: #000000;\n",
       "}\n",
       "#T_f2f79_row13_col4, #T_f2f79_row15_col12, #T_f2f79_row16_col15, #T_f2f79_row17_col1 {\n",
       "  background-color: #69add5;\n",
       "  color: #f1f1f1;\n",
       "}\n",
       "#T_f2f79_row13_col5 {\n",
       "  background-color: #4292c6;\n",
       "  color: #f1f1f1;\n",
       "}\n",
       "#T_f2f79_row13_col9, #T_f2f79_row15_col4, #T_f2f79_row25_col3 {\n",
       "  background-color: #2c7cba;\n",
       "  color: #f1f1f1;\n",
       "}\n",
       "#T_f2f79_row13_col17, #T_f2f79_row23_col25 {\n",
       "  background-color: #d0e1f2;\n",
       "  color: #000000;\n",
       "}\n",
       "#T_f2f79_row13_col23, #T_f2f79_row14_col18, #T_f2f79_row14_col24, #T_f2f79_row14_col26, #T_f2f79_row15_col1, #T_f2f79_row15_col25, #T_f2f79_row17_col23, #T_f2f79_row17_col28, #T_f2f79_row19_col20, #T_f2f79_row19_col27, #T_f2f79_row19_col28, #T_f2f79_row20_col11 {\n",
       "  background-color: #b5d4e9;\n",
       "  color: #000000;\n",
       "}\n",
       "#T_f2f79_row13_col25, #T_f2f79_row13_col26, #T_f2f79_row14_col15, #T_f2f79_row14_col21 {\n",
       "  background-color: #b0d2e7;\n",
       "  color: #000000;\n",
       "}\n",
       "#T_f2f79_row13_col27, #T_f2f79_row15_col0, #T_f2f79_row18_col0, #T_f2f79_row23_col0 {\n",
       "  background-color: #d8e7f5;\n",
       "  color: #000000;\n",
       "}\n",
       "#T_f2f79_row13_col29 {\n",
       "  background-color: #d5e5f4;\n",
       "  color: #000000;\n",
       "}\n",
       "#T_f2f79_row14_col20, #T_f2f79_row16_col1, #T_f2f79_row17_col3, #T_f2f79_row17_col21, #T_f2f79_row18_col8, #T_f2f79_row18_col26, #T_f2f79_row19_col7, #T_f2f79_row19_col13, #T_f2f79_row19_col22, #T_f2f79_row20_col17, #T_f2f79_row20_col23 {\n",
       "  background-color: #a8cee4;\n",
       "  color: #000000;\n",
       "}\n",
       "#T_f2f79_row14_col23, #T_f2f79_row14_col28, #T_f2f79_row16_col0, #T_f2f79_row19_col0, #T_f2f79_row19_col26, #T_f2f79_row20_col26, #T_f2f79_row20_col27, #T_f2f79_row21_col26, #T_f2f79_row21_col29, #T_f2f79_row23_col28 {\n",
       "  background-color: #c7dcef;\n",
       "  color: #000000;\n",
       "}\n",
       "#T_f2f79_row15_col6, #T_f2f79_row15_col8 {\n",
       "  background-color: #3b8bc2;\n",
       "  color: #f1f1f1;\n",
       "}\n",
       "#T_f2f79_row15_col7, #T_f2f79_row15_col20, #T_f2f79_row15_col22, #T_f2f79_row15_col24, #T_f2f79_row16_col19, #T_f2f79_row16_col25, #T_f2f79_row17_col17, #T_f2f79_row18_col18, #T_f2f79_row18_col25, #T_f2f79_row19_col1, #T_f2f79_row19_col15, #T_f2f79_row19_col24, #T_f2f79_row20_col18, #T_f2f79_row20_col20 {\n",
       "  background-color: #99c7e0;\n",
       "  color: #000000;\n",
       "}\n",
       "#T_f2f79_row15_col16, #T_f2f79_row15_col23, #T_f2f79_row17_col9, #T_f2f79_row17_col19, #T_f2f79_row17_col24, #T_f2f79_row18_col1, #T_f2f79_row18_col15, #T_f2f79_row18_col17 {\n",
       "  background-color: #81badb;\n",
       "  color: #000000;\n",
       "}\n",
       "#T_f2f79_row15_col17, #T_f2f79_row28_col4 {\n",
       "  background-color: #4896c8;\n",
       "  color: #f1f1f1;\n",
       "}\n",
       "#T_f2f79_row15_col26, #T_f2f79_row16_col13, #T_f2f79_row17_col13, #T_f2f79_row17_col15, #T_f2f79_row17_col22, #T_f2f79_row19_col18, #T_f2f79_row20_col7, #T_f2f79_row20_col12 {\n",
       "  background-color: #87bddc;\n",
       "  color: #000000;\n",
       "}\n",
       "#T_f2f79_row16_col4, #T_f2f79_row16_col7 {\n",
       "  background-color: #5ba3d0;\n",
       "  color: #f1f1f1;\n",
       "}\n",
       "#T_f2f79_row16_col5 {\n",
       "  background-color: #2d7dbb;\n",
       "  color: #f1f1f1;\n",
       "}\n",
       "#T_f2f79_row16_col9 {\n",
       "  background-color: #2979b9;\n",
       "  color: #f1f1f1;\n",
       "}\n",
       "#T_f2f79_row16_col11, #T_f2f79_row16_col12, #T_f2f79_row17_col8, #T_f2f79_row18_col2, #T_f2f79_row19_col21 {\n",
       "  background-color: #75b4d8;\n",
       "  color: #000000;\n",
       "}\n",
       "#T_f2f79_row16_col16 {\n",
       "  background-color: #3c8cc3;\n",
       "  color: #f1f1f1;\n",
       "}\n",
       "#T_f2f79_row16_col18, #T_f2f79_row16_col27, #T_f2f79_row17_col16, #T_f2f79_row17_col20, #T_f2f79_row18_col24, #T_f2f79_row21_col18, #T_f2f79_row21_col19, #T_f2f79_row22_col1, #T_f2f79_row22_col12, #T_f2f79_row22_col26, #T_f2f79_row22_col27 {\n",
       "  background-color: #9fcae1;\n",
       "  color: #000000;\n",
       "}\n",
       "#T_f2f79_row16_col26, #T_f2f79_row18_col20, #T_f2f79_row18_col28, #T_f2f79_row18_col29, #T_f2f79_row19_col23, #T_f2f79_row20_col29, #T_f2f79_row22_col23 {\n",
       "  background-color: #bad6eb;\n",
       "  color: #000000;\n",
       "}\n",
       "#T_f2f79_row17_col5 {\n",
       "  background-color: #2171b5;\n",
       "  color: #f1f1f1;\n",
       "}\n",
       "#T_f2f79_row17_col25, #T_f2f79_row20_col13, #T_f2f79_row22_col25 {\n",
       "  background-color: #add0e6;\n",
       "  color: #000000;\n",
       "}\n",
       "#T_f2f79_row19_col4 {\n",
       "  background-color: #3181bd;\n",
       "  color: #f1f1f1;\n",
       "}\n",
       "#T_f2f79_row19_col25, #T_f2f79_row20_col21, #T_f2f79_row24_col25, #T_f2f79_row25_col27 {\n",
       "  background-color: #b2d2e8;\n",
       "  color: #000000;\n",
       "}\n",
       "#T_f2f79_row19_col29, #T_f2f79_row20_col25, #T_f2f79_row22_col0, #T_f2f79_row23_col21 {\n",
       "  background-color: #cadef0;\n",
       "  color: #000000;\n",
       "}\n",
       "#T_f2f79_row20_col22, #T_f2f79_row20_col24, #T_f2f79_row21_col24, #T_f2f79_row21_col28, #T_f2f79_row23_col23, #T_f2f79_row23_col27 {\n",
       "  background-color: #bfd8ed;\n",
       "  color: #000000;\n",
       "}\n",
       "#T_f2f79_row20_col28 {\n",
       "  background-color: #d3e3f3;\n",
       "  color: #000000;\n",
       "}\n",
       "#T_f2f79_row21_col0 {\n",
       "  background-color: #d6e5f4;\n",
       "  color: #000000;\n",
       "}\n",
       "#T_f2f79_row21_col5 {\n",
       "  background-color: #2272b6;\n",
       "  color: #f1f1f1;\n",
       "}\n",
       "#T_f2f79_row22_col4, #T_f2f79_row23_col3 {\n",
       "  background-color: #2b7bba;\n",
       "  color: #f1f1f1;\n",
       "}\n",
       "#T_f2f79_row22_col6 {\n",
       "  background-color: #3686c0;\n",
       "  color: #f1f1f1;\n",
       "}\n",
       "#T_f2f79_row22_col10 {\n",
       "  background-color: #2e7ebc;\n",
       "  color: #f1f1f1;\n",
       "}\n",
       "#T_f2f79_row22_col28, #T_f2f79_row23_col29, #T_f2f79_row25_col24, #T_f2f79_row27_col28, #T_f2f79_row28_col25, #T_f2f79_row29_col25 {\n",
       "  background-color: #c4daee;\n",
       "  color: #000000;\n",
       "}\n",
       "#T_f2f79_row22_col29, #T_f2f79_row24_col22, #T_f2f79_row24_col29, #T_f2f79_row25_col28, #T_f2f79_row26_col23, #T_f2f79_row26_col26, #T_f2f79_row28_col10, #T_f2f79_row28_col26 {\n",
       "  background-color: #b7d4ea;\n",
       "  color: #000000;\n",
       "}\n",
       "#T_f2f79_row24_col0, #T_f2f79_row25_col29, #T_f2f79_row26_col28 {\n",
       "  background-color: #c8dcf0;\n",
       "  color: #000000;\n",
       "}\n",
       "#T_f2f79_row24_col5 {\n",
       "  background-color: #1865ac;\n",
       "  color: #f1f1f1;\n",
       "}\n",
       "#T_f2f79_row25_col0 {\n",
       "  background-color: #deebf7;\n",
       "  color: #000000;\n",
       "}\n",
       "#T_f2f79_row25_col5 {\n",
       "  background-color: #1d6cb1;\n",
       "  color: #f1f1f1;\n",
       "}\n",
       "#T_f2f79_row25_col10 {\n",
       "  background-color: #3383be;\n",
       "  color: #f1f1f1;\n",
       "}\n",
       "#T_f2f79_row25_col15 {\n",
       "  background-color: #4191c6;\n",
       "  color: #f1f1f1;\n",
       "}\n",
       "#T_f2f79_row26_col0 {\n",
       "  background-color: #d9e7f5;\n",
       "  color: #000000;\n",
       "}\n",
       "#T_f2f79_row26_col4, #T_f2f79_row27_col4 {\n",
       "  background-color: #3787c0;\n",
       "  color: #f1f1f1;\n",
       "}\n",
       "#T_f2f79_row26_col25, #T_f2f79_row29_col1, #T_f2f79_row29_col23 {\n",
       "  background-color: #cde0f1;\n",
       "  color: #000000;\n",
       "}\n",
       "#T_f2f79_row27_col0, #T_f2f79_row29_col0 {\n",
       "  background-color: #d0e2f2;\n",
       "  color: #000000;\n",
       "}\n",
       "#T_f2f79_row27_col3 {\n",
       "  background-color: #3080bd;\n",
       "  color: #f1f1f1;\n",
       "}\n",
       "#T_f2f79_row28_col0 {\n",
       "  background-color: #dbe9f6;\n",
       "  color: #000000;\n",
       "}\n",
       "#T_f2f79_row28_col27, #T_f2f79_row29_col26 {\n",
       "  background-color: #cbdef1;\n",
       "  color: #000000;\n",
       "}\n",
       "</style>\n",
       "<table id=\"T_f2f79\">\n",
       "  <caption>RR</caption>\n",
       "  <thead>\n",
       "    <tr>\n",
       "      <th class=\"index_name level0\" >day_diff</th>\n",
       "      <th id=\"T_f2f79_level0_col0\" class=\"col_heading level0 col0\" >Day 1</th>\n",
       "      <th id=\"T_f2f79_level0_col1\" class=\"col_heading level0 col1\" >Day 2</th>\n",
       "      <th id=\"T_f2f79_level0_col2\" class=\"col_heading level0 col2\" >Day 3</th>\n",
       "      <th id=\"T_f2f79_level0_col3\" class=\"col_heading level0 col3\" >Day 4</th>\n",
       "      <th id=\"T_f2f79_level0_col4\" class=\"col_heading level0 col4\" >Day 5</th>\n",
       "      <th id=\"T_f2f79_level0_col5\" class=\"col_heading level0 col5\" >Day 6</th>\n",
       "      <th id=\"T_f2f79_level0_col6\" class=\"col_heading level0 col6\" >Day 7</th>\n",
       "      <th id=\"T_f2f79_level0_col7\" class=\"col_heading level0 col7\" >Day 8</th>\n",
       "      <th id=\"T_f2f79_level0_col8\" class=\"col_heading level0 col8\" >Day 9</th>\n",
       "      <th id=\"T_f2f79_level0_col9\" class=\"col_heading level0 col9\" >Day 10</th>\n",
       "      <th id=\"T_f2f79_level0_col10\" class=\"col_heading level0 col10\" >Day 11</th>\n",
       "      <th id=\"T_f2f79_level0_col11\" class=\"col_heading level0 col11\" >Day 12</th>\n",
       "      <th id=\"T_f2f79_level0_col12\" class=\"col_heading level0 col12\" >Day 13</th>\n",
       "      <th id=\"T_f2f79_level0_col13\" class=\"col_heading level0 col13\" >Day 14</th>\n",
       "      <th id=\"T_f2f79_level0_col14\" class=\"col_heading level0 col14\" >Day 15</th>\n",
       "      <th id=\"T_f2f79_level0_col15\" class=\"col_heading level0 col15\" >Day 16</th>\n",
       "      <th id=\"T_f2f79_level0_col16\" class=\"col_heading level0 col16\" >Day 17</th>\n",
       "      <th id=\"T_f2f79_level0_col17\" class=\"col_heading level0 col17\" >Day 18</th>\n",
       "      <th id=\"T_f2f79_level0_col18\" class=\"col_heading level0 col18\" >Day 19</th>\n",
       "      <th id=\"T_f2f79_level0_col19\" class=\"col_heading level0 col19\" >Day 20</th>\n",
       "      <th id=\"T_f2f79_level0_col20\" class=\"col_heading level0 col20\" >Day 21</th>\n",
       "      <th id=\"T_f2f79_level0_col21\" class=\"col_heading level0 col21\" >Day 22</th>\n",
       "      <th id=\"T_f2f79_level0_col22\" class=\"col_heading level0 col22\" >Day 23</th>\n",
       "      <th id=\"T_f2f79_level0_col23\" class=\"col_heading level0 col23\" >Day 24</th>\n",
       "      <th id=\"T_f2f79_level0_col24\" class=\"col_heading level0 col24\" >Day 25</th>\n",
       "      <th id=\"T_f2f79_level0_col25\" class=\"col_heading level0 col25\" >Day 26</th>\n",
       "      <th id=\"T_f2f79_level0_col26\" class=\"col_heading level0 col26\" >Day 27</th>\n",
       "      <th id=\"T_f2f79_level0_col27\" class=\"col_heading level0 col27\" >Day 28</th>\n",
       "      <th id=\"T_f2f79_level0_col28\" class=\"col_heading level0 col28\" >Day 29</th>\n",
       "      <th id=\"T_f2f79_level0_col29\" class=\"col_heading level0 col29\" >Day 30</th>\n",
       "    </tr>\n",
       "    <tr>\n",
       "      <th class=\"index_name level0\" >reg_date</th>\n",
       "      <th class=\"blank col0\" >&nbsp;</th>\n",
       "      <th class=\"blank col1\" >&nbsp;</th>\n",
       "      <th class=\"blank col2\" >&nbsp;</th>\n",
       "      <th class=\"blank col3\" >&nbsp;</th>\n",
       "      <th class=\"blank col4\" >&nbsp;</th>\n",
       "      <th class=\"blank col5\" >&nbsp;</th>\n",
       "      <th class=\"blank col6\" >&nbsp;</th>\n",
       "      <th class=\"blank col7\" >&nbsp;</th>\n",
       "      <th class=\"blank col8\" >&nbsp;</th>\n",
       "      <th class=\"blank col9\" >&nbsp;</th>\n",
       "      <th class=\"blank col10\" >&nbsp;</th>\n",
       "      <th class=\"blank col11\" >&nbsp;</th>\n",
       "      <th class=\"blank col12\" >&nbsp;</th>\n",
       "      <th class=\"blank col13\" >&nbsp;</th>\n",
       "      <th class=\"blank col14\" >&nbsp;</th>\n",
       "      <th class=\"blank col15\" >&nbsp;</th>\n",
       "      <th class=\"blank col16\" >&nbsp;</th>\n",
       "      <th class=\"blank col17\" >&nbsp;</th>\n",
       "      <th class=\"blank col18\" >&nbsp;</th>\n",
       "      <th class=\"blank col19\" >&nbsp;</th>\n",
       "      <th class=\"blank col20\" >&nbsp;</th>\n",
       "      <th class=\"blank col21\" >&nbsp;</th>\n",
       "      <th class=\"blank col22\" >&nbsp;</th>\n",
       "      <th class=\"blank col23\" >&nbsp;</th>\n",
       "      <th class=\"blank col24\" >&nbsp;</th>\n",
       "      <th class=\"blank col25\" >&nbsp;</th>\n",
       "      <th class=\"blank col26\" >&nbsp;</th>\n",
       "      <th class=\"blank col27\" >&nbsp;</th>\n",
       "      <th class=\"blank col28\" >&nbsp;</th>\n",
       "      <th class=\"blank col29\" >&nbsp;</th>\n",
       "    </tr>\n",
       "  </thead>\n",
       "  <tbody>\n",
       "    <tr>\n",
       "      <th id=\"T_f2f79_level0_row0\" class=\"row_heading level0 row0\" >2019-04-01</th>\n",
       "      <td id=\"T_f2f79_row0_col0\" class=\"data row0 col0\" >1.78%</td>\n",
       "      <td id=\"T_f2f79_row0_col1\" class=\"data row0 col1\" >4.59%</td>\n",
       "      <td id=\"T_f2f79_row0_col2\" class=\"data row0 col2\" >4.44%</td>\n",
       "      <td id=\"T_f2f79_row0_col3\" class=\"data row0 col3\" >4.44%</td>\n",
       "      <td id=\"T_f2f79_row0_col4\" class=\"data row0 col4\" >5.93%</td>\n",
       "      <td id=\"T_f2f79_row0_col5\" class=\"data row0 col5\" >5.78%</td>\n",
       "      <td id=\"T_f2f79_row0_col6\" class=\"data row0 col6\" >6.96%</td>\n",
       "      <td id=\"T_f2f79_row0_col7\" class=\"data row0 col7\" >3.41%</td>\n",
       "      <td id=\"T_f2f79_row0_col8\" class=\"data row0 col8\" >4.89%</td>\n",
       "      <td id=\"T_f2f79_row0_col9\" class=\"data row0 col9\" >4.30%</td>\n",
       "      <td id=\"T_f2f79_row0_col10\" class=\"data row0 col10\" >3.70%</td>\n",
       "      <td id=\"T_f2f79_row0_col11\" class=\"data row0 col11\" >5.93%</td>\n",
       "      <td id=\"T_f2f79_row0_col12\" class=\"data row0 col12\" >5.63%</td>\n",
       "      <td id=\"T_f2f79_row0_col13\" class=\"data row0 col13\" >2.67%</td>\n",
       "      <td id=\"T_f2f79_row0_col14\" class=\"data row0 col14\" >2.81%</td>\n",
       "      <td id=\"T_f2f79_row0_col15\" class=\"data row0 col15\" >4.15%</td>\n",
       "      <td id=\"T_f2f79_row0_col16\" class=\"data row0 col16\" >4.44%</td>\n",
       "      <td id=\"T_f2f79_row0_col17\" class=\"data row0 col17\" >3.56%</td>\n",
       "      <td id=\"T_f2f79_row0_col18\" class=\"data row0 col18\" >4.00%</td>\n",
       "      <td id=\"T_f2f79_row0_col19\" class=\"data row0 col19\" >3.11%</td>\n",
       "      <td id=\"T_f2f79_row0_col20\" class=\"data row0 col20\" >3.56%</td>\n",
       "      <td id=\"T_f2f79_row0_col21\" class=\"data row0 col21\" >3.56%</td>\n",
       "      <td id=\"T_f2f79_row0_col22\" class=\"data row0 col22\" >3.85%</td>\n",
       "      <td id=\"T_f2f79_row0_col23\" class=\"data row0 col23\" >3.11%</td>\n",
       "      <td id=\"T_f2f79_row0_col24\" class=\"data row0 col24\" >2.67%</td>\n",
       "      <td id=\"T_f2f79_row0_col25\" class=\"data row0 col25\" >2.22%</td>\n",
       "      <td id=\"T_f2f79_row0_col26\" class=\"data row0 col26\" >2.22%</td>\n",
       "      <td id=\"T_f2f79_row0_col27\" class=\"data row0 col27\" >3.11%</td>\n",
       "      <td id=\"T_f2f79_row0_col28\" class=\"data row0 col28\" >2.81%</td>\n",
       "      <td id=\"T_f2f79_row0_col29\" class=\"data row0 col29\" >2.07%</td>\n",
       "    </tr>\n",
       "    <tr>\n",
       "      <th id=\"T_f2f79_level0_row1\" class=\"row_heading level0 row1\" >2019-04-02</th>\n",
       "      <td id=\"T_f2f79_row1_col0\" class=\"data row1 col0\" >2.51%</td>\n",
       "      <td id=\"T_f2f79_row1_col1\" class=\"data row1 col1\" >3.70%</td>\n",
       "      <td id=\"T_f2f79_row1_col2\" class=\"data row1 col2\" >5.03%</td>\n",
       "      <td id=\"T_f2f79_row1_col3\" class=\"data row1 col3\" >5.62%</td>\n",
       "      <td id=\"T_f2f79_row1_col4\" class=\"data row1 col4\" >5.62%</td>\n",
       "      <td id=\"T_f2f79_row1_col5\" class=\"data row1 col5\" >7.99%</td>\n",
       "      <td id=\"T_f2f79_row1_col6\" class=\"data row1 col6\" >4.88%</td>\n",
       "      <td id=\"T_f2f79_row1_col7\" class=\"data row1 col7\" >4.44%</td>\n",
       "      <td id=\"T_f2f79_row1_col8\" class=\"data row1 col8\" >5.03%</td>\n",
       "      <td id=\"T_f2f79_row1_col9\" class=\"data row1 col9\" >5.62%</td>\n",
       "      <td id=\"T_f2f79_row1_col10\" class=\"data row1 col10\" >4.88%</td>\n",
       "      <td id=\"T_f2f79_row1_col11\" class=\"data row1 col11\" >5.33%</td>\n",
       "      <td id=\"T_f2f79_row1_col12\" class=\"data row1 col12\" >3.99%</td>\n",
       "      <td id=\"T_f2f79_row1_col13\" class=\"data row1 col13\" >2.37%</td>\n",
       "      <td id=\"T_f2f79_row1_col14\" class=\"data row1 col14\" >4.14%</td>\n",
       "      <td id=\"T_f2f79_row1_col15\" class=\"data row1 col15\" >4.14%</td>\n",
       "      <td id=\"T_f2f79_row1_col16\" class=\"data row1 col16\" >4.14%</td>\n",
       "      <td id=\"T_f2f79_row1_col17\" class=\"data row1 col17\" >3.25%</td>\n",
       "      <td id=\"T_f2f79_row1_col18\" class=\"data row1 col18\" >3.25%</td>\n",
       "      <td id=\"T_f2f79_row1_col19\" class=\"data row1 col19\" >4.59%</td>\n",
       "      <td id=\"T_f2f79_row1_col20\" class=\"data row1 col20\" >2.51%</td>\n",
       "      <td id=\"T_f2f79_row1_col21\" class=\"data row1 col21\" >2.51%</td>\n",
       "      <td id=\"T_f2f79_row1_col22\" class=\"data row1 col22\" >3.25%</td>\n",
       "      <td id=\"T_f2f79_row1_col23\" class=\"data row1 col23\" >2.81%</td>\n",
       "      <td id=\"T_f2f79_row1_col24\" class=\"data row1 col24\" >2.07%</td>\n",
       "      <td id=\"T_f2f79_row1_col25\" class=\"data row1 col25\" >4.29%</td>\n",
       "      <td id=\"T_f2f79_row1_col26\" class=\"data row1 col26\" >3.40%</td>\n",
       "      <td id=\"T_f2f79_row1_col27\" class=\"data row1 col27\" >2.22%</td>\n",
       "      <td id=\"T_f2f79_row1_col28\" class=\"data row1 col28\" >2.07%</td>\n",
       "      <td id=\"T_f2f79_row1_col29\" class=\"data row1 col29\" >2.37%</td>\n",
       "    </tr>\n",
       "    <tr>\n",
       "      <th id=\"T_f2f79_level0_row2\" class=\"row_heading level0 row2\" >2019-04-03</th>\n",
       "      <td id=\"T_f2f79_row2_col0\" class=\"data row2 col0\" >2.80%</td>\n",
       "      <td id=\"T_f2f79_row2_col1\" class=\"data row2 col1\" >4.87%</td>\n",
       "      <td id=\"T_f2f79_row2_col2\" class=\"data row2 col2\" >4.42%</td>\n",
       "      <td id=\"T_f2f79_row2_col3\" class=\"data row2 col3\" >6.78%</td>\n",
       "      <td id=\"T_f2f79_row2_col4\" class=\"data row2 col4\" >5.16%</td>\n",
       "      <td id=\"T_f2f79_row2_col5\" class=\"data row2 col5\" >6.64%</td>\n",
       "      <td id=\"T_f2f79_row2_col6\" class=\"data row2 col6\" >6.19%</td>\n",
       "      <td id=\"T_f2f79_row2_col7\" class=\"data row2 col7\" >6.78%</td>\n",
       "      <td id=\"T_f2f79_row2_col8\" class=\"data row2 col8\" >4.42%</td>\n",
       "      <td id=\"T_f2f79_row2_col9\" class=\"data row2 col9\" >5.75%</td>\n",
       "      <td id=\"T_f2f79_row2_col10\" class=\"data row2 col10\" >4.87%</td>\n",
       "      <td id=\"T_f2f79_row2_col11\" class=\"data row2 col11\" >5.31%</td>\n",
       "      <td id=\"T_f2f79_row2_col12\" class=\"data row2 col12\" >5.16%</td>\n",
       "      <td id=\"T_f2f79_row2_col13\" class=\"data row2 col13\" >4.28%</td>\n",
       "      <td id=\"T_f2f79_row2_col14\" class=\"data row2 col14\" >4.13%</td>\n",
       "      <td id=\"T_f2f79_row2_col15\" class=\"data row2 col15\" >5.46%</td>\n",
       "      <td id=\"T_f2f79_row2_col16\" class=\"data row2 col16\" >4.42%</td>\n",
       "      <td id=\"T_f2f79_row2_col17\" class=\"data row2 col17\" >4.28%</td>\n",
       "      <td id=\"T_f2f79_row2_col18\" class=\"data row2 col18\" >4.57%</td>\n",
       "      <td id=\"T_f2f79_row2_col19\" class=\"data row2 col19\" >3.39%</td>\n",
       "      <td id=\"T_f2f79_row2_col20\" class=\"data row2 col20\" >3.98%</td>\n",
       "      <td id=\"T_f2f79_row2_col21\" class=\"data row2 col21\" >4.28%</td>\n",
       "      <td id=\"T_f2f79_row2_col22\" class=\"data row2 col22\" >3.24%</td>\n",
       "      <td id=\"T_f2f79_row2_col23\" class=\"data row2 col23\" >2.51%</td>\n",
       "      <td id=\"T_f2f79_row2_col24\" class=\"data row2 col24\" >3.69%</td>\n",
       "      <td id=\"T_f2f79_row2_col25\" class=\"data row2 col25\" >3.39%</td>\n",
       "      <td id=\"T_f2f79_row2_col26\" class=\"data row2 col26\" >3.10%</td>\n",
       "      <td id=\"T_f2f79_row2_col27\" class=\"data row2 col27\" >2.36%</td>\n",
       "      <td id=\"T_f2f79_row2_col28\" class=\"data row2 col28\" >2.95%</td>\n",
       "      <td id=\"T_f2f79_row2_col29\" class=\"data row2 col29\" >2.65%</td>\n",
       "    </tr>\n",
       "    <tr>\n",
       "      <th id=\"T_f2f79_level0_row3\" class=\"row_heading level0 row3\" >2019-04-04</th>\n",
       "      <td id=\"T_f2f79_row3_col0\" class=\"data row3 col0\" >2.36%</td>\n",
       "      <td id=\"T_f2f79_row3_col1\" class=\"data row3 col1\" >3.39%</td>\n",
       "      <td id=\"T_f2f79_row3_col2\" class=\"data row3 col2\" >4.57%</td>\n",
       "      <td id=\"T_f2f79_row3_col3\" class=\"data row3 col3\" >5.01%</td>\n",
       "      <td id=\"T_f2f79_row3_col4\" class=\"data row3 col4\" >5.60%</td>\n",
       "      <td id=\"T_f2f79_row3_col5\" class=\"data row3 col5\" >8.84%</td>\n",
       "      <td id=\"T_f2f79_row3_col6\" class=\"data row3 col6\" >6.33%</td>\n",
       "      <td id=\"T_f2f79_row3_col7\" class=\"data row3 col7\" >5.74%</td>\n",
       "      <td id=\"T_f2f79_row3_col8\" class=\"data row3 col8\" >4.86%</td>\n",
       "      <td id=\"T_f2f79_row3_col9\" class=\"data row3 col9\" >6.04%</td>\n",
       "      <td id=\"T_f2f79_row3_col10\" class=\"data row3 col10\" >6.04%</td>\n",
       "      <td id=\"T_f2f79_row3_col11\" class=\"data row3 col11\" >5.15%</td>\n",
       "      <td id=\"T_f2f79_row3_col12\" class=\"data row3 col12\" >4.86%</td>\n",
       "      <td id=\"T_f2f79_row3_col13\" class=\"data row3 col13\" >4.42%</td>\n",
       "      <td id=\"T_f2f79_row3_col14\" class=\"data row3 col14\" >4.71%</td>\n",
       "      <td id=\"T_f2f79_row3_col15\" class=\"data row3 col15\" >4.12%</td>\n",
       "      <td id=\"T_f2f79_row3_col16\" class=\"data row3 col16\" >3.98%</td>\n",
       "      <td id=\"T_f2f79_row3_col17\" class=\"data row3 col17\" >4.86%</td>\n",
       "      <td id=\"T_f2f79_row3_col18\" class=\"data row3 col18\" >4.27%</td>\n",
       "      <td id=\"T_f2f79_row3_col19\" class=\"data row3 col19\" >4.86%</td>\n",
       "      <td id=\"T_f2f79_row3_col20\" class=\"data row3 col20\" >2.65%</td>\n",
       "      <td id=\"T_f2f79_row3_col21\" class=\"data row3 col21\" >4.12%</td>\n",
       "      <td id=\"T_f2f79_row3_col22\" class=\"data row3 col22\" >3.53%</td>\n",
       "      <td id=\"T_f2f79_row3_col23\" class=\"data row3 col23\" >4.71%</td>\n",
       "      <td id=\"T_f2f79_row3_col24\" class=\"data row3 col24\" >3.83%</td>\n",
       "      <td id=\"T_f2f79_row3_col25\" class=\"data row3 col25\" >2.36%</td>\n",
       "      <td id=\"T_f2f79_row3_col26\" class=\"data row3 col26\" >2.80%</td>\n",
       "      <td id=\"T_f2f79_row3_col27\" class=\"data row3 col27\" >2.80%</td>\n",
       "      <td id=\"T_f2f79_row3_col28\" class=\"data row3 col28\" >2.06%</td>\n",
       "      <td id=\"T_f2f79_row3_col29\" class=\"data row3 col29\" >4.12%</td>\n",
       "    </tr>\n",
       "    <tr>\n",
       "      <th id=\"T_f2f79_level0_row4\" class=\"row_heading level0 row4\" >2019-04-05</th>\n",
       "      <td id=\"T_f2f79_row4_col0\" class=\"data row4 col0\" >1.91%</td>\n",
       "      <td id=\"T_f2f79_row4_col1\" class=\"data row4 col1\" >4.85%</td>\n",
       "      <td id=\"T_f2f79_row4_col2\" class=\"data row4 col2\" >5.88%</td>\n",
       "      <td id=\"T_f2f79_row4_col3\" class=\"data row4 col3\" >5.29%</td>\n",
       "      <td id=\"T_f2f79_row4_col4\" class=\"data row4 col4\" >5.44%</td>\n",
       "      <td id=\"T_f2f79_row4_col5\" class=\"data row4 col5\" >7.79%</td>\n",
       "      <td id=\"T_f2f79_row4_col6\" class=\"data row4 col6\" >5.88%</td>\n",
       "      <td id=\"T_f2f79_row4_col7\" class=\"data row4 col7\" >5.29%</td>\n",
       "      <td id=\"T_f2f79_row4_col8\" class=\"data row4 col8\" >6.18%</td>\n",
       "      <td id=\"T_f2f79_row4_col9\" class=\"data row4 col9\" >5.15%</td>\n",
       "      <td id=\"T_f2f79_row4_col10\" class=\"data row4 col10\" >3.97%</td>\n",
       "      <td id=\"T_f2f79_row4_col11\" class=\"data row4 col11\" >5.88%</td>\n",
       "      <td id=\"T_f2f79_row4_col12\" class=\"data row4 col12\" >6.62%</td>\n",
       "      <td id=\"T_f2f79_row4_col13\" class=\"data row4 col13\" >4.12%</td>\n",
       "      <td id=\"T_f2f79_row4_col14\" class=\"data row4 col14\" >3.82%</td>\n",
       "      <td id=\"T_f2f79_row4_col15\" class=\"data row4 col15\" >5.44%</td>\n",
       "      <td id=\"T_f2f79_row4_col16\" class=\"data row4 col16\" >3.24%</td>\n",
       "      <td id=\"T_f2f79_row4_col17\" class=\"data row4 col17\" >3.82%</td>\n",
       "      <td id=\"T_f2f79_row4_col18\" class=\"data row4 col18\" >4.12%</td>\n",
       "      <td id=\"T_f2f79_row4_col19\" class=\"data row4 col19\" >3.82%</td>\n",
       "      <td id=\"T_f2f79_row4_col20\" class=\"data row4 col20\" >3.38%</td>\n",
       "      <td id=\"T_f2f79_row4_col21\" class=\"data row4 col21\" >4.41%</td>\n",
       "      <td id=\"T_f2f79_row4_col22\" class=\"data row4 col22\" >3.09%</td>\n",
       "      <td id=\"T_f2f79_row4_col23\" class=\"data row4 col23\" >3.82%</td>\n",
       "      <td id=\"T_f2f79_row4_col24\" class=\"data row4 col24\" >2.94%</td>\n",
       "      <td id=\"T_f2f79_row4_col25\" class=\"data row4 col25\" >3.82%</td>\n",
       "      <td id=\"T_f2f79_row4_col26\" class=\"data row4 col26\" >2.65%</td>\n",
       "      <td id=\"T_f2f79_row4_col27\" class=\"data row4 col27\" >2.65%</td>\n",
       "      <td id=\"T_f2f79_row4_col28\" class=\"data row4 col28\" >3.24%</td>\n",
       "      <td id=\"T_f2f79_row4_col29\" class=\"data row4 col29\" >2.79%</td>\n",
       "    </tr>\n",
       "    <tr>\n",
       "      <th id=\"T_f2f79_level0_row5\" class=\"row_heading level0 row5\" >2019-04-06</th>\n",
       "      <td id=\"T_f2f79_row5_col0\" class=\"data row5 col0\" >1.76%</td>\n",
       "      <td id=\"T_f2f79_row5_col1\" class=\"data row5 col1\" >2.94%</td>\n",
       "      <td id=\"T_f2f79_row5_col2\" class=\"data row5 col2\" >5.14%</td>\n",
       "      <td id=\"T_f2f79_row5_col3\" class=\"data row5 col3\" >4.26%</td>\n",
       "      <td id=\"T_f2f79_row5_col4\" class=\"data row5 col4\" >6.17%</td>\n",
       "      <td id=\"T_f2f79_row5_col5\" class=\"data row5 col5\" >7.93%</td>\n",
       "      <td id=\"T_f2f79_row5_col6\" class=\"data row5 col6\" >7.34%</td>\n",
       "      <td id=\"T_f2f79_row5_col7\" class=\"data row5 col7\" >4.99%</td>\n",
       "      <td id=\"T_f2f79_row5_col8\" class=\"data row5 col8\" >4.41%</td>\n",
       "      <td id=\"T_f2f79_row5_col9\" class=\"data row5 col9\" >5.14%</td>\n",
       "      <td id=\"T_f2f79_row5_col10\" class=\"data row5 col10\" >5.14%</td>\n",
       "      <td id=\"T_f2f79_row5_col11\" class=\"data row5 col11\" >5.73%</td>\n",
       "      <td id=\"T_f2f79_row5_col12\" class=\"data row5 col12\" >5.29%</td>\n",
       "      <td id=\"T_f2f79_row5_col13\" class=\"data row5 col13\" >5.58%</td>\n",
       "      <td id=\"T_f2f79_row5_col14\" class=\"data row5 col14\" >3.08%</td>\n",
       "      <td id=\"T_f2f79_row5_col15\" class=\"data row5 col15\" >5.29%</td>\n",
       "      <td id=\"T_f2f79_row5_col16\" class=\"data row5 col16\" >4.11%</td>\n",
       "      <td id=\"T_f2f79_row5_col17\" class=\"data row5 col17\" >4.41%</td>\n",
       "      <td id=\"T_f2f79_row5_col18\" class=\"data row5 col18\" >2.94%</td>\n",
       "      <td id=\"T_f2f79_row5_col19\" class=\"data row5 col19\" >4.99%</td>\n",
       "      <td id=\"T_f2f79_row5_col20\" class=\"data row5 col20\" >3.96%</td>\n",
       "      <td id=\"T_f2f79_row5_col21\" class=\"data row5 col21\" >4.11%</td>\n",
       "      <td id=\"T_f2f79_row5_col22\" class=\"data row5 col22\" >4.70%</td>\n",
       "      <td id=\"T_f2f79_row5_col23\" class=\"data row5 col23\" >4.55%</td>\n",
       "      <td id=\"T_f2f79_row5_col24\" class=\"data row5 col24\" >2.79%</td>\n",
       "      <td id=\"T_f2f79_row5_col25\" class=\"data row5 col25\" >3.38%</td>\n",
       "      <td id=\"T_f2f79_row5_col26\" class=\"data row5 col26\" >4.11%</td>\n",
       "      <td id=\"T_f2f79_row5_col27\" class=\"data row5 col27\" >3.82%</td>\n",
       "      <td id=\"T_f2f79_row5_col28\" class=\"data row5 col28\" >4.11%</td>\n",
       "      <td id=\"T_f2f79_row5_col29\" class=\"data row5 col29\" >3.08%</td>\n",
       "    </tr>\n",
       "    <tr>\n",
       "      <th id=\"T_f2f79_level0_row6\" class=\"row_heading level0 row6\" >2019-04-07</th>\n",
       "      <td id=\"T_f2f79_row6_col0\" class=\"data row6 col0\" >2.05%</td>\n",
       "      <td id=\"T_f2f79_row6_col1\" class=\"data row6 col1\" >3.37%</td>\n",
       "      <td id=\"T_f2f79_row6_col2\" class=\"data row6 col2\" >5.87%</td>\n",
       "      <td id=\"T_f2f79_row6_col3\" class=\"data row6 col3\" >4.69%</td>\n",
       "      <td id=\"T_f2f79_row6_col4\" class=\"data row6 col4\" >6.16%</td>\n",
       "      <td id=\"T_f2f79_row6_col5\" class=\"data row6 col5\" >4.84%</td>\n",
       "      <td id=\"T_f2f79_row6_col6\" class=\"data row6 col6\" >6.60%</td>\n",
       "      <td id=\"T_f2f79_row6_col7\" class=\"data row6 col7\" >3.81%</td>\n",
       "      <td id=\"T_f2f79_row6_col8\" class=\"data row6 col8\" >6.01%</td>\n",
       "      <td id=\"T_f2f79_row6_col9\" class=\"data row6 col9\" >4.40%</td>\n",
       "      <td id=\"T_f2f79_row6_col10\" class=\"data row6 col10\" >3.96%</td>\n",
       "      <td id=\"T_f2f79_row6_col11\" class=\"data row6 col11\" >5.43%</td>\n",
       "      <td id=\"T_f2f79_row6_col12\" class=\"data row6 col12\" >5.13%</td>\n",
       "      <td id=\"T_f2f79_row6_col13\" class=\"data row6 col13\" >2.79%</td>\n",
       "      <td id=\"T_f2f79_row6_col14\" class=\"data row6 col14\" >4.84%</td>\n",
       "      <td id=\"T_f2f79_row6_col15\" class=\"data row6 col15\" >4.25%</td>\n",
       "      <td id=\"T_f2f79_row6_col16\" class=\"data row6 col16\" >3.96%</td>\n",
       "      <td id=\"T_f2f79_row6_col17\" class=\"data row6 col17\" >2.93%</td>\n",
       "      <td id=\"T_f2f79_row6_col18\" class=\"data row6 col18\" >3.81%</td>\n",
       "      <td id=\"T_f2f79_row6_col19\" class=\"data row6 col19\" >3.81%</td>\n",
       "      <td id=\"T_f2f79_row6_col20\" class=\"data row6 col20\" >4.40%</td>\n",
       "      <td id=\"T_f2f79_row6_col21\" class=\"data row6 col21\" >3.23%</td>\n",
       "      <td id=\"T_f2f79_row6_col22\" class=\"data row6 col22\" >4.25%</td>\n",
       "      <td id=\"T_f2f79_row6_col23\" class=\"data row6 col23\" >2.05%</td>\n",
       "      <td id=\"T_f2f79_row6_col24\" class=\"data row6 col24\" >2.49%</td>\n",
       "      <td id=\"T_f2f79_row6_col25\" class=\"data row6 col25\" >2.35%</td>\n",
       "      <td id=\"T_f2f79_row6_col26\" class=\"data row6 col26\" >3.96%</td>\n",
       "      <td id=\"T_f2f79_row6_col27\" class=\"data row6 col27\" >2.64%</td>\n",
       "      <td id=\"T_f2f79_row6_col28\" class=\"data row6 col28\" >2.35%</td>\n",
       "      <td id=\"T_f2f79_row6_col29\" class=\"data row6 col29\" >2.20%</td>\n",
       "    </tr>\n",
       "    <tr>\n",
       "      <th id=\"T_f2f79_level0_row7\" class=\"row_heading level0 row7\" >2019-04-08</th>\n",
       "      <td id=\"T_f2f79_row7_col0\" class=\"data row7 col0\" >2.34%</td>\n",
       "      <td id=\"T_f2f79_row7_col1\" class=\"data row7 col1\" >4.69%</td>\n",
       "      <td id=\"T_f2f79_row7_col2\" class=\"data row7 col2\" >4.69%</td>\n",
       "      <td id=\"T_f2f79_row7_col3\" class=\"data row7 col3\" >4.98%</td>\n",
       "      <td id=\"T_f2f79_row7_col4\" class=\"data row7 col4\" >4.98%</td>\n",
       "      <td id=\"T_f2f79_row7_col5\" class=\"data row7 col5\" >5.71%</td>\n",
       "      <td id=\"T_f2f79_row7_col6\" class=\"data row7 col6\" >6.73%</td>\n",
       "      <td id=\"T_f2f79_row7_col7\" class=\"data row7 col7\" >4.10%</td>\n",
       "      <td id=\"T_f2f79_row7_col8\" class=\"data row7 col8\" >5.27%</td>\n",
       "      <td id=\"T_f2f79_row7_col9\" class=\"data row7 col9\" >3.66%</td>\n",
       "      <td id=\"T_f2f79_row7_col10\" class=\"data row7 col10\" >6.15%</td>\n",
       "      <td id=\"T_f2f79_row7_col11\" class=\"data row7 col11\" >5.42%</td>\n",
       "      <td id=\"T_f2f79_row7_col12\" class=\"data row7 col12\" >4.39%</td>\n",
       "      <td id=\"T_f2f79_row7_col13\" class=\"data row7 col13\" >3.37%</td>\n",
       "      <td id=\"T_f2f79_row7_col14\" class=\"data row7 col14\" >4.98%</td>\n",
       "      <td id=\"T_f2f79_row7_col15\" class=\"data row7 col15\" >4.83%</td>\n",
       "      <td id=\"T_f2f79_row7_col16\" class=\"data row7 col16\" >2.93%</td>\n",
       "      <td id=\"T_f2f79_row7_col17\" class=\"data row7 col17\" >4.10%</td>\n",
       "      <td id=\"T_f2f79_row7_col18\" class=\"data row7 col18\" >4.69%</td>\n",
       "      <td id=\"T_f2f79_row7_col19\" class=\"data row7 col19\" >4.39%</td>\n",
       "      <td id=\"T_f2f79_row7_col20\" class=\"data row7 col20\" >2.78%</td>\n",
       "      <td id=\"T_f2f79_row7_col21\" class=\"data row7 col21\" >3.51%</td>\n",
       "      <td id=\"T_f2f79_row7_col22\" class=\"data row7 col22\" >3.66%</td>\n",
       "      <td id=\"T_f2f79_row7_col23\" class=\"data row7 col23\" >2.78%</td>\n",
       "      <td id=\"T_f2f79_row7_col24\" class=\"data row7 col24\" >3.22%</td>\n",
       "      <td id=\"T_f2f79_row7_col25\" class=\"data row7 col25\" >2.49%</td>\n",
       "      <td id=\"T_f2f79_row7_col26\" class=\"data row7 col26\" >2.93%</td>\n",
       "      <td id=\"T_f2f79_row7_col27\" class=\"data row7 col27\" >3.81%</td>\n",
       "      <td id=\"T_f2f79_row7_col28\" class=\"data row7 col28\" >2.78%</td>\n",
       "      <td id=\"T_f2f79_row7_col29\" class=\"data row7 col29\" >1.61%</td>\n",
       "    </tr>\n",
       "    <tr>\n",
       "      <th id=\"T_f2f79_level0_row8\" class=\"row_heading level0 row8\" >2019-04-09</th>\n",
       "      <td id=\"T_f2f79_row8_col0\" class=\"data row8 col0\" >1.17%</td>\n",
       "      <td id=\"T_f2f79_row8_col1\" class=\"data row8 col1\" >3.65%</td>\n",
       "      <td id=\"T_f2f79_row8_col2\" class=\"data row8 col2\" >5.12%</td>\n",
       "      <td id=\"T_f2f79_row8_col3\" class=\"data row8 col3\" >4.97%</td>\n",
       "      <td id=\"T_f2f79_row8_col4\" class=\"data row8 col4\" >5.56%</td>\n",
       "      <td id=\"T_f2f79_row8_col5\" class=\"data row8 col5\" >4.39%</td>\n",
       "      <td id=\"T_f2f79_row8_col6\" class=\"data row8 col6\" >5.70%</td>\n",
       "      <td id=\"T_f2f79_row8_col7\" class=\"data row8 col7\" >3.95%</td>\n",
       "      <td id=\"T_f2f79_row8_col8\" class=\"data row8 col8\" >4.82%</td>\n",
       "      <td id=\"T_f2f79_row8_col9\" class=\"data row8 col9\" >5.12%</td>\n",
       "      <td id=\"T_f2f79_row8_col10\" class=\"data row8 col10\" >5.12%</td>\n",
       "      <td id=\"T_f2f79_row8_col11\" class=\"data row8 col11\" >3.51%</td>\n",
       "      <td id=\"T_f2f79_row8_col12\" class=\"data row8 col12\" >4.82%</td>\n",
       "      <td id=\"T_f2f79_row8_col13\" class=\"data row8 col13\" >5.12%</td>\n",
       "      <td id=\"T_f2f79_row8_col14\" class=\"data row8 col14\" >3.95%</td>\n",
       "      <td id=\"T_f2f79_row8_col15\" class=\"data row8 col15\" >4.09%</td>\n",
       "      <td id=\"T_f2f79_row8_col16\" class=\"data row8 col16\" >2.92%</td>\n",
       "      <td id=\"T_f2f79_row8_col17\" class=\"data row8 col17\" >3.80%</td>\n",
       "      <td id=\"T_f2f79_row8_col18\" class=\"data row8 col18\" >3.95%</td>\n",
       "      <td id=\"T_f2f79_row8_col19\" class=\"data row8 col19\" >3.51%</td>\n",
       "      <td id=\"T_f2f79_row8_col20\" class=\"data row8 col20\" >3.95%</td>\n",
       "      <td id=\"T_f2f79_row8_col21\" class=\"data row8 col21\" >2.78%</td>\n",
       "      <td id=\"T_f2f79_row8_col22\" class=\"data row8 col22\" >4.09%</td>\n",
       "      <td id=\"T_f2f79_row8_col23\" class=\"data row8 col23\" >4.09%</td>\n",
       "      <td id=\"T_f2f79_row8_col24\" class=\"data row8 col24\" >3.36%</td>\n",
       "      <td id=\"T_f2f79_row8_col25\" class=\"data row8 col25\" >3.80%</td>\n",
       "      <td id=\"T_f2f79_row8_col26\" class=\"data row8 col26\" >2.92%</td>\n",
       "      <td id=\"T_f2f79_row8_col27\" class=\"data row8 col27\" >1.17%</td>\n",
       "      <td id=\"T_f2f79_row8_col28\" class=\"data row8 col28\" >2.92%</td>\n",
       "      <td id=\"T_f2f79_row8_col29\" class=\"data row8 col29\" >2.49%</td>\n",
       "    </tr>\n",
       "    <tr>\n",
       "      <th id=\"T_f2f79_level0_row9\" class=\"row_heading level0 row9\" >2019-04-10</th>\n",
       "      <td id=\"T_f2f79_row9_col0\" class=\"data row9 col0\" >2.19%</td>\n",
       "      <td id=\"T_f2f79_row9_col1\" class=\"data row9 col1\" >4.23%</td>\n",
       "      <td id=\"T_f2f79_row9_col2\" class=\"data row9 col2\" >5.10%</td>\n",
       "      <td id=\"T_f2f79_row9_col3\" class=\"data row9 col3\" >5.25%</td>\n",
       "      <td id=\"T_f2f79_row9_col4\" class=\"data row9 col4\" >6.56%</td>\n",
       "      <td id=\"T_f2f79_row9_col5\" class=\"data row9 col5\" >8.16%</td>\n",
       "      <td id=\"T_f2f79_row9_col6\" class=\"data row9 col6\" >5.25%</td>\n",
       "      <td id=\"T_f2f79_row9_col7\" class=\"data row9 col7\" >6.85%</td>\n",
       "      <td id=\"T_f2f79_row9_col8\" class=\"data row9 col8\" >5.98%</td>\n",
       "      <td id=\"T_f2f79_row9_col9\" class=\"data row9 col9\" >5.98%</td>\n",
       "      <td id=\"T_f2f79_row9_col10\" class=\"data row9 col10\" >5.83%</td>\n",
       "      <td id=\"T_f2f79_row9_col11\" class=\"data row9 col11\" >5.69%</td>\n",
       "      <td id=\"T_f2f79_row9_col12\" class=\"data row9 col12\" >5.10%</td>\n",
       "      <td id=\"T_f2f79_row9_col13\" class=\"data row9 col13\" >5.39%</td>\n",
       "      <td id=\"T_f2f79_row9_col14\" class=\"data row9 col14\" >5.83%</td>\n",
       "      <td id=\"T_f2f79_row9_col15\" class=\"data row9 col15\" >5.25%</td>\n",
       "      <td id=\"T_f2f79_row9_col16\" class=\"data row9 col16\" >4.08%</td>\n",
       "      <td id=\"T_f2f79_row9_col17\" class=\"data row9 col17\" >4.81%</td>\n",
       "      <td id=\"T_f2f79_row9_col18\" class=\"data row9 col18\" >4.52%</td>\n",
       "      <td id=\"T_f2f79_row9_col19\" class=\"data row9 col19\" >4.52%</td>\n",
       "      <td id=\"T_f2f79_row9_col20\" class=\"data row9 col20\" >4.66%</td>\n",
       "      <td id=\"T_f2f79_row9_col21\" class=\"data row9 col21\" >4.23%</td>\n",
       "      <td id=\"T_f2f79_row9_col22\" class=\"data row9 col22\" >5.25%</td>\n",
       "      <td id=\"T_f2f79_row9_col23\" class=\"data row9 col23\" >2.92%</td>\n",
       "      <td id=\"T_f2f79_row9_col24\" class=\"data row9 col24\" >4.37%</td>\n",
       "      <td id=\"T_f2f79_row9_col25\" class=\"data row9 col25\" >4.52%</td>\n",
       "      <td id=\"T_f2f79_row9_col26\" class=\"data row9 col26\" >4.08%</td>\n",
       "      <td id=\"T_f2f79_row9_col27\" class=\"data row9 col27\" >3.35%</td>\n",
       "      <td id=\"T_f2f79_row9_col28\" class=\"data row9 col28\" >3.06%</td>\n",
       "      <td id=\"T_f2f79_row9_col29\" class=\"data row9 col29\" >2.48%</td>\n",
       "    </tr>\n",
       "    <tr>\n",
       "      <th id=\"T_f2f79_level0_row10\" class=\"row_heading level0 row10\" >2019-04-11</th>\n",
       "      <td id=\"T_f2f79_row10_col0\" class=\"data row10 col0\" >2.04%</td>\n",
       "      <td id=\"T_f2f79_row10_col1\" class=\"data row10 col1\" >3.64%</td>\n",
       "      <td id=\"T_f2f79_row10_col2\" class=\"data row10 col2\" >4.08%</td>\n",
       "      <td id=\"T_f2f79_row10_col3\" class=\"data row10 col3\" >5.25%</td>\n",
       "      <td id=\"T_f2f79_row10_col4\" class=\"data row10 col4\" >5.54%</td>\n",
       "      <td id=\"T_f2f79_row10_col5\" class=\"data row10 col5\" >8.31%</td>\n",
       "      <td id=\"T_f2f79_row10_col6\" class=\"data row10 col6\" >5.98%</td>\n",
       "      <td id=\"T_f2f79_row10_col7\" class=\"data row10 col7\" >3.94%</td>\n",
       "      <td id=\"T_f2f79_row10_col8\" class=\"data row10 col8\" >3.50%</td>\n",
       "      <td id=\"T_f2f79_row10_col9\" class=\"data row10 col9\" >3.35%</td>\n",
       "      <td id=\"T_f2f79_row10_col10\" class=\"data row10 col10\" >5.39%</td>\n",
       "      <td id=\"T_f2f79_row10_col11\" class=\"data row10 col11\" >6.85%</td>\n",
       "      <td id=\"T_f2f79_row10_col12\" class=\"data row10 col12\" >4.23%</td>\n",
       "      <td id=\"T_f2f79_row10_col13\" class=\"data row10 col13\" >3.94%</td>\n",
       "      <td id=\"T_f2f79_row10_col14\" class=\"data row10 col14\" >5.10%</td>\n",
       "      <td id=\"T_f2f79_row10_col15\" class=\"data row10 col15\" >4.37%</td>\n",
       "      <td id=\"T_f2f79_row10_col16\" class=\"data row10 col16\" >3.50%</td>\n",
       "      <td id=\"T_f2f79_row10_col17\" class=\"data row10 col17\" >5.25%</td>\n",
       "      <td id=\"T_f2f79_row10_col18\" class=\"data row10 col18\" >3.06%</td>\n",
       "      <td id=\"T_f2f79_row10_col19\" class=\"data row10 col19\" >4.08%</td>\n",
       "      <td id=\"T_f2f79_row10_col20\" class=\"data row10 col20\" >3.35%</td>\n",
       "      <td id=\"T_f2f79_row10_col21\" class=\"data row10 col21\" >5.54%</td>\n",
       "      <td id=\"T_f2f79_row10_col22\" class=\"data row10 col22\" >2.19%</td>\n",
       "      <td id=\"T_f2f79_row10_col23\" class=\"data row10 col23\" >4.08%</td>\n",
       "      <td id=\"T_f2f79_row10_col24\" class=\"data row10 col24\" >2.62%</td>\n",
       "      <td id=\"T_f2f79_row10_col25\" class=\"data row10 col25\" >4.23%</td>\n",
       "      <td id=\"T_f2f79_row10_col26\" class=\"data row10 col26\" >2.04%</td>\n",
       "      <td id=\"T_f2f79_row10_col27\" class=\"data row10 col27\" >3.06%</td>\n",
       "      <td id=\"T_f2f79_row10_col28\" class=\"data row10 col28\" >2.77%</td>\n",
       "      <td id=\"T_f2f79_row10_col29\" class=\"data row10 col29\" >2.77%</td>\n",
       "    </tr>\n",
       "    <tr>\n",
       "      <th id=\"T_f2f79_level0_row11\" class=\"row_heading level0 row11\" >2019-04-12</th>\n",
       "      <td id=\"T_f2f79_row11_col0\" class=\"data row11 col0\" >2.33%</td>\n",
       "      <td id=\"T_f2f79_row11_col1\" class=\"data row11 col1\" >2.91%</td>\n",
       "      <td id=\"T_f2f79_row11_col2\" class=\"data row11 col2\" >5.38%</td>\n",
       "      <td id=\"T_f2f79_row11_col3\" class=\"data row11 col3\" >5.81%</td>\n",
       "      <td id=\"T_f2f79_row11_col4\" class=\"data row11 col4\" >5.96%</td>\n",
       "      <td id=\"T_f2f79_row11_col5\" class=\"data row11 col5\" >6.54%</td>\n",
       "      <td id=\"T_f2f79_row11_col6\" class=\"data row11 col6\" >7.27%</td>\n",
       "      <td id=\"T_f2f79_row11_col7\" class=\"data row11 col7\" >4.80%</td>\n",
       "      <td id=\"T_f2f79_row11_col8\" class=\"data row11 col8\" >5.81%</td>\n",
       "      <td id=\"T_f2f79_row11_col9\" class=\"data row11 col9\" >5.23%</td>\n",
       "      <td id=\"T_f2f79_row11_col10\" class=\"data row11 col10\" >4.65%</td>\n",
       "      <td id=\"T_f2f79_row11_col11\" class=\"data row11 col11\" >3.92%</td>\n",
       "      <td id=\"T_f2f79_row11_col12\" class=\"data row11 col12\" >5.38%</td>\n",
       "      <td id=\"T_f2f79_row11_col13\" class=\"data row11 col13\" >5.09%</td>\n",
       "      <td id=\"T_f2f79_row11_col14\" class=\"data row11 col14\" >3.92%</td>\n",
       "      <td id=\"T_f2f79_row11_col15\" class=\"data row11 col15\" >4.51%</td>\n",
       "      <td id=\"T_f2f79_row11_col16\" class=\"data row11 col16\" >3.34%</td>\n",
       "      <td id=\"T_f2f79_row11_col17\" class=\"data row11 col17\" >5.38%</td>\n",
       "      <td id=\"T_f2f79_row11_col18\" class=\"data row11 col18\" >4.07%</td>\n",
       "      <td id=\"T_f2f79_row11_col19\" class=\"data row11 col19\" >3.92%</td>\n",
       "      <td id=\"T_f2f79_row11_col20\" class=\"data row11 col20\" >2.62%</td>\n",
       "      <td id=\"T_f2f79_row11_col21\" class=\"data row11 col21\" >4.36%</td>\n",
       "      <td id=\"T_f2f79_row11_col22\" class=\"data row11 col22\" >3.49%</td>\n",
       "      <td id=\"T_f2f79_row11_col23\" class=\"data row11 col23\" >3.49%</td>\n",
       "      <td id=\"T_f2f79_row11_col24\" class=\"data row11 col24\" >2.76%</td>\n",
       "      <td id=\"T_f2f79_row11_col25\" class=\"data row11 col25\" >2.62%</td>\n",
       "      <td id=\"T_f2f79_row11_col26\" class=\"data row11 col26\" >3.63%</td>\n",
       "      <td id=\"T_f2f79_row11_col27\" class=\"data row11 col27\" >2.03%</td>\n",
       "      <td id=\"T_f2f79_row11_col28\" class=\"data row11 col28\" >3.34%</td>\n",
       "      <td id=\"T_f2f79_row11_col29\" class=\"data row11 col29\" >2.62%</td>\n",
       "    </tr>\n",
       "    <tr>\n",
       "      <th id=\"T_f2f79_level0_row12\" class=\"row_heading level0 row12\" >2019-04-13</th>\n",
       "      <td id=\"T_f2f79_row12_col0\" class=\"data row12 col0\" >1.31%</td>\n",
       "      <td id=\"T_f2f79_row12_col1\" class=\"data row12 col1\" >4.93%</td>\n",
       "      <td id=\"T_f2f79_row12_col2\" class=\"data row12 col2\" >4.64%</td>\n",
       "      <td id=\"T_f2f79_row12_col3\" class=\"data row12 col3\" >4.50%</td>\n",
       "      <td id=\"T_f2f79_row12_col4\" class=\"data row12 col4\" >6.53%</td>\n",
       "      <td id=\"T_f2f79_row12_col5\" class=\"data row12 col5\" >6.39%</td>\n",
       "      <td id=\"T_f2f79_row12_col6\" class=\"data row12 col6\" >8.13%</td>\n",
       "      <td id=\"T_f2f79_row12_col7\" class=\"data row12 col7\" >4.79%</td>\n",
       "      <td id=\"T_f2f79_row12_col8\" class=\"data row12 col8\" >3.77%</td>\n",
       "      <td id=\"T_f2f79_row12_col9\" class=\"data row12 col9\" >4.64%</td>\n",
       "      <td id=\"T_f2f79_row12_col10\" class=\"data row12 col10\" >5.81%</td>\n",
       "      <td id=\"T_f2f79_row12_col11\" class=\"data row12 col11\" >4.64%</td>\n",
       "      <td id=\"T_f2f79_row12_col12\" class=\"data row12 col12\" >6.10%</td>\n",
       "      <td id=\"T_f2f79_row12_col13\" class=\"data row12 col13\" >5.66%</td>\n",
       "      <td id=\"T_f2f79_row12_col14\" class=\"data row12 col14\" >5.66%</td>\n",
       "      <td id=\"T_f2f79_row12_col15\" class=\"data row12 col15\" >4.21%</td>\n",
       "      <td id=\"T_f2f79_row12_col16\" class=\"data row12 col16\" >5.08%</td>\n",
       "      <td id=\"T_f2f79_row12_col17\" class=\"data row12 col17\" >3.63%</td>\n",
       "      <td id=\"T_f2f79_row12_col18\" class=\"data row12 col18\" >4.35%</td>\n",
       "      <td id=\"T_f2f79_row12_col19\" class=\"data row12 col19\" >5.22%</td>\n",
       "      <td id=\"T_f2f79_row12_col20\" class=\"data row12 col20\" >3.77%</td>\n",
       "      <td id=\"T_f2f79_row12_col21\" class=\"data row12 col21\" >3.48%</td>\n",
       "      <td id=\"T_f2f79_row12_col22\" class=\"data row12 col22\" >4.21%</td>\n",
       "      <td id=\"T_f2f79_row12_col23\" class=\"data row12 col23\" >3.77%</td>\n",
       "      <td id=\"T_f2f79_row12_col24\" class=\"data row12 col24\" >3.92%</td>\n",
       "      <td id=\"T_f2f79_row12_col25\" class=\"data row12 col25\" >3.63%</td>\n",
       "      <td id=\"T_f2f79_row12_col26\" class=\"data row12 col26\" >3.63%</td>\n",
       "      <td id=\"T_f2f79_row12_col27\" class=\"data row12 col27\" >3.05%</td>\n",
       "      <td id=\"T_f2f79_row12_col28\" class=\"data row12 col28\" >3.48%</td>\n",
       "      <td id=\"T_f2f79_row12_col29\" class=\"data row12 col29\" >3.34%</td>\n",
       "    </tr>\n",
       "    <tr>\n",
       "      <th id=\"T_f2f79_level0_row13\" class=\"row_heading level0 row13\" >2019-04-14</th>\n",
       "      <td id=\"T_f2f79_row13_col0\" class=\"data row13 col0\" >2.17%</td>\n",
       "      <td id=\"T_f2f79_row13_col1\" class=\"data row13 col1\" >4.06%</td>\n",
       "      <td id=\"T_f2f79_row13_col2\" class=\"data row13 col2\" >4.35%</td>\n",
       "      <td id=\"T_f2f79_row13_col3\" class=\"data row13 col3\" >4.64%</td>\n",
       "      <td id=\"T_f2f79_row13_col4\" class=\"data row13 col4\" >5.07%</td>\n",
       "      <td id=\"T_f2f79_row13_col5\" class=\"data row13 col5\" >6.23%</td>\n",
       "      <td id=\"T_f2f79_row13_col6\" class=\"data row13 col6\" >4.93%</td>\n",
       "      <td id=\"T_f2f79_row13_col7\" class=\"data row13 col7\" >4.20%</td>\n",
       "      <td id=\"T_f2f79_row13_col8\" class=\"data row13 col8\" >4.78%</td>\n",
       "      <td id=\"T_f2f79_row13_col9\" class=\"data row13 col9\" >7.10%</td>\n",
       "      <td id=\"T_f2f79_row13_col10\" class=\"data row13 col10\" >3.62%</td>\n",
       "      <td id=\"T_f2f79_row13_col11\" class=\"data row13 col11\" >4.35%</td>\n",
       "      <td id=\"T_f2f79_row13_col12\" class=\"data row13 col12\" >4.49%</td>\n",
       "      <td id=\"T_f2f79_row13_col13\" class=\"data row13 col13\" >4.20%</td>\n",
       "      <td id=\"T_f2f79_row13_col14\" class=\"data row13 col14\" >4.64%</td>\n",
       "      <td id=\"T_f2f79_row13_col15\" class=\"data row13 col15\" >4.06%</td>\n",
       "      <td id=\"T_f2f79_row13_col16\" class=\"data row13 col16\" >3.77%</td>\n",
       "      <td id=\"T_f2f79_row13_col17\" class=\"data row13 col17\" >2.03%</td>\n",
       "      <td id=\"T_f2f79_row13_col18\" class=\"data row13 col18\" >4.06%</td>\n",
       "      <td id=\"T_f2f79_row13_col19\" class=\"data row13 col19\" >4.06%</td>\n",
       "      <td id=\"T_f2f79_row13_col20\" class=\"data row13 col20\" >3.62%</td>\n",
       "      <td id=\"T_f2f79_row13_col21\" class=\"data row13 col21\" >2.90%</td>\n",
       "      <td id=\"T_f2f79_row13_col22\" class=\"data row13 col22\" >3.77%</td>\n",
       "      <td id=\"T_f2f79_row13_col23\" class=\"data row13 col23\" >3.04%</td>\n",
       "      <td id=\"T_f2f79_row13_col24\" class=\"data row13 col24\" >4.20%</td>\n",
       "      <td id=\"T_f2f79_row13_col25\" class=\"data row13 col25\" >3.19%</td>\n",
       "      <td id=\"T_f2f79_row13_col26\" class=\"data row13 col26\" >3.19%</td>\n",
       "      <td id=\"T_f2f79_row13_col27\" class=\"data row13 col27\" >1.59%</td>\n",
       "      <td id=\"T_f2f79_row13_col28\" class=\"data row13 col28\" >2.90%</td>\n",
       "      <td id=\"T_f2f79_row13_col29\" class=\"data row13 col29\" >1.74%</td>\n",
       "    </tr>\n",
       "    <tr>\n",
       "      <th id=\"T_f2f79_level0_row14\" class=\"row_heading level0 row14\" >2019-04-15</th>\n",
       "      <td id=\"T_f2f79_row14_col0\" class=\"data row14 col0\" >1.16%</td>\n",
       "      <td id=\"T_f2f79_row14_col1\" class=\"data row14 col1\" >3.76%</td>\n",
       "      <td id=\"T_f2f79_row14_col2\" class=\"data row14 col2\" >4.63%</td>\n",
       "      <td id=\"T_f2f79_row14_col3\" class=\"data row14 col3\" >3.76%</td>\n",
       "      <td id=\"T_f2f79_row14_col4\" class=\"data row14 col4\" >5.93%</td>\n",
       "      <td id=\"T_f2f79_row14_col5\" class=\"data row14 col5\" >5.93%</td>\n",
       "      <td id=\"T_f2f79_row14_col6\" class=\"data row14 col6\" >5.35%</td>\n",
       "      <td id=\"T_f2f79_row14_col7\" class=\"data row14 col7\" >4.78%</td>\n",
       "      <td id=\"T_f2f79_row14_col8\" class=\"data row14 col8\" >4.92%</td>\n",
       "      <td id=\"T_f2f79_row14_col9\" class=\"data row14 col9\" >4.92%</td>\n",
       "      <td id=\"T_f2f79_row14_col10\" class=\"data row14 col10\" >3.76%</td>\n",
       "      <td id=\"T_f2f79_row14_col11\" class=\"data row14 col11\" >4.78%</td>\n",
       "      <td id=\"T_f2f79_row14_col12\" class=\"data row14 col12\" >4.34%</td>\n",
       "      <td id=\"T_f2f79_row14_col13\" class=\"data row14 col13\" >4.92%</td>\n",
       "      <td id=\"T_f2f79_row14_col14\" class=\"data row14 col14\" >3.62%</td>\n",
       "      <td id=\"T_f2f79_row14_col15\" class=\"data row14 col15\" >3.18%</td>\n",
       "      <td id=\"T_f2f79_row14_col16\" class=\"data row14 col16\" >4.20%</td>\n",
       "      <td id=\"T_f2f79_row14_col17\" class=\"data row14 col17\" >5.35%</td>\n",
       "      <td id=\"T_f2f79_row14_col18\" class=\"data row14 col18\" >3.04%</td>\n",
       "      <td id=\"T_f2f79_row14_col19\" class=\"data row14 col19\" >3.76%</td>\n",
       "      <td id=\"T_f2f79_row14_col20\" class=\"data row14 col20\" >3.47%</td>\n",
       "      <td id=\"T_f2f79_row14_col21\" class=\"data row14 col21\" >3.18%</td>\n",
       "      <td id=\"T_f2f79_row14_col22\" class=\"data row14 col22\" >4.34%</td>\n",
       "      <td id=\"T_f2f79_row14_col23\" class=\"data row14 col23\" >2.46%</td>\n",
       "      <td id=\"T_f2f79_row14_col24\" class=\"data row14 col24\" >3.04%</td>\n",
       "      <td id=\"T_f2f79_row14_col25\" class=\"data row14 col25\" >2.89%</td>\n",
       "      <td id=\"T_f2f79_row14_col26\" class=\"data row14 col26\" >3.04%</td>\n",
       "      <td id=\"T_f2f79_row14_col27\" class=\"data row14 col27\" >2.32%</td>\n",
       "      <td id=\"T_f2f79_row14_col28\" class=\"data row14 col28\" >2.46%</td>\n",
       "      <td id=\"T_f2f79_row14_col29\" class=\"data row14 col29\" >2.89%</td>\n",
       "    </tr>\n",
       "    <tr>\n",
       "      <th id=\"T_f2f79_level0_row15\" class=\"row_heading level0 row15\" >2019-04-16</th>\n",
       "      <td id=\"T_f2f79_row15_col0\" class=\"data row15 col0\" >1.59%</td>\n",
       "      <td id=\"T_f2f79_row15_col1\" class=\"data row15 col1\" >3.03%</td>\n",
       "      <td id=\"T_f2f79_row15_col2\" class=\"data row15 col2\" >5.64%</td>\n",
       "      <td id=\"T_f2f79_row15_col3\" class=\"data row15 col3\" >4.77%</td>\n",
       "      <td id=\"T_f2f79_row15_col4\" class=\"data row15 col4\" >7.08%</td>\n",
       "      <td id=\"T_f2f79_row15_col5\" class=\"data row15 col5\" >6.79%</td>\n",
       "      <td id=\"T_f2f79_row15_col6\" class=\"data row15 col6\" >6.50%</td>\n",
       "      <td id=\"T_f2f79_row15_col7\" class=\"data row15 col7\" >3.90%</td>\n",
       "      <td id=\"T_f2f79_row15_col8\" class=\"data row15 col8\" >6.50%</td>\n",
       "      <td id=\"T_f2f79_row15_col9\" class=\"data row15 col9\" >6.36%</td>\n",
       "      <td id=\"T_f2f79_row15_col10\" class=\"data row15 col10\" >5.64%</td>\n",
       "      <td id=\"T_f2f79_row15_col11\" class=\"data row15 col11\" >6.36%</td>\n",
       "      <td id=\"T_f2f79_row15_col12\" class=\"data row15 col12\" >5.06%</td>\n",
       "      <td id=\"T_f2f79_row15_col13\" class=\"data row15 col13\" >5.78%</td>\n",
       "      <td id=\"T_f2f79_row15_col14\" class=\"data row15 col14\" >4.19%</td>\n",
       "      <td id=\"T_f2f79_row15_col15\" class=\"data row15 col15\" >4.62%</td>\n",
       "      <td id=\"T_f2f79_row15_col16\" class=\"data row15 col16\" >4.48%</td>\n",
       "      <td id=\"T_f2f79_row15_col17\" class=\"data row15 col17\" >6.07%</td>\n",
       "      <td id=\"T_f2f79_row15_col18\" class=\"data row15 col18\" >4.19%</td>\n",
       "      <td id=\"T_f2f79_row15_col19\" class=\"data row15 col19\" >4.91%</td>\n",
       "      <td id=\"T_f2f79_row15_col20\" class=\"data row15 col20\" >3.90%</td>\n",
       "      <td id=\"T_f2f79_row15_col21\" class=\"data row15 col21\" >3.76%</td>\n",
       "      <td id=\"T_f2f79_row15_col22\" class=\"data row15 col22\" >3.90%</td>\n",
       "      <td id=\"T_f2f79_row15_col23\" class=\"data row15 col23\" >4.48%</td>\n",
       "      <td id=\"T_f2f79_row15_col24\" class=\"data row15 col24\" >3.90%</td>\n",
       "      <td id=\"T_f2f79_row15_col25\" class=\"data row15 col25\" >3.03%</td>\n",
       "      <td id=\"T_f2f79_row15_col26\" class=\"data row15 col26\" >4.34%</td>\n",
       "      <td id=\"T_f2f79_row15_col27\" class=\"data row15 col27\" >2.75%</td>\n",
       "      <td id=\"T_f2f79_row15_col28\" class=\"data row15 col28\" >4.05%</td>\n",
       "      <td id=\"T_f2f79_row15_col29\" class=\"data row15 col29\" >3.61%</td>\n",
       "    </tr>\n",
       "    <tr>\n",
       "      <th id=\"T_f2f79_level0_row16\" class=\"row_heading level0 row16\" >2019-04-17</th>\n",
       "      <td id=\"T_f2f79_row16_col0\" class=\"data row16 col0\" >2.45%</td>\n",
       "      <td id=\"T_f2f79_row16_col1\" class=\"data row16 col1\" >3.46%</td>\n",
       "      <td id=\"T_f2f79_row16_col2\" class=\"data row16 col2\" >5.19%</td>\n",
       "      <td id=\"T_f2f79_row16_col3\" class=\"data row16 col3\" >6.05%</td>\n",
       "      <td id=\"T_f2f79_row16_col4\" class=\"data row16 col4\" >5.48%</td>\n",
       "      <td id=\"T_f2f79_row16_col5\" class=\"data row16 col5\" >7.06%</td>\n",
       "      <td id=\"T_f2f79_row16_col6\" class=\"data row16 col6\" >6.77%</td>\n",
       "      <td id=\"T_f2f79_row16_col7\" class=\"data row16 col7\" >5.48%</td>\n",
       "      <td id=\"T_f2f79_row16_col8\" class=\"data row16 col8\" >6.05%</td>\n",
       "      <td id=\"T_f2f79_row16_col9\" class=\"data row16 col9\" >7.20%</td>\n",
       "      <td id=\"T_f2f79_row16_col10\" class=\"data row16 col10\" >5.33%</td>\n",
       "      <td id=\"T_f2f79_row16_col11\" class=\"data row16 col11\" >4.76%</td>\n",
       "      <td id=\"T_f2f79_row16_col12\" class=\"data row16 col12\" >4.76%</td>\n",
       "      <td id=\"T_f2f79_row16_col13\" class=\"data row16 col13\" >4.32%</td>\n",
       "      <td id=\"T_f2f79_row16_col14\" class=\"data row16 col14\" >5.33%</td>\n",
       "      <td id=\"T_f2f79_row16_col15\" class=\"data row16 col15\" >5.04%</td>\n",
       "      <td id=\"T_f2f79_row16_col16\" class=\"data row16 col16\" >6.48%</td>\n",
       "      <td id=\"T_f2f79_row16_col17\" class=\"data row16 col17\" >2.31%</td>\n",
       "      <td id=\"T_f2f79_row16_col18\" class=\"data row16 col18\" >3.75%</td>\n",
       "      <td id=\"T_f2f79_row16_col19\" class=\"data row16 col19\" >3.89%</td>\n",
       "      <td id=\"T_f2f79_row16_col20\" class=\"data row16 col20\" >4.61%</td>\n",
       "      <td id=\"T_f2f79_row16_col21\" class=\"data row16 col21\" >3.60%</td>\n",
       "      <td id=\"T_f2f79_row16_col22\" class=\"data row16 col22\" >5.76%</td>\n",
       "      <td id=\"T_f2f79_row16_col23\" class=\"data row16 col23\" >4.18%</td>\n",
       "      <td id=\"T_f2f79_row16_col24\" class=\"data row16 col24\" >2.74%</td>\n",
       "      <td id=\"T_f2f79_row16_col25\" class=\"data row16 col25\" >3.89%</td>\n",
       "      <td id=\"T_f2f79_row16_col26\" class=\"data row16 col26\" >2.88%</td>\n",
       "      <td id=\"T_f2f79_row16_col27\" class=\"data row16 col27\" >3.75%</td>\n",
       "      <td id=\"T_f2f79_row16_col28\" class=\"data row16 col28\" >3.60%</td>\n",
       "      <td id=\"T_f2f79_row16_col29\" class=\"data row16 col29\" >2.74%</td>\n",
       "    </tr>\n",
       "    <tr>\n",
       "      <th id=\"T_f2f79_level0_row17\" class=\"row_heading level0 row17\" >2019-04-18</th>\n",
       "      <td id=\"T_f2f79_row17_col0\" class=\"data row17 col0\" >2.74%</td>\n",
       "      <td id=\"T_f2f79_row17_col1\" class=\"data row17 col1\" >5.04%</td>\n",
       "      <td id=\"T_f2f79_row17_col2\" class=\"data row17 col2\" >4.18%</td>\n",
       "      <td id=\"T_f2f79_row17_col3\" class=\"data row17 col3\" >3.46%</td>\n",
       "      <td id=\"T_f2f79_row17_col4\" class=\"data row17 col4\" >6.05%</td>\n",
       "      <td id=\"T_f2f79_row17_col5\" class=\"data row17 col5\" >7.49%</td>\n",
       "      <td id=\"T_f2f79_row17_col6\" class=\"data row17 col6\" >4.90%</td>\n",
       "      <td id=\"T_f2f79_row17_col7\" class=\"data row17 col7\" >5.91%</td>\n",
       "      <td id=\"T_f2f79_row17_col8\" class=\"data row17 col8\" >4.76%</td>\n",
       "      <td id=\"T_f2f79_row17_col9\" class=\"data row17 col9\" >4.47%</td>\n",
       "      <td id=\"T_f2f79_row17_col10\" class=\"data row17 col10\" >4.18%</td>\n",
       "      <td id=\"T_f2f79_row17_col11\" class=\"data row17 col11\" >4.90%</td>\n",
       "      <td id=\"T_f2f79_row17_col12\" class=\"data row17 col12\" >5.76%</td>\n",
       "      <td id=\"T_f2f79_row17_col13\" class=\"data row17 col13\" >4.32%</td>\n",
       "      <td id=\"T_f2f79_row17_col14\" class=\"data row17 col14\" >5.33%</td>\n",
       "      <td id=\"T_f2f79_row17_col15\" class=\"data row17 col15\" >4.32%</td>\n",
       "      <td id=\"T_f2f79_row17_col16\" class=\"data row17 col16\" >3.75%</td>\n",
       "      <td id=\"T_f2f79_row17_col17\" class=\"data row17 col17\" >3.89%</td>\n",
       "      <td id=\"T_f2f79_row17_col18\" class=\"data row17 col18\" >4.61%</td>\n",
       "      <td id=\"T_f2f79_row17_col19\" class=\"data row17 col19\" >4.47%</td>\n",
       "      <td id=\"T_f2f79_row17_col20\" class=\"data row17 col20\" >3.75%</td>\n",
       "      <td id=\"T_f2f79_row17_col21\" class=\"data row17 col21\" >3.46%</td>\n",
       "      <td id=\"T_f2f79_row17_col22\" class=\"data row17 col22\" >4.32%</td>\n",
       "      <td id=\"T_f2f79_row17_col23\" class=\"data row17 col23\" >3.03%</td>\n",
       "      <td id=\"T_f2f79_row17_col24\" class=\"data row17 col24\" >4.47%</td>\n",
       "      <td id=\"T_f2f79_row17_col25\" class=\"data row17 col25\" >3.31%</td>\n",
       "      <td id=\"T_f2f79_row17_col26\" class=\"data row17 col26\" >2.31%</td>\n",
       "      <td id=\"T_f2f79_row17_col27\" class=\"data row17 col27\" >2.16%</td>\n",
       "      <td id=\"T_f2f79_row17_col28\" class=\"data row17 col28\" >3.03%</td>\n",
       "      <td id=\"T_f2f79_row17_col29\" class=\"data row17 col29\" >2.31%</td>\n",
       "    </tr>\n",
       "    <tr>\n",
       "      <th id=\"T_f2f79_level0_row18\" class=\"row_heading level0 row18\" >2019-04-19</th>\n",
       "      <td id=\"T_f2f79_row18_col0\" class=\"data row18 col0\" >1.58%</td>\n",
       "      <td id=\"T_f2f79_row18_col1\" class=\"data row18 col1\" >4.45%</td>\n",
       "      <td id=\"T_f2f79_row18_col2\" class=\"data row18 col2\" >4.74%</td>\n",
       "      <td id=\"T_f2f79_row18_col3\" class=\"data row18 col3\" >5.46%</td>\n",
       "      <td id=\"T_f2f79_row18_col4\" class=\"data row18 col4\" >6.61%</td>\n",
       "      <td id=\"T_f2f79_row18_col5\" class=\"data row18 col5\" >6.03%</td>\n",
       "      <td id=\"T_f2f79_row18_col6\" class=\"data row18 col6\" >5.89%</td>\n",
       "      <td id=\"T_f2f79_row18_col7\" class=\"data row18 col7\" >6.18%</td>\n",
       "      <td id=\"T_f2f79_row18_col8\" class=\"data row18 col8\" >3.45%</td>\n",
       "      <td id=\"T_f2f79_row18_col9\" class=\"data row18 col9\" >5.17%</td>\n",
       "      <td id=\"T_f2f79_row18_col10\" class=\"data row18 col10\" >5.32%</td>\n",
       "      <td id=\"T_f2f79_row18_col11\" class=\"data row18 col11\" >5.03%</td>\n",
       "      <td id=\"T_f2f79_row18_col12\" class=\"data row18 col12\" >4.60%</td>\n",
       "      <td id=\"T_f2f79_row18_col13\" class=\"data row18 col13\" >5.60%</td>\n",
       "      <td id=\"T_f2f79_row18_col14\" class=\"data row18 col14\" >5.75%</td>\n",
       "      <td id=\"T_f2f79_row18_col15\" class=\"data row18 col15\" >4.45%</td>\n",
       "      <td id=\"T_f2f79_row18_col16\" class=\"data row18 col16\" >5.17%</td>\n",
       "      <td id=\"T_f2f79_row18_col17\" class=\"data row18 col17\" >4.45%</td>\n",
       "      <td id=\"T_f2f79_row18_col18\" class=\"data row18 col18\" >3.88%</td>\n",
       "      <td id=\"T_f2f79_row18_col19\" class=\"data row18 col19\" >4.02%</td>\n",
       "      <td id=\"T_f2f79_row18_col20\" class=\"data row18 col20\" >2.87%</td>\n",
       "      <td id=\"T_f2f79_row18_col21\" class=\"data row18 col21\" >4.89%</td>\n",
       "      <td id=\"T_f2f79_row18_col22\" class=\"data row18 col22\" >4.60%</td>\n",
       "      <td id=\"T_f2f79_row18_col23\" class=\"data row18 col23\" >3.59%</td>\n",
       "      <td id=\"T_f2f79_row18_col24\" class=\"data row18 col24\" >3.74%</td>\n",
       "      <td id=\"T_f2f79_row18_col25\" class=\"data row18 col25\" >3.88%</td>\n",
       "      <td id=\"T_f2f79_row18_col26\" class=\"data row18 col26\" >3.45%</td>\n",
       "      <td id=\"T_f2f79_row18_col27\" class=\"data row18 col27\" >2.59%</td>\n",
       "      <td id=\"T_f2f79_row18_col28\" class=\"data row18 col28\" >2.87%</td>\n",
       "      <td id=\"T_f2f79_row18_col29\" class=\"data row18 col29\" >2.87%</td>\n",
       "    </tr>\n",
       "    <tr>\n",
       "      <th id=\"T_f2f79_level0_row19\" class=\"row_heading level0 row19\" >2019-04-20</th>\n",
       "      <td id=\"T_f2f79_row19_col0\" class=\"data row19 col0\" >2.44%</td>\n",
       "      <td id=\"T_f2f79_row19_col1\" class=\"data row19 col1\" >3.87%</td>\n",
       "      <td id=\"T_f2f79_row19_col2\" class=\"data row19 col2\" >4.59%</td>\n",
       "      <td id=\"T_f2f79_row19_col3\" class=\"data row19 col3\" >3.59%</td>\n",
       "      <td id=\"T_f2f79_row19_col4\" class=\"data row19 col4\" >6.89%</td>\n",
       "      <td id=\"T_f2f79_row19_col5\" class=\"data row19 col5\" >6.17%</td>\n",
       "      <td id=\"T_f2f79_row19_col6\" class=\"data row19 col6\" >6.17%</td>\n",
       "      <td id=\"T_f2f79_row19_col7\" class=\"data row19 col7\" >3.44%</td>\n",
       "      <td id=\"T_f2f79_row19_col8\" class=\"data row19 col8\" >5.16%</td>\n",
       "      <td id=\"T_f2f79_row19_col9\" class=\"data row19 col9\" >5.60%</td>\n",
       "      <td id=\"T_f2f79_row19_col10\" class=\"data row19 col10\" >5.60%</td>\n",
       "      <td id=\"T_f2f79_row19_col11\" class=\"data row19 col11\" >4.02%</td>\n",
       "      <td id=\"T_f2f79_row19_col12\" class=\"data row19 col12\" >5.31%</td>\n",
       "      <td id=\"T_f2f79_row19_col13\" class=\"data row19 col13\" >3.44%</td>\n",
       "      <td id=\"T_f2f79_row19_col14\" class=\"data row19 col14\" >5.45%</td>\n",
       "      <td id=\"T_f2f79_row19_col15\" class=\"data row19 col15\" >3.87%</td>\n",
       "      <td id=\"T_f2f79_row19_col16\" class=\"data row19 col16\" >4.16%</td>\n",
       "      <td id=\"T_f2f79_row19_col17\" class=\"data row19 col17\" >5.02%</td>\n",
       "      <td id=\"T_f2f79_row19_col18\" class=\"data row19 col18\" >4.30%</td>\n",
       "      <td id=\"T_f2f79_row19_col19\" class=\"data row19 col19\" >4.16%</td>\n",
       "      <td id=\"T_f2f79_row19_col20\" class=\"data row19 col20\" >3.01%</td>\n",
       "      <td id=\"T_f2f79_row19_col21\" class=\"data row19 col21\" >4.73%</td>\n",
       "      <td id=\"T_f2f79_row19_col22\" class=\"data row19 col22\" >3.44%</td>\n",
       "      <td id=\"T_f2f79_row19_col23\" class=\"data row19 col23\" >2.87%</td>\n",
       "      <td id=\"T_f2f79_row19_col24\" class=\"data row19 col24\" >3.87%</td>\n",
       "      <td id=\"T_f2f79_row19_col25\" class=\"data row19 col25\" >3.16%</td>\n",
       "      <td id=\"T_f2f79_row19_col26\" class=\"data row19 col26\" >2.44%</td>\n",
       "      <td id=\"T_f2f79_row19_col27\" class=\"data row19 col27\" >3.01%</td>\n",
       "      <td id=\"T_f2f79_row19_col28\" class=\"data row19 col28\" >3.01%</td>\n",
       "      <td id=\"T_f2f79_row19_col29\" class=\"data row19 col29\" >2.30%</td>\n",
       "    </tr>\n",
       "    <tr>\n",
       "      <th id=\"T_f2f79_level0_row20\" class=\"row_heading level0 row20\" >2019-04-21</th>\n",
       "      <td id=\"T_f2f79_row20_col0\" class=\"data row20 col0\" >1.15%</td>\n",
       "      <td id=\"T_f2f79_row20_col1\" class=\"data row20 col1\" >3.58%</td>\n",
       "      <td id=\"T_f2f79_row20_col2\" class=\"data row20 col2\" >4.58%</td>\n",
       "      <td id=\"T_f2f79_row20_col3\" class=\"data row20 col3\" >4.44%</td>\n",
       "      <td id=\"T_f2f79_row20_col4\" class=\"data row20 col4\" >5.73%</td>\n",
       "      <td id=\"T_f2f79_row20_col5\" class=\"data row20 col5\" >5.87%</td>\n",
       "      <td id=\"T_f2f79_row20_col6\" class=\"data row20 col6\" >5.16%</td>\n",
       "      <td id=\"T_f2f79_row20_col7\" class=\"data row20 col7\" >4.30%</td>\n",
       "      <td id=\"T_f2f79_row20_col8\" class=\"data row20 col8\" >6.16%</td>\n",
       "      <td id=\"T_f2f79_row20_col9\" class=\"data row20 col9\" >5.87%</td>\n",
       "      <td id=\"T_f2f79_row20_col10\" class=\"data row20 col10\" >4.01%</td>\n",
       "      <td id=\"T_f2f79_row20_col11\" class=\"data row20 col11\" >3.01%</td>\n",
       "      <td id=\"T_f2f79_row20_col12\" class=\"data row20 col12\" >4.30%</td>\n",
       "      <td id=\"T_f2f79_row20_col13\" class=\"data row20 col13\" >3.30%</td>\n",
       "      <td id=\"T_f2f79_row20_col14\" class=\"data row20 col14\" >5.30%</td>\n",
       "      <td id=\"T_f2f79_row20_col15\" class=\"data row20 col15\" >4.01%</td>\n",
       "      <td id=\"T_f2f79_row20_col16\" class=\"data row20 col16\" >4.44%</td>\n",
       "      <td id=\"T_f2f79_row20_col17\" class=\"data row20 col17\" >3.44%</td>\n",
       "      <td id=\"T_f2f79_row20_col18\" class=\"data row20 col18\" >3.87%</td>\n",
       "      <td id=\"T_f2f79_row20_col19\" class=\"data row20 col19\" >2.15%</td>\n",
       "      <td id=\"T_f2f79_row20_col20\" class=\"data row20 col20\" >3.87%</td>\n",
       "      <td id=\"T_f2f79_row20_col21\" class=\"data row20 col21\" >3.15%</td>\n",
       "      <td id=\"T_f2f79_row20_col22\" class=\"data row20 col22\" >2.72%</td>\n",
       "      <td id=\"T_f2f79_row20_col23\" class=\"data row20 col23\" >3.44%</td>\n",
       "      <td id=\"T_f2f79_row20_col24\" class=\"data row20 col24\" >2.72%</td>\n",
       "      <td id=\"T_f2f79_row20_col25\" class=\"data row20 col25\" >2.29%</td>\n",
       "      <td id=\"T_f2f79_row20_col26\" class=\"data row20 col26\" >2.44%</td>\n",
       "      <td id=\"T_f2f79_row20_col27\" class=\"data row20 col27\" >2.44%</td>\n",
       "      <td id=\"T_f2f79_row20_col28\" class=\"data row20 col28\" >1.86%</td>\n",
       "      <td id=\"T_f2f79_row20_col29\" class=\"data row20 col29\" >2.87%</td>\n",
       "    </tr>\n",
       "    <tr>\n",
       "      <th id=\"T_f2f79_level0_row21\" class=\"row_heading level0 row21\" >2019-04-22</th>\n",
       "      <td id=\"T_f2f79_row21_col0\" class=\"data row21 col0\" >1.72%</td>\n",
       "      <td id=\"T_f2f79_row21_col1\" class=\"data row21 col1\" >3.86%</td>\n",
       "      <td id=\"T_f2f79_row21_col2\" class=\"data row21 col2\" >4.58%</td>\n",
       "      <td id=\"T_f2f79_row21_col3\" class=\"data row21 col3\" >4.72%</td>\n",
       "      <td id=\"T_f2f79_row21_col4\" class=\"data row21 col4\" >5.72%</td>\n",
       "      <td id=\"T_f2f79_row21_col5\" class=\"data row21 col5\" >7.44%</td>\n",
       "      <td id=\"T_f2f79_row21_col6\" class=\"data row21 col6\" >5.58%</td>\n",
       "      <td id=\"T_f2f79_row21_col7\" class=\"data row21 col7\" >5.15%</td>\n",
       "      <td id=\"T_f2f79_row21_col8\" class=\"data row21 col8\" >4.15%</td>\n",
       "      <td id=\"T_f2f79_row21_col9\" class=\"data row21 col9\" >5.01%</td>\n",
       "      <td id=\"T_f2f79_row21_col10\" class=\"data row21 col10\" >5.01%</td>\n",
       "      <td id=\"T_f2f79_row21_col11\" class=\"data row21 col11\" >4.58%</td>\n",
       "      <td id=\"T_f2f79_row21_col12\" class=\"data row21 col12\" >4.43%</td>\n",
       "      <td id=\"T_f2f79_row21_col13\" class=\"data row21 col13\" >5.29%</td>\n",
       "      <td id=\"T_f2f79_row21_col14\" class=\"data row21 col14\" >4.15%</td>\n",
       "      <td id=\"T_f2f79_row21_col15\" class=\"data row21 col15\" >4.15%</td>\n",
       "      <td id=\"T_f2f79_row21_col16\" class=\"data row21 col16\" >4.86%</td>\n",
       "      <td id=\"T_f2f79_row21_col17\" class=\"data row21 col17\" >4.43%</td>\n",
       "      <td id=\"T_f2f79_row21_col18\" class=\"data row21 col18\" >3.72%</td>\n",
       "      <td id=\"T_f2f79_row21_col19\" class=\"data row21 col19\" >3.72%</td>\n",
       "      <td id=\"T_f2f79_row21_col20\" class=\"data row21 col20\" >4.29%</td>\n",
       "      <td id=\"T_f2f79_row21_col21\" class=\"data row21 col21\" >4.43%</td>\n",
       "      <td id=\"T_f2f79_row21_col22\" class=\"data row21 col22\" >5.01%</td>\n",
       "      <td id=\"T_f2f79_row21_col23\" class=\"data row21 col23\" >5.01%</td>\n",
       "      <td id=\"T_f2f79_row21_col24\" class=\"data row21 col24\" >2.72%</td>\n",
       "      <td id=\"T_f2f79_row21_col25\" class=\"data row21 col25\" >4.29%</td>\n",
       "      <td id=\"T_f2f79_row21_col26\" class=\"data row21 col26\" >2.43%</td>\n",
       "      <td id=\"T_f2f79_row21_col27\" class=\"data row21 col27\" >4.86%</td>\n",
       "      <td id=\"T_f2f79_row21_col28\" class=\"data row21 col28\" >2.72%</td>\n",
       "      <td id=\"T_f2f79_row21_col29\" class=\"data row21 col29\" >2.43%</td>\n",
       "    </tr>\n",
       "    <tr>\n",
       "      <th id=\"T_f2f79_level0_row22\" class=\"row_heading level0 row22\" >2019-04-23</th>\n",
       "      <td id=\"T_f2f79_row22_col0\" class=\"data row22 col0\" >2.29%</td>\n",
       "      <td id=\"T_f2f79_row22_col1\" class=\"data row22 col1\" >3.71%</td>\n",
       "      <td id=\"T_f2f79_row22_col2\" class=\"data row22 col2\" >5.14%</td>\n",
       "      <td id=\"T_f2f79_row22_col3\" class=\"data row22 col3\" >4.29%</td>\n",
       "      <td id=\"T_f2f79_row22_col4\" class=\"data row22 col4\" >7.14%</td>\n",
       "      <td id=\"T_f2f79_row22_col5\" class=\"data row22 col5\" >6.57%</td>\n",
       "      <td id=\"T_f2f79_row22_col6\" class=\"data row22 col6\" >6.71%</td>\n",
       "      <td id=\"T_f2f79_row22_col7\" class=\"data row22 col7\" >4.71%</td>\n",
       "      <td id=\"T_f2f79_row22_col8\" class=\"data row22 col8\" >4.14%</td>\n",
       "      <td id=\"T_f2f79_row22_col9\" class=\"data row22 col9\" >5.14%</td>\n",
       "      <td id=\"T_f2f79_row22_col10\" class=\"data row22 col10\" >7.00%</td>\n",
       "      <td id=\"T_f2f79_row22_col11\" class=\"data row22 col11\" >5.00%</td>\n",
       "      <td id=\"T_f2f79_row22_col12\" class=\"data row22 col12\" >3.71%</td>\n",
       "      <td id=\"T_f2f79_row22_col13\" class=\"data row22 col13\" >4.86%</td>\n",
       "      <td id=\"T_f2f79_row22_col14\" class=\"data row22 col14\" >5.29%</td>\n",
       "      <td id=\"T_f2f79_row22_col15\" class=\"data row22 col15\" >4.29%</td>\n",
       "      <td id=\"T_f2f79_row22_col16\" class=\"data row22 col16\" >4.43%</td>\n",
       "      <td id=\"T_f2f79_row22_col17\" class=\"data row22 col17\" >5.43%</td>\n",
       "      <td id=\"T_f2f79_row22_col18\" class=\"data row22 col18\" >4.43%</td>\n",
       "      <td id=\"T_f2f79_row22_col19\" class=\"data row22 col19\" >4.57%</td>\n",
       "      <td id=\"T_f2f79_row22_col20\" class=\"data row22 col20\" >5.00%</td>\n",
       "      <td id=\"T_f2f79_row22_col21\" class=\"data row22 col21\" >4.43%</td>\n",
       "      <td id=\"T_f2f79_row22_col22\" class=\"data row22 col22\" >3.57%</td>\n",
       "      <td id=\"T_f2f79_row22_col23\" class=\"data row22 col23\" >2.86%</td>\n",
       "      <td id=\"T_f2f79_row22_col24\" class=\"data row22 col24\" >3.57%</td>\n",
       "      <td id=\"T_f2f79_row22_col25\" class=\"data row22 col25\" >3.29%</td>\n",
       "      <td id=\"T_f2f79_row22_col26\" class=\"data row22 col26\" >3.71%</td>\n",
       "      <td id=\"T_f2f79_row22_col27\" class=\"data row22 col27\" >3.71%</td>\n",
       "      <td id=\"T_f2f79_row22_col28\" class=\"data row22 col28\" >2.57%</td>\n",
       "      <td id=\"T_f2f79_row22_col29\" class=\"data row22 col29\" >3.00%</td>\n",
       "    </tr>\n",
       "    <tr>\n",
       "      <th id=\"T_f2f79_level0_row23\" class=\"row_heading level0 row23\" >2019-04-24</th>\n",
       "      <td id=\"T_f2f79_row23_col0\" class=\"data row23 col0\" >1.57%</td>\n",
       "      <td id=\"T_f2f79_row23_col1\" class=\"data row23 col1\" >4.99%</td>\n",
       "      <td id=\"T_f2f79_row23_col2\" class=\"data row23 col2\" >6.13%</td>\n",
       "      <td id=\"T_f2f79_row23_col3\" class=\"data row23 col3\" >7.13%</td>\n",
       "      <td id=\"T_f2f79_row23_col4\" class=\"data row23 col4\" >4.85%</td>\n",
       "      <td id=\"T_f2f79_row23_col5\" class=\"data row23 col5\" >7.28%</td>\n",
       "      <td id=\"T_f2f79_row23_col6\" class=\"data row23 col6\" >5.42%</td>\n",
       "      <td id=\"T_f2f79_row23_col7\" class=\"data row23 col7\" >4.28%</td>\n",
       "      <td id=\"T_f2f79_row23_col8\" class=\"data row23 col8\" >5.14%</td>\n",
       "      <td id=\"T_f2f79_row23_col9\" class=\"data row23 col9\" >5.71%</td>\n",
       "      <td id=\"T_f2f79_row23_col10\" class=\"data row23 col10\" >4.99%</td>\n",
       "      <td id=\"T_f2f79_row23_col11\" class=\"data row23 col11\" >3.85%</td>\n",
       "      <td id=\"T_f2f79_row23_col12\" class=\"data row23 col12\" >5.14%</td>\n",
       "      <td id=\"T_f2f79_row23_col13\" class=\"data row23 col13\" >4.99%</td>\n",
       "      <td id=\"T_f2f79_row23_col14\" class=\"data row23 col14\" >5.14%</td>\n",
       "      <td id=\"T_f2f79_row23_col15\" class=\"data row23 col15\" >3.99%</td>\n",
       "      <td id=\"T_f2f79_row23_col16\" class=\"data row23 col16\" >4.71%</td>\n",
       "      <td id=\"T_f2f79_row23_col17\" class=\"data row23 col17\" >3.28%</td>\n",
       "      <td id=\"T_f2f79_row23_col18\" class=\"data row23 col18\" >4.42%</td>\n",
       "      <td id=\"T_f2f79_row23_col19\" class=\"data row23 col19\" >4.71%</td>\n",
       "      <td id=\"T_f2f79_row23_col20\" class=\"data row23 col20\" >3.99%</td>\n",
       "      <td id=\"T_f2f79_row23_col21\" class=\"data row23 col21\" >2.28%</td>\n",
       "      <td id=\"T_f2f79_row23_col22\" class=\"data row23 col22\" >4.28%</td>\n",
       "      <td id=\"T_f2f79_row23_col23\" class=\"data row23 col23\" >2.71%</td>\n",
       "      <td id=\"T_f2f79_row23_col24\" class=\"data row23 col24\" >5.28%</td>\n",
       "      <td id=\"T_f2f79_row23_col25\" class=\"data row23 col25\" >2.00%</td>\n",
       "      <td id=\"T_f2f79_row23_col26\" class=\"data row23 col26\" >3.42%</td>\n",
       "      <td id=\"T_f2f79_row23_col27\" class=\"data row23 col27\" >2.71%</td>\n",
       "      <td id=\"T_f2f79_row23_col28\" class=\"data row23 col28\" >2.43%</td>\n",
       "      <td id=\"T_f2f79_row23_col29\" class=\"data row23 col29\" >2.57%</td>\n",
       "    </tr>\n",
       "    <tr>\n",
       "      <th id=\"T_f2f79_level0_row24\" class=\"row_heading level0 row24\" >2019-04-25</th>\n",
       "      <td id=\"T_f2f79_row24_col0\" class=\"data row24 col0\" >2.42%</td>\n",
       "      <td id=\"T_f2f79_row24_col1\" class=\"data row24 col1\" >4.41%</td>\n",
       "      <td id=\"T_f2f79_row24_col2\" class=\"data row24 col2\" >3.27%</td>\n",
       "      <td id=\"T_f2f79_row24_col3\" class=\"data row24 col3\" >5.41%</td>\n",
       "      <td id=\"T_f2f79_row24_col4\" class=\"data row24 col4\" >5.83%</td>\n",
       "      <td id=\"T_f2f79_row24_col5\" class=\"data row24 col5\" >7.97%</td>\n",
       "      <td id=\"T_f2f79_row24_col6\" class=\"data row24 col6\" >5.12%</td>\n",
       "      <td id=\"T_f2f79_row24_col7\" class=\"data row24 col7\" >4.41%</td>\n",
       "      <td id=\"T_f2f79_row24_col8\" class=\"data row24 col8\" >4.13%</td>\n",
       "      <td id=\"T_f2f79_row24_col9\" class=\"data row24 col9\" >5.69%</td>\n",
       "      <td id=\"T_f2f79_row24_col10\" class=\"data row24 col10\" >4.84%</td>\n",
       "      <td id=\"T_f2f79_row24_col11\" class=\"data row24 col11\" >5.55%</td>\n",
       "      <td id=\"T_f2f79_row24_col12\" class=\"data row24 col12\" >6.40%</td>\n",
       "      <td id=\"T_f2f79_row24_col13\" class=\"data row24 col13\" >4.55%</td>\n",
       "      <td id=\"T_f2f79_row24_col14\" class=\"data row24 col14\" >4.69%</td>\n",
       "      <td id=\"T_f2f79_row24_col15\" class=\"data row24 col15\" >4.27%</td>\n",
       "      <td id=\"T_f2f79_row24_col16\" class=\"data row24 col16\" >5.55%</td>\n",
       "      <td id=\"T_f2f79_row24_col17\" class=\"data row24 col17\" >3.84%</td>\n",
       "      <td id=\"T_f2f79_row24_col18\" class=\"data row24 col18\" >3.84%</td>\n",
       "      <td id=\"T_f2f79_row24_col19\" class=\"data row24 col19\" >4.55%</td>\n",
       "      <td id=\"T_f2f79_row24_col20\" class=\"data row24 col20\" >3.70%</td>\n",
       "      <td id=\"T_f2f79_row24_col21\" class=\"data row24 col21\" >3.41%</td>\n",
       "      <td id=\"T_f2f79_row24_col22\" class=\"data row24 col22\" >2.99%</td>\n",
       "      <td id=\"T_f2f79_row24_col23\" class=\"data row24 col23\" >4.13%</td>\n",
       "      <td id=\"T_f2f79_row24_col24\" class=\"data row24 col24\" >2.84%</td>\n",
       "      <td id=\"T_f2f79_row24_col25\" class=\"data row24 col25\" >3.13%</td>\n",
       "      <td id=\"T_f2f79_row24_col26\" class=\"data row24 col26\" >3.27%</td>\n",
       "      <td id=\"T_f2f79_row24_col27\" class=\"data row24 col27\" >3.41%</td>\n",
       "      <td id=\"T_f2f79_row24_col28\" class=\"data row24 col28\" >3.56%</td>\n",
       "      <td id=\"T_f2f79_row24_col29\" class=\"data row24 col29\" >2.99%</td>\n",
       "    </tr>\n",
       "    <tr>\n",
       "      <th id=\"T_f2f79_level0_row25\" class=\"row_heading level0 row25\" >2019-04-26</th>\n",
       "      <td id=\"T_f2f79_row25_col0\" class=\"data row25 col0\" >1.28%</td>\n",
       "      <td id=\"T_f2f79_row25_col1\" class=\"data row25 col1\" >4.26%</td>\n",
       "      <td id=\"T_f2f79_row25_col2\" class=\"data row25 col2\" >5.11%</td>\n",
       "      <td id=\"T_f2f79_row25_col3\" class=\"data row25 col3\" >7.10%</td>\n",
       "      <td id=\"T_f2f79_row25_col4\" class=\"data row25 col4\" >6.11%</td>\n",
       "      <td id=\"T_f2f79_row25_col5\" class=\"data row25 col5\" >7.67%</td>\n",
       "      <td id=\"T_f2f79_row25_col6\" class=\"data row25 col6\" >4.55%</td>\n",
       "      <td id=\"T_f2f79_row25_col7\" class=\"data row25 col7\" >5.97%</td>\n",
       "      <td id=\"T_f2f79_row25_col8\" class=\"data row25 col8\" >5.68%</td>\n",
       "      <td id=\"T_f2f79_row25_col9\" class=\"data row25 col9\" >6.39%</td>\n",
       "      <td id=\"T_f2f79_row25_col10\" class=\"data row25 col10\" >6.82%</td>\n",
       "      <td id=\"T_f2f79_row25_col11\" class=\"data row25 col11\" >4.12%</td>\n",
       "      <td id=\"T_f2f79_row25_col12\" class=\"data row25 col12\" >3.27%</td>\n",
       "      <td id=\"T_f2f79_row25_col13\" class=\"data row25 col13\" >4.12%</td>\n",
       "      <td id=\"T_f2f79_row25_col14\" class=\"data row25 col14\" >4.69%</td>\n",
       "      <td id=\"T_f2f79_row25_col15\" class=\"data row25 col15\" >6.25%</td>\n",
       "      <td id=\"T_f2f79_row25_col16\" class=\"data row25 col16\" >5.26%</td>\n",
       "      <td id=\"T_f2f79_row25_col17\" class=\"data row25 col17\" >4.97%</td>\n",
       "      <td id=\"T_f2f79_row25_col18\" class=\"data row25 col18\" >4.55%</td>\n",
       "      <td id=\"T_f2f79_row25_col19\" class=\"data row25 col19\" >4.69%</td>\n",
       "      <td id=\"T_f2f79_row25_col20\" class=\"data row25 col20\" >3.98%</td>\n",
       "      <td id=\"T_f2f79_row25_col21\" class=\"data row25 col21\" >3.84%</td>\n",
       "      <td id=\"T_f2f79_row25_col22\" class=\"data row25 col22\" >3.41%</td>\n",
       "      <td id=\"T_f2f79_row25_col23\" class=\"data row25 col23\" >5.26%</td>\n",
       "      <td id=\"T_f2f79_row25_col24\" class=\"data row25 col24\" >2.56%</td>\n",
       "      <td id=\"T_f2f79_row25_col25\" class=\"data row25 col25\" >3.84%</td>\n",
       "      <td id=\"T_f2f79_row25_col26\" class=\"data row25 col26\" >4.69%</td>\n",
       "      <td id=\"T_f2f79_row25_col27\" class=\"data row25 col27\" >3.12%</td>\n",
       "      <td id=\"T_f2f79_row25_col28\" class=\"data row25 col28\" >2.98%</td>\n",
       "      <td id=\"T_f2f79_row25_col29\" class=\"data row25 col29\" >2.41%</td>\n",
       "    </tr>\n",
       "    <tr>\n",
       "      <th id=\"T_f2f79_level0_row26\" class=\"row_heading level0 row26\" >2019-04-27</th>\n",
       "      <td id=\"T_f2f79_row26_col0\" class=\"data row26 col0\" >1.56%</td>\n",
       "      <td id=\"T_f2f79_row26_col1\" class=\"data row26 col1\" >2.84%</td>\n",
       "      <td id=\"T_f2f79_row26_col2\" class=\"data row26 col2\" >5.39%</td>\n",
       "      <td id=\"T_f2f79_row26_col3\" class=\"data row26 col3\" >4.26%</td>\n",
       "      <td id=\"T_f2f79_row26_col4\" class=\"data row26 col4\" >6.67%</td>\n",
       "      <td id=\"T_f2f79_row26_col5\" class=\"data row26 col5\" >5.53%</td>\n",
       "      <td id=\"T_f2f79_row26_col6\" class=\"data row26 col6\" >5.11%</td>\n",
       "      <td id=\"T_f2f79_row26_col7\" class=\"data row26 col7\" >4.68%</td>\n",
       "      <td id=\"T_f2f79_row26_col8\" class=\"data row26 col8\" >4.68%</td>\n",
       "      <td id=\"T_f2f79_row26_col9\" class=\"data row26 col9\" >3.97%</td>\n",
       "      <td id=\"T_f2f79_row26_col10\" class=\"data row26 col10\" >4.11%</td>\n",
       "      <td id=\"T_f2f79_row26_col11\" class=\"data row26 col11\" >4.54%</td>\n",
       "      <td id=\"T_f2f79_row26_col12\" class=\"data row26 col12\" >5.82%</td>\n",
       "      <td id=\"T_f2f79_row26_col13\" class=\"data row26 col13\" >3.40%</td>\n",
       "      <td id=\"T_f2f79_row26_col14\" class=\"data row26 col14\" >4.82%</td>\n",
       "      <td id=\"T_f2f79_row26_col15\" class=\"data row26 col15\" >3.69%</td>\n",
       "      <td id=\"T_f2f79_row26_col16\" class=\"data row26 col16\" >4.40%</td>\n",
       "      <td id=\"T_f2f79_row26_col17\" class=\"data row26 col17\" >5.11%</td>\n",
       "      <td id=\"T_f2f79_row26_col18\" class=\"data row26 col18\" >3.26%</td>\n",
       "      <td id=\"T_f2f79_row26_col19\" class=\"data row26 col19\" >3.83%</td>\n",
       "      <td id=\"T_f2f79_row26_col20\" class=\"data row26 col20\" >3.26%</td>\n",
       "      <td id=\"T_f2f79_row26_col21\" class=\"data row26 col21\" >4.26%</td>\n",
       "      <td id=\"T_f2f79_row26_col22\" class=\"data row26 col22\" >3.26%</td>\n",
       "      <td id=\"T_f2f79_row26_col23\" class=\"data row26 col23\" >2.98%</td>\n",
       "      <td id=\"T_f2f79_row26_col24\" class=\"data row26 col24\" >3.26%</td>\n",
       "      <td id=\"T_f2f79_row26_col25\" class=\"data row26 col25\" >2.13%</td>\n",
       "      <td id=\"T_f2f79_row26_col26\" class=\"data row26 col26\" >2.98%</td>\n",
       "      <td id=\"T_f2f79_row26_col27\" class=\"data row26 col27\" >3.69%</td>\n",
       "      <td id=\"T_f2f79_row26_col28\" class=\"data row26 col28\" >2.41%</td>\n",
       "      <td id=\"T_f2f79_row26_col29\" class=\"data row26 col29\" >3.55%</td>\n",
       "    </tr>\n",
       "    <tr>\n",
       "      <th id=\"T_f2f79_level0_row27\" class=\"row_heading level0 row27\" >2019-04-28</th>\n",
       "      <td id=\"T_f2f79_row27_col0\" class=\"data row27 col0\" >1.98%</td>\n",
       "      <td id=\"T_f2f79_row27_col1\" class=\"data row27 col1\" >3.82%</td>\n",
       "      <td id=\"T_f2f79_row27_col2\" class=\"data row27 col2\" >5.38%</td>\n",
       "      <td id=\"T_f2f79_row27_col3\" class=\"data row27 col3\" >6.94%</td>\n",
       "      <td id=\"T_f2f79_row27_col4\" class=\"data row27 col4\" >6.66%</td>\n",
       "      <td id=\"T_f2f79_row27_col5\" class=\"data row27 col5\" >7.79%</td>\n",
       "      <td id=\"T_f2f79_row27_col6\" class=\"data row27 col6\" >5.10%</td>\n",
       "      <td id=\"T_f2f79_row27_col7\" class=\"data row27 col7\" >5.10%</td>\n",
       "      <td id=\"T_f2f79_row27_col8\" class=\"data row27 col8\" >5.95%</td>\n",
       "      <td id=\"T_f2f79_row27_col9\" class=\"data row27 col9\" >5.81%</td>\n",
       "      <td id=\"T_f2f79_row27_col10\" class=\"data row27 col10\" >4.67%</td>\n",
       "      <td id=\"T_f2f79_row27_col11\" class=\"data row27 col11\" >5.24%</td>\n",
       "      <td id=\"T_f2f79_row27_col12\" class=\"data row27 col12\" >5.67%</td>\n",
       "      <td id=\"T_f2f79_row27_col13\" class=\"data row27 col13\" >6.37%</td>\n",
       "      <td id=\"T_f2f79_row27_col14\" class=\"data row27 col14\" >5.24%</td>\n",
       "      <td id=\"T_f2f79_row27_col15\" class=\"data row27 col15\" >5.52%</td>\n",
       "      <td id=\"T_f2f79_row27_col16\" class=\"data row27 col16\" >5.95%</td>\n",
       "      <td id=\"T_f2f79_row27_col17\" class=\"data row27 col17\" >4.96%</td>\n",
       "      <td id=\"T_f2f79_row27_col18\" class=\"data row27 col18\" >4.39%</td>\n",
       "      <td id=\"T_f2f79_row27_col19\" class=\"data row27 col19\" >4.53%</td>\n",
       "      <td id=\"T_f2f79_row27_col20\" class=\"data row27 col20\" >5.10%</td>\n",
       "      <td id=\"T_f2f79_row27_col21\" class=\"data row27 col21\" >4.39%</td>\n",
       "      <td id=\"T_f2f79_row27_col22\" class=\"data row27 col22\" >3.97%</td>\n",
       "      <td id=\"T_f2f79_row27_col23\" class=\"data row27 col23\" >3.40%</td>\n",
       "      <td id=\"T_f2f79_row27_col24\" class=\"data row27 col24\" >4.82%</td>\n",
       "      <td id=\"T_f2f79_row27_col25\" class=\"data row27 col25\" >3.54%</td>\n",
       "      <td id=\"T_f2f79_row27_col26\" class=\"data row27 col26\" >3.40%</td>\n",
       "      <td id=\"T_f2f79_row27_col27\" class=\"data row27 col27\" >3.97%</td>\n",
       "      <td id=\"T_f2f79_row27_col28\" class=\"data row27 col28\" >2.55%</td>\n",
       "      <td id=\"T_f2f79_row27_col29\" class=\"data row27 col29\" >3.82%</td>\n",
       "    </tr>\n",
       "    <tr>\n",
       "      <th id=\"T_f2f79_level0_row28\" class=\"row_heading level0 row28\" >2019-04-29</th>\n",
       "      <td id=\"T_f2f79_row28_col0\" class=\"data row28 col0\" >1.41%</td>\n",
       "      <td id=\"T_f2f79_row28_col1\" class=\"data row28 col1\" >4.67%</td>\n",
       "      <td id=\"T_f2f79_row28_col2\" class=\"data row28 col2\" >5.52%</td>\n",
       "      <td id=\"T_f2f79_row28_col3\" class=\"data row28 col3\" >5.52%</td>\n",
       "      <td id=\"T_f2f79_row28_col4\" class=\"data row28 col4\" >6.08%</td>\n",
       "      <td id=\"T_f2f79_row28_col5\" class=\"data row28 col5\" >4.95%</td>\n",
       "      <td id=\"T_f2f79_row28_col6\" class=\"data row28 col6\" >5.80%</td>\n",
       "      <td id=\"T_f2f79_row28_col7\" class=\"data row28 col7\" >5.80%</td>\n",
       "      <td id=\"T_f2f79_row28_col8\" class=\"data row28 col8\" >5.37%</td>\n",
       "      <td id=\"T_f2f79_row28_col9\" class=\"data row28 col9\" >5.66%</td>\n",
       "      <td id=\"T_f2f79_row28_col10\" class=\"data row28 col10\" >2.97%</td>\n",
       "      <td id=\"T_f2f79_row28_col11\" class=\"data row28 col11\" >4.95%</td>\n",
       "      <td id=\"T_f2f79_row28_col12\" class=\"data row28 col12\" >5.52%</td>\n",
       "      <td id=\"T_f2f79_row28_col13\" class=\"data row28 col13\" >4.67%</td>\n",
       "      <td id=\"T_f2f79_row28_col14\" class=\"data row28 col14\" >5.23%</td>\n",
       "      <td id=\"T_f2f79_row28_col15\" class=\"data row28 col15\" >3.68%</td>\n",
       "      <td id=\"T_f2f79_row28_col16\" class=\"data row28 col16\" >5.37%</td>\n",
       "      <td id=\"T_f2f79_row28_col17\" class=\"data row28 col17\" >4.10%</td>\n",
       "      <td id=\"T_f2f79_row28_col18\" class=\"data row28 col18\" >3.25%</td>\n",
       "      <td id=\"T_f2f79_row28_col19\" class=\"data row28 col19\" >3.68%</td>\n",
       "      <td id=\"T_f2f79_row28_col20\" class=\"data row28 col20\" >4.67%</td>\n",
       "      <td id=\"T_f2f79_row28_col21\" class=\"data row28 col21\" >3.68%</td>\n",
       "      <td id=\"T_f2f79_row28_col22\" class=\"data row28 col22\" >3.39%</td>\n",
       "      <td id=\"T_f2f79_row28_col23\" class=\"data row28 col23\" >4.24%</td>\n",
       "      <td id=\"T_f2f79_row28_col24\" class=\"data row28 col24\" >3.82%</td>\n",
       "      <td id=\"T_f2f79_row28_col25\" class=\"data row28 col25\" >2.55%</td>\n",
       "      <td id=\"T_f2f79_row28_col26\" class=\"data row28 col26\" >2.97%</td>\n",
       "      <td id=\"T_f2f79_row28_col27\" class=\"data row28 col27\" >2.26%</td>\n",
       "      <td id=\"T_f2f79_row28_col28\" class=\"data row28 col28\" >3.82%</td>\n",
       "      <td id=\"T_f2f79_row28_col29\" class=\"data row28 col29\" >2.69%</td>\n",
       "    </tr>\n",
       "    <tr>\n",
       "      <th id=\"T_f2f79_level0_row29\" class=\"row_heading level0 row29\" >2019-04-30</th>\n",
       "      <td id=\"T_f2f79_row29_col0\" class=\"data row29 col0\" >1.98%</td>\n",
       "      <td id=\"T_f2f79_row29_col1\" class=\"data row29 col1\" >2.12%</td>\n",
       "      <td id=\"T_f2f79_row29_col2\" class=\"data row29 col2\" >5.51%</td>\n",
       "      <td id=\"T_f2f79_row29_col3\" class=\"data row29 col3\" >4.10%</td>\n",
       "      <td id=\"T_f2f79_row29_col4\" class=\"data row29 col4\" >5.65%</td>\n",
       "      <td id=\"T_f2f79_row29_col5\" class=\"data row29 col5\" >5.93%</td>\n",
       "      <td id=\"T_f2f79_row29_col6\" class=\"data row29 col6\" >5.37%</td>\n",
       "      <td id=\"T_f2f79_row29_col7\" class=\"data row29 col7\" >3.67%</td>\n",
       "      <td id=\"T_f2f79_row29_col8\" class=\"data row29 col8\" >3.67%</td>\n",
       "      <td id=\"T_f2f79_row29_col9\" class=\"data row29 col9\" >5.08%</td>\n",
       "      <td id=\"T_f2f79_row29_col10\" class=\"data row29 col10\" >4.52%</td>\n",
       "      <td id=\"T_f2f79_row29_col11\" class=\"data row29 col11\" >4.52%</td>\n",
       "      <td id=\"T_f2f79_row29_col12\" class=\"data row29 col12\" >3.25%</td>\n",
       "      <td id=\"T_f2f79_row29_col13\" class=\"data row29 col13\" >4.80%</td>\n",
       "      <td id=\"T_f2f79_row29_col14\" class=\"data row29 col14\" >3.95%</td>\n",
       "      <td id=\"T_f2f79_row29_col15\" class=\"data row29 col15\" >4.38%</td>\n",
       "      <td id=\"T_f2f79_row29_col16\" class=\"data row29 col16\" >4.52%</td>\n",
       "      <td id=\"T_f2f79_row29_col17\" class=\"data row29 col17\" >3.95%</td>\n",
       "      <td id=\"T_f2f79_row29_col18\" class=\"data row29 col18\" >3.39%</td>\n",
       "      <td id=\"T_f2f79_row29_col19\" class=\"data row29 col19\" >3.25%</td>\n",
       "      <td id=\"T_f2f79_row29_col20\" class=\"data row29 col20\" >3.11%</td>\n",
       "      <td id=\"T_f2f79_row29_col21\" class=\"data row29 col21\" >4.24%</td>\n",
       "      <td id=\"T_f2f79_row29_col22\" class=\"data row29 col22\" >3.95%</td>\n",
       "      <td id=\"T_f2f79_row29_col23\" class=\"data row29 col23\" >2.12%</td>\n",
       "      <td id=\"T_f2f79_row29_col24\" class=\"data row29 col24\" >4.66%</td>\n",
       "      <td id=\"T_f2f79_row29_col25\" class=\"data row29 col25\" >2.54%</td>\n",
       "      <td id=\"T_f2f79_row29_col26\" class=\"data row29 col26\" >2.26%</td>\n",
       "      <td id=\"T_f2f79_row29_col27\" class=\"data row29 col27\" >2.82%</td>\n",
       "      <td id=\"T_f2f79_row29_col28\" class=\"data row29 col28\" >3.11%</td>\n",
       "      <td id=\"T_f2f79_row29_col29\" class=\"data row29 col29\" >3.11%</td>\n",
       "    </tr>\n",
       "  </tbody>\n",
       "</table>\n"
      ],
      "text/plain": [
       "<pandas.io.formats.style.Styler at 0x1d20cc147d0>"
      ]
     },
     "execution_count": 121,
     "metadata": {},
     "output_type": "execute_result"
    },
    {
     "data": {
      "image/png": "[encoded data removed]",
      "text/plain": [
       "<Figure size 1200x600 with 2 Axes>"
      ]
     },
     "metadata": {},
     "output_type": "display_data"
    }
   ],
   "source": [
    "# Выведем данные за апрель 2019\n",
    "retention_rate('2019', '04', '01', '2019', '04', '30')"
   ]
  },
  {
   "cell_type": "markdown",
   "metadata": {},
   "source": [
    "__Разъяснение функции__"
   ]
  },
  {
   "cell_type": "markdown",
   "metadata": {},
   "source": [
    "1. Первый шаг производит проверку, чтобы определить, сколько дат нужно выводить в итоговой таблице. Если вторые 3 аргумента остаются без изменения, оставляем только первую дату."
   ]
  },
  {
   "cell_type": "code",
   "execution_count": 122,
   "metadata": {},
   "outputs": [],
   "source": [
    "year1, month1, day1 = ('2018', '09', '16')  # возьмем для примера"
   ]
  },
  {
   "cell_type": "code",
   "execution_count": 123,
   "metadata": {},
   "outputs": [
    {
     "data": {
      "text/plain": [
       "Timestamp('2018-09-16 00:00:00')"
      ]
     },
     "execution_count": 123,
     "metadata": {},
     "output_type": "execute_result"
    }
   ],
   "source": [
    "chosen_date_1 = pd.to_datetime(year1 + month1 + day1)\n",
    "chosen_date_2 = 0\n",
    "chosen_date_1"
   ]
  },
  {
   "cell_type": "markdown",
   "metadata": {},
   "source": [
    "2. Далее производится разбивка данных об авторизациях на когорты. Присваиваем каждой строке дату регистрации по id пользователя."
   ]
  },
  {
   "cell_type": "code",
   "execution_count": 124,
   "metadata": {},
   "outputs": [],
   "source": [
    "data = authorizations.merge(\n",
    "    registrations[['uid', 'reg_date']], how='left', on='uid')"
   ]
  },
  {
   "cell_type": "markdown",
   "metadata": {},
   "source": [
    "3. Производим фильтрацию данных по необходимым датам, которые получили в шаге 1."
   ]
  },
  {
   "cell_type": "code",
   "execution_count": 125,
   "metadata": {},
   "outputs": [],
   "source": [
    "if chosen_date_2 == 0:\n",
    "    correct_data = data.loc[pd.to_datetime(data['reg_date']) == chosen_date_1]\n",
    "else:\n",
    "    correct_data = data.loc[pd.to_datetime(data['reg_date']) >=\n",
    "                            chosen_date_1].loc[pd.to_datetime(data['reg_date']) <= chosen_date_2]"
   ]
  },
  {
   "cell_type": "markdown",
   "metadata": {},
   "source": [
    "4. В каждой когорте подсчитываем уникальное количество пользователей, зарегистрировавшихся в этот день."
   ]
  },
  {
   "cell_type": "code",
   "execution_count": 126,
   "metadata": {},
   "outputs": [],
   "source": [
    "reg_users = registrations \\\n",
    "    .groupby(['reg_date'], as_index=False) \\\n",
    "    .agg({'uid': 'nunique'}) \\\n",
    "    .rename(columns={'uid': 'reg_users'})"
   ]
  },
  {
   "cell_type": "markdown",
   "metadata": {},
   "source": [
    "5. В отфильтрованный датафрейм из п.3 добавляем количество пользователей в когорте из предыдущего шага по дате регистрации (когорте)"
   ]
  },
  {
   "cell_type": "code",
   "execution_count": 127,
   "metadata": {},
   "outputs": [],
   "source": [
    "correct_data = correct_data.merge(reg_users, how='left', on='reg_date')"
   ]
  },
  {
   "cell_type": "markdown",
   "metadata": {},
   "source": [
    "6. Добавляем столбец с разницей дней между датой регистрации и авторизации"
   ]
  },
  {
   "cell_type": "code",
   "execution_count": 128,
   "metadata": {},
   "outputs": [],
   "source": [
    "correct_data['day_diff'] = pd.to_datetime(correct_data.auth_date) - pd.to_datetime(correct_data.reg_date)"
   ]
  },
  {
   "cell_type": "markdown",
   "metadata": {},
   "source": [
    "7. Считаем активных пользователей группируя данные по когорте и количеству дней"
   ]
  },
  {
   "cell_type": "code",
   "execution_count": 129,
   "metadata": {},
   "outputs": [],
   "source": [
    "active_users_data = correct_data \\\n",
    "    .groupby(['reg_date', 'day_diff'], as_index=False) \\\n",
    "    .agg({'auth_date': 'count'}) \\\n",
    "    .rename(columns={'auth_date': 'active_users'})"
   ]
  },
  {
   "cell_type": "markdown",
   "metadata": {},
   "source": [
    "8. По когорте и количеству дней добавляем в основной датафрейм количество активных пользователей из предыдущего шага"
   ]
  },
  {
   "cell_type": "code",
   "execution_count": 133,
   "metadata": {},
   "outputs": [],
   "source": [
    "correct_data = correct_data.merge(\n",
    "    active_users_data, how='left', on=['reg_date', 'day_diff'])"
   ]
  },
  {
   "cell_type": "markdown",
   "metadata": {},
   "source": [
    "9. Добавляем столбец с расчетом retention для каждой когорты в % с привязкой к разнице дней. Округляем значение до 2 знаков."
   ]
  },
  {
   "cell_type": "code",
   "execution_count": 134,
   "metadata": {},
   "outputs": [],
   "source": [
    "correct_data['retention'] = (correct_data.active_users/correct_data.reg_users)"
   ]
  },
  {
   "cell_type": "markdown",
   "metadata": {},
   "source": [
    "10. Формируем сводную таблицу с корректным выводом данных. Берем данные за 30 дней начиная с данных на следующий день. То есть Day 1 - это следующий за выбранной датой день. \n",
    "\n",
    "Мной были выбраны именно 30 дней, т.к. подрузамевается, что игроки должны заходить в игру каждый день или хотя бы несколько раз в неделю. Поэтому такое количество дней для отображения retention я посчитал оптимальным.\n",
    "\n",
    "Также из расчета был исключен Day 0, т.к. reteintion rate в большинстве случаев в этот день равен 100%. Это не позволило бы корректно отобразить график."
   ]
  },
  {
   "cell_type": "code",
   "execution_count": 135,
   "metadata": {},
   "outputs": [],
   "source": [
    "pivot_df = correct_data.query(\"day_diff < datetime.timedelta(days=31) & day_diff != datetime.timedelta(days=0)\") \\\n",
    "    .pivot_table('retention', index='reg_date', columns='day_diff') \\\n",
    "    .rename(columns=lambda x: 'Day ' + str(x).replace(' days 00:00:00', ''))"
   ]
  },
  {
   "cell_type": "code",
   "execution_count": 136,
   "metadata": {},
   "outputs": [
    {
     "data": {
      "text/html": [
       "<style type=\"text/css\">\n",
       "#T_10d34_row0_col0, #T_10d34_row0_col18, #T_10d34_row0_col21 {\n",
       "  background-color: #c7dcef;\n",
       "  color: #000000;\n",
       "}\n",
       "#T_10d34_row0_col1, #T_10d34_row0_col9, #T_10d34_row0_col13 {\n",
       "  background-color: #b4d3e9;\n",
       "  color: #000000;\n",
       "}\n",
       "#T_10d34_row0_col2 {\n",
       "  background-color: #91c3de;\n",
       "  color: #000000;\n",
       "}\n",
       "#T_10d34_row0_col3 {\n",
       "  background-color: #4594c7;\n",
       "  color: #f1f1f1;\n",
       "}\n",
       "#T_10d34_row0_col4 {\n",
       "  background-color: #4d99ca;\n",
       "  color: #f1f1f1;\n",
       "}\n",
       "#T_10d34_row0_col5 {\n",
       "  background-color: #68acd5;\n",
       "  color: #f1f1f1;\n",
       "}\n",
       "#T_10d34_row0_col6 {\n",
       "  background-color: #1764ab;\n",
       "  color: #f1f1f1;\n",
       "}\n",
       "#T_10d34_row0_col7, #T_10d34_row0_col15, #T_10d34_row0_col16, #T_10d34_row0_col17, #T_10d34_row0_col19 {\n",
       "  background-color: #a8cee4;\n",
       "  color: #000000;\n",
       "}\n",
       "#T_10d34_row0_col8, #T_10d34_row0_col11 {\n",
       "  background-color: #89bedc;\n",
       "  color: #000000;\n",
       "}\n",
       "#T_10d34_row0_col10 {\n",
       "  background-color: #3f8fc5;\n",
       "  color: #f1f1f1;\n",
       "}\n",
       "#T_10d34_row0_col12 {\n",
       "  background-color: #99c7e0;\n",
       "  color: #000000;\n",
       "}\n",
       "#T_10d34_row0_col14 {\n",
       "  background-color: #7fb9da;\n",
       "  color: #000000;\n",
       "}\n",
       "#T_10d34_row0_col20, #T_10d34_row0_col23, #T_10d34_row0_col27 {\n",
       "  background-color: #aed1e7;\n",
       "  color: #000000;\n",
       "}\n",
       "#T_10d34_row0_col22 {\n",
       "  background-color: #dfebf7;\n",
       "  color: #000000;\n",
       "}\n",
       "#T_10d34_row0_col24 {\n",
       "  background-color: #bad6eb;\n",
       "  color: #000000;\n",
       "}\n",
       "#T_10d34_row0_col25, #T_10d34_row0_col29 {\n",
       "  background-color: #c1d9ed;\n",
       "  color: #000000;\n",
       "}\n",
       "#T_10d34_row0_col26, #T_10d34_row0_col28 {\n",
       "  background-color: #d3e3f3;\n",
       "  color: #000000;\n",
       "}\n",
       "</style>\n",
       "<table id=\"T_10d34\">\n",
       "  <caption>RR</caption>\n",
       "  <thead>\n",
       "    <tr>\n",
       "      <th class=\"index_name level0\" >day_diff</th>\n",
       "      <th id=\"T_10d34_level0_col0\" class=\"col_heading level0 col0\" >Day 1</th>\n",
       "      <th id=\"T_10d34_level0_col1\" class=\"col_heading level0 col1\" >Day 2</th>\n",
       "      <th id=\"T_10d34_level0_col2\" class=\"col_heading level0 col2\" >Day 3</th>\n",
       "      <th id=\"T_10d34_level0_col3\" class=\"col_heading level0 col3\" >Day 4</th>\n",
       "      <th id=\"T_10d34_level0_col4\" class=\"col_heading level0 col4\" >Day 5</th>\n",
       "      <th id=\"T_10d34_level0_col5\" class=\"col_heading level0 col5\" >Day 6</th>\n",
       "      <th id=\"T_10d34_level0_col6\" class=\"col_heading level0 col6\" >Day 7</th>\n",
       "      <th id=\"T_10d34_level0_col7\" class=\"col_heading level0 col7\" >Day 8</th>\n",
       "      <th id=\"T_10d34_level0_col8\" class=\"col_heading level0 col8\" >Day 9</th>\n",
       "      <th id=\"T_10d34_level0_col9\" class=\"col_heading level0 col9\" >Day 10</th>\n",
       "      <th id=\"T_10d34_level0_col10\" class=\"col_heading level0 col10\" >Day 11</th>\n",
       "      <th id=\"T_10d34_level0_col11\" class=\"col_heading level0 col11\" >Day 12</th>\n",
       "      <th id=\"T_10d34_level0_col12\" class=\"col_heading level0 col12\" >Day 13</th>\n",
       "      <th id=\"T_10d34_level0_col13\" class=\"col_heading level0 col13\" >Day 14</th>\n",
       "      <th id=\"T_10d34_level0_col14\" class=\"col_heading level0 col14\" >Day 15</th>\n",
       "      <th id=\"T_10d34_level0_col15\" class=\"col_heading level0 col15\" >Day 16</th>\n",
       "      <th id=\"T_10d34_level0_col16\" class=\"col_heading level0 col16\" >Day 17</th>\n",
       "      <th id=\"T_10d34_level0_col17\" class=\"col_heading level0 col17\" >Day 18</th>\n",
       "      <th id=\"T_10d34_level0_col18\" class=\"col_heading level0 col18\" >Day 19</th>\n",
       "      <th id=\"T_10d34_level0_col19\" class=\"col_heading level0 col19\" >Day 20</th>\n",
       "      <th id=\"T_10d34_level0_col20\" class=\"col_heading level0 col20\" >Day 21</th>\n",
       "      <th id=\"T_10d34_level0_col21\" class=\"col_heading level0 col21\" >Day 22</th>\n",
       "      <th id=\"T_10d34_level0_col22\" class=\"col_heading level0 col22\" >Day 23</th>\n",
       "      <th id=\"T_10d34_level0_col23\" class=\"col_heading level0 col23\" >Day 24</th>\n",
       "      <th id=\"T_10d34_level0_col24\" class=\"col_heading level0 col24\" >Day 25</th>\n",
       "      <th id=\"T_10d34_level0_col25\" class=\"col_heading level0 col25\" >Day 26</th>\n",
       "      <th id=\"T_10d34_level0_col26\" class=\"col_heading level0 col26\" >Day 27</th>\n",
       "      <th id=\"T_10d34_level0_col27\" class=\"col_heading level0 col27\" >Day 28</th>\n",
       "      <th id=\"T_10d34_level0_col28\" class=\"col_heading level0 col28\" >Day 29</th>\n",
       "      <th id=\"T_10d34_level0_col29\" class=\"col_heading level0 col29\" >Day 30</th>\n",
       "    </tr>\n",
       "    <tr>\n",
       "      <th class=\"index_name level0\" >reg_date</th>\n",
       "      <th class=\"blank col0\" >&nbsp;</th>\n",
       "      <th class=\"blank col1\" >&nbsp;</th>\n",
       "      <th class=\"blank col2\" >&nbsp;</th>\n",
       "      <th class=\"blank col3\" >&nbsp;</th>\n",
       "      <th class=\"blank col4\" >&nbsp;</th>\n",
       "      <th class=\"blank col5\" >&nbsp;</th>\n",
       "      <th class=\"blank col6\" >&nbsp;</th>\n",
       "      <th class=\"blank col7\" >&nbsp;</th>\n",
       "      <th class=\"blank col8\" >&nbsp;</th>\n",
       "      <th class=\"blank col9\" >&nbsp;</th>\n",
       "      <th class=\"blank col10\" >&nbsp;</th>\n",
       "      <th class=\"blank col11\" >&nbsp;</th>\n",
       "      <th class=\"blank col12\" >&nbsp;</th>\n",
       "      <th class=\"blank col13\" >&nbsp;</th>\n",
       "      <th class=\"blank col14\" >&nbsp;</th>\n",
       "      <th class=\"blank col15\" >&nbsp;</th>\n",
       "      <th class=\"blank col16\" >&nbsp;</th>\n",
       "      <th class=\"blank col17\" >&nbsp;</th>\n",
       "      <th class=\"blank col18\" >&nbsp;</th>\n",
       "      <th class=\"blank col19\" >&nbsp;</th>\n",
       "      <th class=\"blank col20\" >&nbsp;</th>\n",
       "      <th class=\"blank col21\" >&nbsp;</th>\n",
       "      <th class=\"blank col22\" >&nbsp;</th>\n",
       "      <th class=\"blank col23\" >&nbsp;</th>\n",
       "      <th class=\"blank col24\" >&nbsp;</th>\n",
       "      <th class=\"blank col25\" >&nbsp;</th>\n",
       "      <th class=\"blank col26\" >&nbsp;</th>\n",
       "      <th class=\"blank col27\" >&nbsp;</th>\n",
       "      <th class=\"blank col28\" >&nbsp;</th>\n",
       "      <th class=\"blank col29\" >&nbsp;</th>\n",
       "    </tr>\n",
       "  </thead>\n",
       "  <tbody>\n",
       "    <tr>\n",
       "      <th id=\"T_10d34_level0_row0\" class=\"row_heading level0 row0\" >2018-09-16</th>\n",
       "      <td id=\"T_10d34_row0_col0\" class=\"data row0 col0\" >2.45%</td>\n",
       "      <td id=\"T_10d34_row0_col1\" class=\"data row0 col1\" >3.07%</td>\n",
       "      <td id=\"T_10d34_row0_col2\" class=\"data row0 col2\" >4.09%</td>\n",
       "      <td id=\"T_10d34_row0_col3\" class=\"data row0 col3\" >6.13%</td>\n",
       "      <td id=\"T_10d34_row0_col4\" class=\"data row0 col4\" >5.93%</td>\n",
       "      <td id=\"T_10d34_row0_col5\" class=\"data row0 col5\" >5.11%</td>\n",
       "      <td id=\"T_10d34_row0_col6\" class=\"data row0 col6\" >7.98%</td>\n",
       "      <td id=\"T_10d34_row0_col7\" class=\"data row0 col7\" >3.48%</td>\n",
       "      <td id=\"T_10d34_row0_col8\" class=\"data row0 col8\" >4.29%</td>\n",
       "      <td id=\"T_10d34_row0_col9\" class=\"data row0 col9\" >3.07%</td>\n",
       "      <td id=\"T_10d34_row0_col10\" class=\"data row0 col10\" >6.34%</td>\n",
       "      <td id=\"T_10d34_row0_col11\" class=\"data row0 col11\" >4.29%</td>\n",
       "      <td id=\"T_10d34_row0_col12\" class=\"data row0 col12\" >3.89%</td>\n",
       "      <td id=\"T_10d34_row0_col13\" class=\"data row0 col13\" >3.07%</td>\n",
       "      <td id=\"T_10d34_row0_col14\" class=\"data row0 col14\" >4.50%</td>\n",
       "      <td id=\"T_10d34_row0_col15\" class=\"data row0 col15\" >3.48%</td>\n",
       "      <td id=\"T_10d34_row0_col16\" class=\"data row0 col16\" >3.48%</td>\n",
       "      <td id=\"T_10d34_row0_col17\" class=\"data row0 col17\" >3.48%</td>\n",
       "      <td id=\"T_10d34_row0_col18\" class=\"data row0 col18\" >2.45%</td>\n",
       "      <td id=\"T_10d34_row0_col19\" class=\"data row0 col19\" >3.48%</td>\n",
       "      <td id=\"T_10d34_row0_col20\" class=\"data row0 col20\" >3.27%</td>\n",
       "      <td id=\"T_10d34_row0_col21\" class=\"data row0 col21\" >2.45%</td>\n",
       "      <td id=\"T_10d34_row0_col22\" class=\"data row0 col22\" >1.23%</td>\n",
       "      <td id=\"T_10d34_row0_col23\" class=\"data row0 col23\" >3.27%</td>\n",
       "      <td id=\"T_10d34_row0_col24\" class=\"data row0 col24\" >2.86%</td>\n",
       "      <td id=\"T_10d34_row0_col25\" class=\"data row0 col25\" >2.66%</td>\n",
       "      <td id=\"T_10d34_row0_col26\" class=\"data row0 col26\" >1.84%</td>\n",
       "      <td id=\"T_10d34_row0_col27\" class=\"data row0 col27\" >3.27%</td>\n",
       "      <td id=\"T_10d34_row0_col28\" class=\"data row0 col28\" >1.84%</td>\n",
       "      <td id=\"T_10d34_row0_col29\" class=\"data row0 col29\" >2.66%</td>\n",
       "    </tr>\n",
       "  </tbody>\n",
       "</table>\n"
      ],
      "text/plain": [
       "<pandas.io.formats.style.Styler at 0x1d20cb31130>"
      ]
     },
     "execution_count": 136,
     "metadata": {},
     "output_type": "execute_result"
    }
   ],
   "source": [
    "pivot_df.style \\\n",
    "    .set_caption('RR') \\\n",
    "    .background_gradient(cmap='Blues', vmin=0, vmax=0.1) \\\n",
    "    .highlight_null('white') \\\n",
    "    .format(\"{:.2%}\", na_rep=\"\")"
   ]
  },
  {
   "cell_type": "markdown",
   "metadata": {},
   "source": [
    "11. Задаем параметры визуализации и выводим график"
   ]
  },
  {
   "cell_type": "code",
   "execution_count": 137,
   "metadata": {},
   "outputs": [
    {
     "data": {
      "text/plain": [
       "<Axes: xlabel='day_diff', ylabel='reg_date'>"
      ]
     },
     "execution_count": 137,
     "metadata": {},
     "output_type": "execute_result"
    },
    {
     "data": {
      "image/png": "[encoded data removed]",
      "text/plain": [
       "<Figure size 1200x600 with 2 Axes>"
      ]
     },
     "metadata": {},
     "output_type": "display_data"
    }
   ],
   "source": [
    "sns.set(font_scale=1, style=\"whitegrid\", rc={'figure.figsize': (12, 6)})\n",
    "sns.heatmap(pivot_df, cmap='Blues')"
   ]
  },
  {
   "cell_type": "markdown",
   "metadata": {},
   "source": [
    "__Вывод по Заданию 1:__"
   ]
  },
  {
   "cell_type": "markdown",
   "metadata": {},
   "source": [
    "В результате выполнения первого задания была написана функция, которая считает __retention__ игроков (по дням от даты регистрации игрока) с возможностью ограничить выходной объем данных на усмотрение пользователя, а также с добавлением визуализации формата _heatmap_ для лучшего восприятия."
   ]
  },
  {
   "cell_type": "markdown",
   "metadata": {},
   "source": [
    " "
   ]
  },
  {
   "cell_type": "markdown",
   "metadata": {},
   "source": [
    "<h2>Задание 2<h2>"
   ]
  },
  {
   "cell_type": "markdown",
   "metadata": {},
   "source": [
    "Имеются результаты A/B теста, в котором двум группам пользователей предлагались различные наборы акционных предложений. Известно, что __ARPU__ в тестовой группе выше на 5%, чем в контрольной. При этом в контрольной группе 1928 игроков из 202103 оказались платящими, а в тестовой – 1805 из 202667.\n",
    "\n",
    "Какой набор предложений можно считать лучшим? Какие метрики стоит проанализировать для принятия правильного решения и как?"
   ]
  },
  {
   "cell_type": "markdown",
   "metadata": {},
   "source": [
    "Контрольная группа - __a__, тестовая - __b__."
   ]
  },
  {
   "cell_type": "markdown",
   "metadata": {},
   "source": [
    "__Решение задания 2__"
   ]
  },
  {
   "cell_type": "markdown",
   "metadata": {},
   "source": [
    "Считываем данные из файла"
   ]
  },
  {
   "cell_type": "code",
   "execution_count": 138,
   "metadata": {},
   "outputs": [],
   "source": [
    "# скачиваем данные по ссылке из yandex.disk и сохраняем в файле Project_2.csv\n",
    "base_url = 'https://cloud-api.yandex.net/v1/disk/public/resources/download?'\n",
    "url = 'https://disk.yandex.ru/d/SOkIsD5A8xlI7Q'\n",
    "final_url = base_url + urlencode(dict(public_key=url))\n",
    "response = requests.get(final_url)\n",
    "download_url = response.json()['href']\n",
    "# Загружаем файл и сохраняем его\n",
    "download_response = requests.get(download_url)\n",
    "with open('Project_2.csv', 'wb') as f:\n",
    "    f.write(download_response.content)"
   ]
  },
  {
   "cell_type": "code",
   "execution_count": 139,
   "metadata": {},
   "outputs": [],
   "source": [
    "ab_test_data = pd.read_csv('Project_2.csv', sep=';')"
   ]
  },
  {
   "cell_type": "markdown",
   "metadata": {},
   "source": [
    "Посмотрим на сам датафрейм, типы его колонок, количество пропущенных и уникальных значений в колонках"
   ]
  },
  {
   "cell_type": "code",
   "execution_count": 140,
   "metadata": {},
   "outputs": [
    {
     "data": {
      "text/html": [
       "<div>\n",
       "<style scoped>\n",
       "    .dataframe tbody tr th:only-of-type {\n",
       "        vertical-align: middle;\n",
       "    }\n",
       "\n",
       "    .dataframe tbody tr th {\n",
       "        vertical-align: top;\n",
       "    }\n",
       "\n",
       "    .dataframe thead th {\n",
       "        text-align: right;\n",
       "    }\n",
       "</style>\n",
       "<table border=\"1\" class=\"dataframe\">\n",
       "  <thead>\n",
       "    <tr style=\"text-align: right;\">\n",
       "      <th></th>\n",
       "      <th>user_id</th>\n",
       "      <th>revenue</th>\n",
       "      <th>testgroup</th>\n",
       "    </tr>\n",
       "  </thead>\n",
       "  <tbody>\n",
       "    <tr>\n",
       "      <th>0</th>\n",
       "      <td>1</td>\n",
       "      <td>0</td>\n",
       "      <td>b</td>\n",
       "    </tr>\n",
       "    <tr>\n",
       "      <th>1</th>\n",
       "      <td>2</td>\n",
       "      <td>0</td>\n",
       "      <td>a</td>\n",
       "    </tr>\n",
       "    <tr>\n",
       "      <th>2</th>\n",
       "      <td>3</td>\n",
       "      <td>0</td>\n",
       "      <td>a</td>\n",
       "    </tr>\n",
       "    <tr>\n",
       "      <th>3</th>\n",
       "      <td>4</td>\n",
       "      <td>0</td>\n",
       "      <td>b</td>\n",
       "    </tr>\n",
       "    <tr>\n",
       "      <th>4</th>\n",
       "      <td>5</td>\n",
       "      <td>0</td>\n",
       "      <td>b</td>\n",
       "    </tr>\n",
       "    <tr>\n",
       "      <th>...</th>\n",
       "      <td>...</td>\n",
       "      <td>...</td>\n",
       "      <td>...</td>\n",
       "    </tr>\n",
       "    <tr>\n",
       "      <th>404765</th>\n",
       "      <td>404766</td>\n",
       "      <td>0</td>\n",
       "      <td>a</td>\n",
       "    </tr>\n",
       "    <tr>\n",
       "      <th>404766</th>\n",
       "      <td>404767</td>\n",
       "      <td>0</td>\n",
       "      <td>b</td>\n",
       "    </tr>\n",
       "    <tr>\n",
       "      <th>404767</th>\n",
       "      <td>404768</td>\n",
       "      <td>231</td>\n",
       "      <td>a</td>\n",
       "    </tr>\n",
       "    <tr>\n",
       "      <th>404768</th>\n",
       "      <td>404769</td>\n",
       "      <td>0</td>\n",
       "      <td>a</td>\n",
       "    </tr>\n",
       "    <tr>\n",
       "      <th>404769</th>\n",
       "      <td>404770</td>\n",
       "      <td>0</td>\n",
       "      <td>b</td>\n",
       "    </tr>\n",
       "  </tbody>\n",
       "</table>\n",
       "<p>404770 rows × 3 columns</p>\n",
       "</div>"
      ],
      "text/plain": [
       "        user_id  revenue testgroup\n",
       "0             1        0         b\n",
       "1             2        0         a\n",
       "2             3        0         a\n",
       "3             4        0         b\n",
       "4             5        0         b\n",
       "...         ...      ...       ...\n",
       "404765   404766        0         a\n",
       "404766   404767        0         b\n",
       "404767   404768      231         a\n",
       "404768   404769        0         a\n",
       "404769   404770        0         b\n",
       "\n",
       "[404770 rows x 3 columns]"
      ]
     },
     "execution_count": 140,
     "metadata": {},
     "output_type": "execute_result"
    }
   ],
   "source": [
    "ab_test_data"
   ]
  },
  {
   "cell_type": "markdown",
   "metadata": {},
   "source": [
    "Начнем с анализа датафрейма. В датафрейме 3 колонки:\n",
    "\n",
    "- _user_id_ — id пользователя\n",
    "- _revenue_ — сумма покупки\n",
    "- _testgroup_ — показатель принадлежности к группе (a или b)"
   ]
  },
  {
   "cell_type": "code",
   "execution_count": 141,
   "metadata": {},
   "outputs": [
    {
     "data": {
      "text/plain": [
       "user_id       int64\n",
       "revenue       int64\n",
       "testgroup    object\n",
       "dtype: object"
      ]
     },
     "execution_count": 141,
     "metadata": {},
     "output_type": "execute_result"
    }
   ],
   "source": [
    "ab_test_data.dtypes"
   ]
  },
  {
   "cell_type": "code",
   "execution_count": 142,
   "metadata": {},
   "outputs": [
    {
     "data": {
      "text/plain": [
       "user_id      0\n",
       "revenue      0\n",
       "testgroup    0\n",
       "dtype: int64"
      ]
     },
     "execution_count": 142,
     "metadata": {},
     "output_type": "execute_result"
    }
   ],
   "source": [
    "ab_test_data.isna().sum()"
   ]
  },
  {
   "cell_type": "code",
   "execution_count": 143,
   "metadata": {},
   "outputs": [
    {
     "data": {
      "text/plain": [
       "user_id      404770\n",
       "revenue        1477\n",
       "testgroup         2\n",
       "dtype: int64"
      ]
     },
     "execution_count": 143,
     "metadata": {},
     "output_type": "execute_result"
    }
   ],
   "source": [
    "ab_test_data.nunique()"
   ]
  },
  {
   "cell_type": "markdown",
   "metadata": {},
   "source": [
    "Отдельно взглянем на пользователей каждой тестовой группы"
   ]
  },
  {
   "cell_type": "code",
   "execution_count": 144,
   "metadata": {},
   "outputs": [
    {
     "data": {
      "text/html": [
       "<div>\n",
       "<style scoped>\n",
       "    .dataframe tbody tr th:only-of-type {\n",
       "        vertical-align: middle;\n",
       "    }\n",
       "\n",
       "    .dataframe tbody tr th {\n",
       "        vertical-align: top;\n",
       "    }\n",
       "\n",
       "    .dataframe thead th {\n",
       "        text-align: right;\n",
       "    }\n",
       "</style>\n",
       "<table border=\"1\" class=\"dataframe\">\n",
       "  <thead>\n",
       "    <tr style=\"text-align: right;\">\n",
       "      <th></th>\n",
       "      <th>user_id</th>\n",
       "      <th>revenue</th>\n",
       "      <th>testgroup</th>\n",
       "    </tr>\n",
       "  </thead>\n",
       "  <tbody>\n",
       "    <tr>\n",
       "      <th>1</th>\n",
       "      <td>2</td>\n",
       "      <td>0</td>\n",
       "      <td>a</td>\n",
       "    </tr>\n",
       "    <tr>\n",
       "      <th>2</th>\n",
       "      <td>3</td>\n",
       "      <td>0</td>\n",
       "      <td>a</td>\n",
       "    </tr>\n",
       "    <tr>\n",
       "      <th>9</th>\n",
       "      <td>10</td>\n",
       "      <td>0</td>\n",
       "      <td>a</td>\n",
       "    </tr>\n",
       "    <tr>\n",
       "      <th>10</th>\n",
       "      <td>11</td>\n",
       "      <td>0</td>\n",
       "      <td>a</td>\n",
       "    </tr>\n",
       "    <tr>\n",
       "      <th>11</th>\n",
       "      <td>12</td>\n",
       "      <td>0</td>\n",
       "      <td>a</td>\n",
       "    </tr>\n",
       "    <tr>\n",
       "      <th>...</th>\n",
       "      <td>...</td>\n",
       "      <td>...</td>\n",
       "      <td>...</td>\n",
       "    </tr>\n",
       "    <tr>\n",
       "      <th>404760</th>\n",
       "      <td>404761</td>\n",
       "      <td>0</td>\n",
       "      <td>a</td>\n",
       "    </tr>\n",
       "    <tr>\n",
       "      <th>404762</th>\n",
       "      <td>404763</td>\n",
       "      <td>0</td>\n",
       "      <td>a</td>\n",
       "    </tr>\n",
       "    <tr>\n",
       "      <th>404765</th>\n",
       "      <td>404766</td>\n",
       "      <td>0</td>\n",
       "      <td>a</td>\n",
       "    </tr>\n",
       "    <tr>\n",
       "      <th>404767</th>\n",
       "      <td>404768</td>\n",
       "      <td>231</td>\n",
       "      <td>a</td>\n",
       "    </tr>\n",
       "    <tr>\n",
       "      <th>404768</th>\n",
       "      <td>404769</td>\n",
       "      <td>0</td>\n",
       "      <td>a</td>\n",
       "    </tr>\n",
       "  </tbody>\n",
       "</table>\n",
       "<p>202103 rows × 3 columns</p>\n",
       "</div>"
      ],
      "text/plain": [
       "        user_id  revenue testgroup\n",
       "1             2        0         a\n",
       "2             3        0         a\n",
       "9            10        0         a\n",
       "10           11        0         a\n",
       "11           12        0         a\n",
       "...         ...      ...       ...\n",
       "404760   404761        0         a\n",
       "404762   404763        0         a\n",
       "404765   404766        0         a\n",
       "404767   404768      231         a\n",
       "404768   404769        0         a\n",
       "\n",
       "[202103 rows x 3 columns]"
      ]
     },
     "execution_count": 144,
     "metadata": {},
     "output_type": "execute_result"
    }
   ],
   "source": [
    "ab_test_data.query(\"testgroup == 'a'\")"
   ]
  },
  {
   "cell_type": "code",
   "execution_count": 145,
   "metadata": {},
   "outputs": [
    {
     "data": {
      "text/html": [
       "<div>\n",
       "<style scoped>\n",
       "    .dataframe tbody tr th:only-of-type {\n",
       "        vertical-align: middle;\n",
       "    }\n",
       "\n",
       "    .dataframe tbody tr th {\n",
       "        vertical-align: top;\n",
       "    }\n",
       "\n",
       "    .dataframe thead th {\n",
       "        text-align: right;\n",
       "    }\n",
       "</style>\n",
       "<table border=\"1\" class=\"dataframe\">\n",
       "  <thead>\n",
       "    <tr style=\"text-align: right;\">\n",
       "      <th></th>\n",
       "      <th>user_id</th>\n",
       "      <th>revenue</th>\n",
       "      <th>testgroup</th>\n",
       "    </tr>\n",
       "  </thead>\n",
       "  <tbody>\n",
       "    <tr>\n",
       "      <th>0</th>\n",
       "      <td>1</td>\n",
       "      <td>0</td>\n",
       "      <td>b</td>\n",
       "    </tr>\n",
       "    <tr>\n",
       "      <th>3</th>\n",
       "      <td>4</td>\n",
       "      <td>0</td>\n",
       "      <td>b</td>\n",
       "    </tr>\n",
       "    <tr>\n",
       "      <th>4</th>\n",
       "      <td>5</td>\n",
       "      <td>0</td>\n",
       "      <td>b</td>\n",
       "    </tr>\n",
       "    <tr>\n",
       "      <th>5</th>\n",
       "      <td>6</td>\n",
       "      <td>0</td>\n",
       "      <td>b</td>\n",
       "    </tr>\n",
       "    <tr>\n",
       "      <th>6</th>\n",
       "      <td>7</td>\n",
       "      <td>0</td>\n",
       "      <td>b</td>\n",
       "    </tr>\n",
       "    <tr>\n",
       "      <th>...</th>\n",
       "      <td>...</td>\n",
       "      <td>...</td>\n",
       "      <td>...</td>\n",
       "    </tr>\n",
       "    <tr>\n",
       "      <th>404761</th>\n",
       "      <td>404762</td>\n",
       "      <td>0</td>\n",
       "      <td>b</td>\n",
       "    </tr>\n",
       "    <tr>\n",
       "      <th>404763</th>\n",
       "      <td>404764</td>\n",
       "      <td>0</td>\n",
       "      <td>b</td>\n",
       "    </tr>\n",
       "    <tr>\n",
       "      <th>404764</th>\n",
       "      <td>404765</td>\n",
       "      <td>0</td>\n",
       "      <td>b</td>\n",
       "    </tr>\n",
       "    <tr>\n",
       "      <th>404766</th>\n",
       "      <td>404767</td>\n",
       "      <td>0</td>\n",
       "      <td>b</td>\n",
       "    </tr>\n",
       "    <tr>\n",
       "      <th>404769</th>\n",
       "      <td>404770</td>\n",
       "      <td>0</td>\n",
       "      <td>b</td>\n",
       "    </tr>\n",
       "  </tbody>\n",
       "</table>\n",
       "<p>202667 rows × 3 columns</p>\n",
       "</div>"
      ],
      "text/plain": [
       "        user_id  revenue testgroup\n",
       "0             1        0         b\n",
       "3             4        0         b\n",
       "4             5        0         b\n",
       "5             6        0         b\n",
       "6             7        0         b\n",
       "...         ...      ...       ...\n",
       "404761   404762        0         b\n",
       "404763   404764        0         b\n",
       "404764   404765        0         b\n",
       "404766   404767        0         b\n",
       "404769   404770        0         b\n",
       "\n",
       "[202667 rows x 3 columns]"
      ]
     },
     "execution_count": 145,
     "metadata": {},
     "output_type": "execute_result"
    }
   ],
   "source": [
    "ab_test_data.query(\"testgroup == 'b'\")"
   ]
  },
  {
   "cell_type": "markdown",
   "metadata": {},
   "source": [
    "__Заключения по датафрейму__:\n",
    "- Всего 404770 строк;\n",
    "- id пользователя не повторяются;\n",
    "- Контрольная группа - __a__, тестовая - __b__;\n",
    "- Количество наблюдений в группах отличается несущественно;\n",
    "- Пропущенных значений нет."
   ]
  },
  {
   "cell_type": "markdown",
   "metadata": {},
   "source": [
    "__Перейдем к исследованию__."
   ]
  },
  {
   "cell_type": "markdown",
   "metadata": {},
   "source": [
    "Для того чтобы принять правильное решение на основе результатов A/B теста с разными акционными предложениями, стоит проанализировать следующие метрики:\n",
    "\n",
    "1. Средний доход на платящего пользователя (Average Revenue Per Paying User, __ARPPU__) - узнаем, сколько в среднем тратит один платящий пользователь в каждой группе.\n",
    "2. Конверсия в платежи (__Conversion Rate__) - процент платящих пользователей в обеих группах."
   ]
  },
  {
   "cell_type": "markdown",
   "metadata": {},
   "source": [
    "<h3>1 Этап. Сравнение ARPPU.<h3>"
   ]
  },
  {
   "cell_type": "markdown",
   "metadata": {},
   "source": [
    "Посмотрим на значения ARPPU"
   ]
  },
  {
   "cell_type": "code",
   "execution_count": 146,
   "metadata": {},
   "outputs": [
    {
     "data": {
      "text/plain": [
       "3003.6581717451522"
      ]
     },
     "execution_count": 146,
     "metadata": {},
     "output_type": "execute_result"
    }
   ],
   "source": [
    "# ARPPU тестовой группы\n",
    "ab_test_data.query(\"testgroup =='b' & revenue != 0\").revenue.mean()"
   ]
  },
  {
   "cell_type": "code",
   "execution_count": 147,
   "metadata": {},
   "outputs": [
    {
     "data": {
      "text/plain": [
       "2663.9984439834025"
      ]
     },
     "execution_count": 147,
     "metadata": {},
     "output_type": "execute_result"
    }
   ],
   "source": [
    "# ARPPU контрольной группы\n",
    "ab_test_data.query(\"testgroup =='a' & revenue != 0\").revenue.mean()"
   ]
  },
  {
   "cell_type": "markdown",
   "metadata": {},
   "source": [
    "Можно заметить, что ARPPU в тестовой группе выше, чем в контрольной, но отличие не очень значительное."
   ]
  },
  {
   "cell_type": "markdown",
   "metadata": {},
   "source": [
    "Посмотрим на распределение revenue в обеих группах"
   ]
  },
  {
   "cell_type": "code",
   "execution_count": 148,
   "metadata": {},
   "outputs": [
    {
     "name": "stderr",
     "output_type": "stream",
     "text": [
      "C:\\Users\\dmitr\\AppData\\Local\\Temp\\ipykernel_19064\\2055274290.py:1: UserWarning: \n",
      "\n",
      "`distplot` is a deprecated function and will be removed in seaborn v0.14.0.\n",
      "\n",
      "Please adapt your code to use either `displot` (a figure-level function with\n",
      "similar flexibility) or `histplot` (an axes-level function for histograms).\n",
      "\n",
      "For a guide to updating your code to use the new functions, please see\n",
      "https://gist.github.com/mwaskom/de44147ed2974457ad6372750bbe5751\n",
      "\n",
      "  sns.distplot(ab_test_data.query(\"testgroup =='a' & revenue != 0\").revenue)\n",
      "C:\\Users\\dmitr\\AppData\\Local\\Temp\\ipykernel_19064\\2055274290.py:2: UserWarning: \n",
      "\n",
      "`distplot` is a deprecated function and will be removed in seaborn v0.14.0.\n",
      "\n",
      "Please adapt your code to use either `displot` (a figure-level function with\n",
      "similar flexibility) or `histplot` (an axes-level function for histograms).\n",
      "\n",
      "For a guide to updating your code to use the new functions, please see\n",
      "https://gist.github.com/mwaskom/de44147ed2974457ad6372750bbe5751\n",
      "\n",
      "  sns.distplot(ab_test_data.query(\"testgroup =='b' & revenue != 0\").revenue)\n"
     ]
    },
    {
     "data": {
      "text/plain": [
       "<Axes: xlabel='revenue', ylabel='Density'>"
      ]
     },
     "execution_count": 148,
     "metadata": {},
     "output_type": "execute_result"
    },
    {
     "data": {
      "image/png": "[encoded data removed]",
      "text/plain": [
       "<Figure size 1200x600 with 1 Axes>"
      ]
     },
     "metadata": {},
     "output_type": "display_data"
    }
   ],
   "source": [
    "sns.distplot(ab_test_data.query(\"testgroup =='a' & revenue != 0\").revenue)\n",
    "sns.distplot(ab_test_data.query(\"testgroup =='b' & revenue != 0\").revenue)"
   ]
  },
  {
   "cell_type": "markdown",
   "metadata": {},
   "source": [
    "На графике явно заметно некоторое количество выбросов в контрольной группе."
   ]
  },
  {
   "cell_type": "code",
   "execution_count": 149,
   "metadata": {},
   "outputs": [
    {
     "data": {
      "text/plain": [
       "<Axes: xlabel='testgroup', ylabel='revenue'>"
      ]
     },
     "execution_count": 149,
     "metadata": {},
     "output_type": "execute_result"
    },
    {
     "data": {
      "image/png": "[encoded data removed]",
      "text/plain": [
       "<Figure size 1200x600 with 1 Axes>"
      ]
     },
     "metadata": {},
     "output_type": "display_data"
    }
   ],
   "source": [
    "sns.boxplot(data=ab_test_data.query(\n",
    "    \"revenue != 0\"), x='testgroup', y='revenue')"
   ]
  },
  {
   "cell_type": "markdown",
   "metadata": {},
   "source": [
    "На боксплоте четко видны выбросы в контрольной группе. Это пользователи, которые совершили покупки более чем на 35000. Эти наблюдения сильно влияют на сравнение средних между двумя группами. Взглянем на них подробнее."
   ]
  },
  {
   "cell_type": "code",
   "execution_count": 150,
   "metadata": {},
   "outputs": [
    {
     "data": {
      "text/html": [
       "<div>\n",
       "<style scoped>\n",
       "    .dataframe tbody tr th:only-of-type {\n",
       "        vertical-align: middle;\n",
       "    }\n",
       "\n",
       "    .dataframe tbody tr th {\n",
       "        vertical-align: top;\n",
       "    }\n",
       "\n",
       "    .dataframe thead th {\n",
       "        text-align: right;\n",
       "    }\n",
       "</style>\n",
       "<table border=\"1\" class=\"dataframe\">\n",
       "  <thead>\n",
       "    <tr style=\"text-align: right;\">\n",
       "      <th></th>\n",
       "      <th>user_id</th>\n",
       "      <th>revenue</th>\n",
       "      <th>testgroup</th>\n",
       "    </tr>\n",
       "  </thead>\n",
       "  <tbody>\n",
       "    <tr>\n",
       "      <th>416</th>\n",
       "      <td>417</td>\n",
       "      <td>37324</td>\n",
       "      <td>a</td>\n",
       "    </tr>\n",
       "    <tr>\n",
       "      <th>4428</th>\n",
       "      <td>4429</td>\n",
       "      <td>37304</td>\n",
       "      <td>a</td>\n",
       "    </tr>\n",
       "    <tr>\n",
       "      <th>5777</th>\n",
       "      <td>5778</td>\n",
       "      <td>37315</td>\n",
       "      <td>a</td>\n",
       "    </tr>\n",
       "    <tr>\n",
       "      <th>8065</th>\n",
       "      <td>8066</td>\n",
       "      <td>37307</td>\n",
       "      <td>a</td>\n",
       "    </tr>\n",
       "    <tr>\n",
       "      <th>8743</th>\n",
       "      <td>8744</td>\n",
       "      <td>37334</td>\n",
       "      <td>a</td>\n",
       "    </tr>\n",
       "    <tr>\n",
       "      <th>...</th>\n",
       "      <td>...</td>\n",
       "      <td>...</td>\n",
       "      <td>...</td>\n",
       "    </tr>\n",
       "    <tr>\n",
       "      <th>360696</th>\n",
       "      <td>360697</td>\n",
       "      <td>37347</td>\n",
       "      <td>a</td>\n",
       "    </tr>\n",
       "    <tr>\n",
       "      <th>378668</th>\n",
       "      <td>378669</td>\n",
       "      <td>37297</td>\n",
       "      <td>a</td>\n",
       "    </tr>\n",
       "    <tr>\n",
       "      <th>389341</th>\n",
       "      <td>389342</td>\n",
       "      <td>37298</td>\n",
       "      <td>a</td>\n",
       "    </tr>\n",
       "    <tr>\n",
       "      <th>394580</th>\n",
       "      <td>394581</td>\n",
       "      <td>37302</td>\n",
       "      <td>a</td>\n",
       "    </tr>\n",
       "    <tr>\n",
       "      <th>399294</th>\n",
       "      <td>399295</td>\n",
       "      <td>37321</td>\n",
       "      <td>a</td>\n",
       "    </tr>\n",
       "  </tbody>\n",
       "</table>\n",
       "<p>123 rows × 3 columns</p>\n",
       "</div>"
      ],
      "text/plain": [
       "        user_id  revenue testgroup\n",
       "416         417    37324         a\n",
       "4428       4429    37304         a\n",
       "5777       5778    37315         a\n",
       "8065       8066    37307         a\n",
       "8743       8744    37334         a\n",
       "...         ...      ...       ...\n",
       "360696   360697    37347         a\n",
       "378668   378669    37297         a\n",
       "389341   389342    37298         a\n",
       "394580   394581    37302         a\n",
       "399294   399295    37321         a\n",
       "\n",
       "[123 rows x 3 columns]"
      ]
     },
     "execution_count": 150,
     "metadata": {},
     "output_type": "execute_result"
    }
   ],
   "source": [
    "ab_test_data.query(\"testgroup == 'a' & revenue != 0 & revenue > 35000\")"
   ]
  },
  {
   "cell_type": "code",
   "execution_count": 151,
   "metadata": {},
   "outputs": [
    {
     "data": {
      "text/plain": [
       "0.8937077665950377"
      ]
     },
     "execution_count": 151,
     "metadata": {},
     "output_type": "execute_result"
    }
   ],
   "source": [
    "ab_test_data.query(\"testgroup == 'a' & revenue != 0 & revenue > 35000\").revenue.sum(\n",
    ")/ab_test_data.query(\"testgroup == 'a' & revenue != 0\").revenue.sum()"
   ]
  },
  {
   "cell_type": "markdown",
   "metadata": {},
   "source": [
    "Итого, мы видим, что в контрольной группе есть 123 пользователя, которые совершили крупную покупку. Они составляют менее 10% от общего количества платящих пользователей контрольной группы, а сумма прибыли от них составляет более 90% от общей суммы этой группы."
   ]
  },
  {
   "cell_type": "markdown",
   "metadata": {},
   "source": [
    "Попробуем исключить их и ещё раз вглянуть на данные."
   ]
  },
  {
   "cell_type": "code",
   "execution_count": 152,
   "metadata": {
    "scrolled": false
   },
   "outputs": [
    {
     "name": "stderr",
     "output_type": "stream",
     "text": [
      "C:\\Users\\dmitr\\AppData\\Local\\Temp\\ipykernel_19064\\2131272492.py:2: UserWarning: \n",
      "\n",
      "`distplot` is a deprecated function and will be removed in seaborn v0.14.0.\n",
      "\n",
      "Please adapt your code to use either `displot` (a figure-level function with\n",
      "similar flexibility) or `histplot` (an axes-level function for histograms).\n",
      "\n",
      "For a guide to updating your code to use the new functions, please see\n",
      "https://gist.github.com/mwaskom/de44147ed2974457ad6372750bbe5751\n",
      "\n",
      "  sns.distplot(ab_test_data.query(\n"
     ]
    },
    {
     "data": {
      "text/plain": [
       "<Axes: xlabel='revenue', ylabel='Density'>"
      ]
     },
     "execution_count": 152,
     "metadata": {},
     "output_type": "execute_result"
    },
    {
     "data": {
      "image/png": "[encoded data removed]",
      "text/plain": [
       "<Figure size 1200x600 with 1 Axes>"
      ]
     },
     "metadata": {},
     "output_type": "display_data"
    }
   ],
   "source": [
    "# распределение revenue в контрольной группе\n",
    "sns.distplot(ab_test_data.query(\n",
    "    \"testgroup == 'a' & revenue != 0 & revenue < 35000\").revenue)"
   ]
  },
  {
   "cell_type": "code",
   "execution_count": 153,
   "metadata": {},
   "outputs": [
    {
     "name": "stderr",
     "output_type": "stream",
     "text": [
      "C:\\Users\\dmitr\\AppData\\Local\\Temp\\ipykernel_19064\\2420809965.py:2: UserWarning: \n",
      "\n",
      "`distplot` is a deprecated function and will be removed in seaborn v0.14.0.\n",
      "\n",
      "Please adapt your code to use either `displot` (a figure-level function with\n",
      "similar flexibility) or `histplot` (an axes-level function for histograms).\n",
      "\n",
      "For a guide to updating your code to use the new functions, please see\n",
      "https://gist.github.com/mwaskom/de44147ed2974457ad6372750bbe5751\n",
      "\n",
      "  sns.distplot(ab_test_data.query(\"testgroup == 'b' & revenue != 0\").revenue)\n"
     ]
    },
    {
     "data": {
      "text/plain": [
       "<Axes: xlabel='revenue', ylabel='Density'>"
      ]
     },
     "execution_count": 153,
     "metadata": {},
     "output_type": "execute_result"
    },
    {
     "data": {
      "image/png": "[encoded data removed]",
      "text/plain": [
       "<Figure size 1200x600 with 1 Axes>"
      ]
     },
     "metadata": {},
     "output_type": "display_data"
    }
   ],
   "source": [
    "# распределение revenue в тестовой группе\n",
    "sns.distplot(ab_test_data.query(\"testgroup == 'b' & revenue != 0\").revenue)"
   ]
  },
  {
   "cell_type": "code",
   "execution_count": 154,
   "metadata": {},
   "outputs": [
    {
     "data": {
      "text/plain": [
       "302.45817174515236"
      ]
     },
     "execution_count": 154,
     "metadata": {},
     "output_type": "execute_result"
    }
   ],
   "source": [
    "# ARPPU в контрольной группе без выбросов\n",
    "ab_test_data.query(\n",
    "    \"testgroup == 'a' & revenue != 0 & revenue < 35000\").revenue.mean()"
   ]
  },
  {
   "cell_type": "markdown",
   "metadata": {},
   "source": [
    "Из этих графиков видно, что распределения _revenue_ в обеих группах идентично, но большинство покупок в контрольной группе отличаются от тестовой (они меньше примерно в 10 раз), как и средний чек по этим покупкам. "
   ]
  },
  {
   "cell_type": "markdown",
   "metadata": {},
   "source": [
    "__Статистический анализ ARPPU__"
   ]
  },
  {
   "cell_type": "markdown",
   "metadata": {},
   "source": [
    "Для сравнения двух средних мы будем использовать _Т-критерий Стьюдента_. "
   ]
  },
  {
   "cell_type": "markdown",
   "metadata": {},
   "source": [
    "При использовании Т-критерия Стьюдента необходимо учитывать 2 требования: нормальность распеределения и гомогенность дисперсии в выборках. Первое требование соблюдается благодаря большому размеру выборки, так как в этом случае работает ЦПТ и распределение t-статистики становится близко к нормальному. Проведем тест Левена для проверки второго требования."
   ]
  },
  {
   "cell_type": "markdown",
   "metadata": {},
   "source": [
    "__Тест Левена__"
   ]
  },
  {
   "cell_type": "markdown",
   "metadata": {},
   "source": [
    "Наша гипотеза $H_0$: дисперсии в выборках не различаются между собой"
   ]
  },
  {
   "cell_type": "code",
   "execution_count": 155,
   "metadata": {},
   "outputs": [],
   "source": [
    "# revenue контрольной группы\n",
    "a = ab_test_data.query(\"testgroup == 'a' & revenue != 0\").revenue"
   ]
  },
  {
   "cell_type": "code",
   "execution_count": 156,
   "metadata": {},
   "outputs": [],
   "source": [
    "# revenue тестовой группы\n",
    "b = ab_test_data.query(\"testgroup == 'b' & revenue != 0\").revenue"
   ]
  },
  {
   "cell_type": "code",
   "execution_count": 157,
   "metadata": {},
   "outputs": [
    {
     "data": {
      "text/plain": [
       "LeveneResult(statistic=80.85567421779912, pvalue=3.779689868667878e-19)"
      ]
     },
     "execution_count": 157,
     "metadata": {},
     "output_type": "execute_result"
    }
   ],
   "source": [
    "levene(a, b)"
   ]
  },
  {
   "cell_type": "markdown",
   "metadata": {},
   "source": [
    "pvalue < 0.05. Делаем вывод, что дисперсии не гомогенны. В этом случае будем использовать Т-критерий Стьюдента с поправкой Уэлча."
   ]
  },
  {
   "cell_type": "markdown",
   "metadata": {},
   "source": [
    "__Т-критерий Стьюдента__"
   ]
  },
  {
   "cell_type": "markdown",
   "metadata": {},
   "source": [
    "Наша гипотеза $H_0$: статистически значимого различия между ARPPU разных групп нет"
   ]
  },
  {
   "cell_type": "code",
   "execution_count": 158,
   "metadata": {},
   "outputs": [
    {
     "data": {
      "text/plain": [
       "TtestResult(statistic=-1.644630266430084, pvalue=0.10020780398916015, df=1943.4815217434643)"
      ]
     },
     "execution_count": 158,
     "metadata": {},
     "output_type": "execute_result"
    }
   ],
   "source": [
    "ttest_ind(a, b, equal_var=False)"
   ]
  },
  {
   "cell_type": "markdown",
   "metadata": {},
   "source": [
    "__Вывод:__"
   ]
  },
  {
   "cell_type": "markdown",
   "metadata": {},
   "source": [
    "pvalue > 0.05. Делаем вывод, что показатель ARPPU между группами статзначимо не отличается."
   ]
  },
  {
   "cell_type": "markdown",
   "metadata": {},
   "source": [
    "<h3>2 Этап. Сравнение Conversion Rate.<h3>"
   ]
  },
  {
   "cell_type": "markdown",
   "metadata": {},
   "source": [
    "Вгзлянем на долю платящих пользователей в обеих группах"
   ]
  },
  {
   "cell_type": "code",
   "execution_count": 159,
   "metadata": {},
   "outputs": [
    {
     "data": {
      "text/plain": [
       "user_id    0.890624\n",
       "dtype: float64"
      ]
     },
     "execution_count": 159,
     "metadata": {},
     "output_type": "execute_result"
    }
   ],
   "source": [
    "(ab_test_data.query(\"testgroup =='b' & revenue != 0\").agg({'user_id': 'count'})\n",
    " / ab_test_data.query(\"testgroup =='b'\").agg({'user_id': 'count'}))*100"
   ]
  },
  {
   "cell_type": "code",
   "execution_count": 160,
   "metadata": {},
   "outputs": [
    {
     "data": {
      "text/plain": [
       "user_id    0.953969\n",
       "dtype: float64"
      ]
     },
     "execution_count": 160,
     "metadata": {},
     "output_type": "execute_result"
    }
   ],
   "source": [
    "(ab_test_data.query(\"testgroup =='a' & revenue != 0\").agg({'user_id': 'count'})\n",
    " / ab_test_data.query(\"testgroup =='a'\").agg({'user_id': 'count'}))*100"
   ]
  },
  {
   "cell_type": "markdown",
   "metadata": {},
   "source": [
    "Мы видим, что в контрольной группе этот показатель выше"
   ]
  },
  {
   "cell_type": "markdown",
   "metadata": {},
   "source": [
    "В данном случае можно разбить всех пользователей на 2 группы с 2-мя подгруппами, то есть контрольная и тестовая группа, в которых есть платящие и не платящие пользователи. После этого можно сравнить, отличается ли доля платящих пользователей в контрольной и тестовой группе. Для этого исследования нам подойдет метод _Хи-квадрат_."
   ]
  },
  {
   "cell_type": "markdown",
   "metadata": {},
   "source": [
    "Добавим новый столбец со значением True/False для обозначения платящих пользователей"
   ]
  },
  {
   "cell_type": "code",
   "execution_count": 161,
   "metadata": {},
   "outputs": [
    {
     "data": {
      "text/html": [
       "<div>\n",
       "<style scoped>\n",
       "    .dataframe tbody tr th:only-of-type {\n",
       "        vertical-align: middle;\n",
       "    }\n",
       "\n",
       "    .dataframe tbody tr th {\n",
       "        vertical-align: top;\n",
       "    }\n",
       "\n",
       "    .dataframe thead th {\n",
       "        text-align: right;\n",
       "    }\n",
       "</style>\n",
       "<table border=\"1\" class=\"dataframe\">\n",
       "  <thead>\n",
       "    <tr style=\"text-align: right;\">\n",
       "      <th></th>\n",
       "      <th>user_id</th>\n",
       "      <th>revenue</th>\n",
       "      <th>testgroup</th>\n",
       "      <th>Paying</th>\n",
       "    </tr>\n",
       "  </thead>\n",
       "  <tbody>\n",
       "    <tr>\n",
       "      <th>0</th>\n",
       "      <td>1</td>\n",
       "      <td>0</td>\n",
       "      <td>b</td>\n",
       "      <td>0</td>\n",
       "    </tr>\n",
       "    <tr>\n",
       "      <th>1</th>\n",
       "      <td>2</td>\n",
       "      <td>0</td>\n",
       "      <td>a</td>\n",
       "      <td>0</td>\n",
       "    </tr>\n",
       "    <tr>\n",
       "      <th>2</th>\n",
       "      <td>3</td>\n",
       "      <td>0</td>\n",
       "      <td>a</td>\n",
       "      <td>0</td>\n",
       "    </tr>\n",
       "    <tr>\n",
       "      <th>3</th>\n",
       "      <td>4</td>\n",
       "      <td>0</td>\n",
       "      <td>b</td>\n",
       "      <td>0</td>\n",
       "    </tr>\n",
       "    <tr>\n",
       "      <th>4</th>\n",
       "      <td>5</td>\n",
       "      <td>0</td>\n",
       "      <td>b</td>\n",
       "      <td>0</td>\n",
       "    </tr>\n",
       "    <tr>\n",
       "      <th>...</th>\n",
       "      <td>...</td>\n",
       "      <td>...</td>\n",
       "      <td>...</td>\n",
       "      <td>...</td>\n",
       "    </tr>\n",
       "    <tr>\n",
       "      <th>404765</th>\n",
       "      <td>404766</td>\n",
       "      <td>0</td>\n",
       "      <td>a</td>\n",
       "      <td>0</td>\n",
       "    </tr>\n",
       "    <tr>\n",
       "      <th>404766</th>\n",
       "      <td>404767</td>\n",
       "      <td>0</td>\n",
       "      <td>b</td>\n",
       "      <td>0</td>\n",
       "    </tr>\n",
       "    <tr>\n",
       "      <th>404767</th>\n",
       "      <td>404768</td>\n",
       "      <td>231</td>\n",
       "      <td>a</td>\n",
       "      <td>1</td>\n",
       "    </tr>\n",
       "    <tr>\n",
       "      <th>404768</th>\n",
       "      <td>404769</td>\n",
       "      <td>0</td>\n",
       "      <td>a</td>\n",
       "      <td>0</td>\n",
       "    </tr>\n",
       "    <tr>\n",
       "      <th>404769</th>\n",
       "      <td>404770</td>\n",
       "      <td>0</td>\n",
       "      <td>b</td>\n",
       "      <td>0</td>\n",
       "    </tr>\n",
       "  </tbody>\n",
       "</table>\n",
       "<p>404770 rows × 4 columns</p>\n",
       "</div>"
      ],
      "text/plain": [
       "        user_id  revenue testgroup  Paying\n",
       "0             1        0         b       0\n",
       "1             2        0         a       0\n",
       "2             3        0         a       0\n",
       "3             4        0         b       0\n",
       "4             5        0         b       0\n",
       "...         ...      ...       ...     ...\n",
       "404765   404766        0         a       0\n",
       "404766   404767        0         b       0\n",
       "404767   404768      231         a       1\n",
       "404768   404769        0         a       0\n",
       "404769   404770        0         b       0\n",
       "\n",
       "[404770 rows x 4 columns]"
      ]
     },
     "execution_count": 161,
     "metadata": {},
     "output_type": "execute_result"
    }
   ],
   "source": [
    "ab_test_data['Paying'] = np.where(ab_test_data['revenue'] > 0, 1, 0)\n",
    "ab_test_data"
   ]
  },
  {
   "cell_type": "markdown",
   "metadata": {},
   "source": [
    "Составим таблицу сопряженности"
   ]
  },
  {
   "cell_type": "code",
   "execution_count": 162,
   "metadata": {},
   "outputs": [
    {
     "data": {
      "text/html": [
       "<div>\n",
       "<style scoped>\n",
       "    .dataframe tbody tr th:only-of-type {\n",
       "        vertical-align: middle;\n",
       "    }\n",
       "\n",
       "    .dataframe tbody tr th {\n",
       "        vertical-align: top;\n",
       "    }\n",
       "\n",
       "    .dataframe thead th {\n",
       "        text-align: right;\n",
       "    }\n",
       "</style>\n",
       "<table border=\"1\" class=\"dataframe\">\n",
       "  <thead>\n",
       "    <tr style=\"text-align: right;\">\n",
       "      <th>Paying</th>\n",
       "      <th>0</th>\n",
       "      <th>1</th>\n",
       "    </tr>\n",
       "    <tr>\n",
       "      <th>group</th>\n",
       "      <th></th>\n",
       "      <th></th>\n",
       "    </tr>\n",
       "  </thead>\n",
       "  <tbody>\n",
       "    <tr>\n",
       "      <th>a</th>\n",
       "      <td>200175</td>\n",
       "      <td>1928</td>\n",
       "    </tr>\n",
       "    <tr>\n",
       "      <th>b</th>\n",
       "      <td>200862</td>\n",
       "      <td>1805</td>\n",
       "    </tr>\n",
       "  </tbody>\n",
       "</table>\n",
       "</div>"
      ],
      "text/plain": [
       "Paying       0     1\n",
       "group               \n",
       "a       200175  1928\n",
       "b       200862  1805"
      ]
     },
     "execution_count": 162,
     "metadata": {},
     "output_type": "execute_result"
    }
   ],
   "source": [
    "cross_table = pd.crosstab(ab_test_data.testgroup, ab_test_data.Paying, rownames=[\n",
    "                          'group'], colnames=['Paying'])\n",
    "cross_table"
   ]
  },
  {
   "cell_type": "markdown",
   "metadata": {},
   "source": [
    "__Анализ таблицы сопряженности__"
   ]
  },
  {
   "cell_type": "markdown",
   "metadata": {},
   "source": [
    "Проверим, зависит ли доля платящих пользователей от группы."
   ]
  },
  {
   "cell_type": "markdown",
   "metadata": {},
   "source": [
    "Наша гипотеза $H_0$: доля платящих пользователей не зависит от группы."
   ]
  },
  {
   "cell_type": "code",
   "execution_count": 163,
   "metadata": {},
   "outputs": [
    {
     "data": {
      "text/plain": [
       "Chi2ContingencyResult(statistic=4.374729521260405, pvalue=0.03647561892312613, dof=1, expected_freq=array([[200239.10075104,   1863.89924896],\n",
       "       [200797.89924896,   1869.10075104]]))"
      ]
     },
     "execution_count": 163,
     "metadata": {},
     "output_type": "execute_result"
    }
   ],
   "source": [
    "chi2_contingency(cross_table)"
   ]
  },
  {
   "cell_type": "markdown",
   "metadata": {},
   "source": [
    "__Вывод:__"
   ]
  },
  {
   "cell_type": "markdown",
   "metadata": {},
   "source": [
    "pvalue < 0.05, следовательно, можно сделать вывод, что количество платящих пользователей по группам статзначимо различается."
   ]
  },
  {
   "cell_type": "markdown",
   "metadata": {},
   "source": [
    "Количество платящих пользователей в тестовой группе статзначимо ниже чем в контрольной группе."
   ]
  },
  {
   "cell_type": "markdown",
   "metadata": {},
   "source": [
    "__2.1 Дополнительная проверка__"
   ]
  },
  {
   "cell_type": "markdown",
   "metadata": {},
   "source": [
    "В первом этапе мы обнаружили 123 пользователя в контрольной группе, у которых revenue аномально превышен по сравнению с остальными платящими пользователями этой группы (да и второй группы тоже). Посмотрим, как изменится показатель Conversion Rate, если мы исключим этих пользователей из расчета."
   ]
  },
  {
   "cell_type": "code",
   "execution_count": 164,
   "metadata": {},
   "outputs": [
    {
     "data": {
      "text/plain": [
       "user_id    0.890624\n",
       "dtype: float64"
      ]
     },
     "execution_count": 164,
     "metadata": {},
     "output_type": "execute_result"
    }
   ],
   "source": [
    "# CR тестовой группы\n",
    "(ab_test_data.query(\"testgroup =='b' & revenue != 0\").agg({'user_id': 'count'})\n",
    " / ab_test_data.query(\"testgroup =='b'\").agg({'user_id': 'count'}))*100"
   ]
  },
  {
   "cell_type": "code",
   "execution_count": 165,
   "metadata": {},
   "outputs": [
    {
     "data": {
      "text/plain": [
       "user_id    0.893109\n",
       "dtype: float64"
      ]
     },
     "execution_count": 165,
     "metadata": {},
     "output_type": "execute_result"
    }
   ],
   "source": [
    "# CR контрольной группы\n",
    "(ab_test_data.query(\"testgroup =='a' & revenue != 0 & revenue < 35000\").agg({'user_id': 'count'})\n",
    " / ab_test_data.query(\"testgroup =='a'\").agg({'user_id': 'count'}))*100"
   ]
  },
  {
   "cell_type": "markdown",
   "metadata": {},
   "source": [
    "Составим новую таблицу сопряженности"
   ]
  },
  {
   "cell_type": "code",
   "execution_count": 166,
   "metadata": {},
   "outputs": [
    {
     "data": {
      "text/html": [
       "<div>\n",
       "<style scoped>\n",
       "    .dataframe tbody tr th:only-of-type {\n",
       "        vertical-align: middle;\n",
       "    }\n",
       "\n",
       "    .dataframe tbody tr th {\n",
       "        vertical-align: top;\n",
       "    }\n",
       "\n",
       "    .dataframe thead th {\n",
       "        text-align: right;\n",
       "    }\n",
       "</style>\n",
       "<table border=\"1\" class=\"dataframe\">\n",
       "  <thead>\n",
       "    <tr style=\"text-align: right;\">\n",
       "      <th>Paying</th>\n",
       "      <th>0</th>\n",
       "      <th>1</th>\n",
       "    </tr>\n",
       "    <tr>\n",
       "      <th>group</th>\n",
       "      <th></th>\n",
       "      <th></th>\n",
       "    </tr>\n",
       "  </thead>\n",
       "  <tbody>\n",
       "    <tr>\n",
       "      <th>a</th>\n",
       "      <td>200175</td>\n",
       "      <td>1805</td>\n",
       "    </tr>\n",
       "    <tr>\n",
       "      <th>b</th>\n",
       "      <td>200862</td>\n",
       "      <td>1805</td>\n",
       "    </tr>\n",
       "  </tbody>\n",
       "</table>\n",
       "</div>"
      ],
      "text/plain": [
       "Paying       0     1\n",
       "group               \n",
       "a       200175  1805\n",
       "b       200862  1805"
      ]
     },
     "execution_count": 166,
     "metadata": {},
     "output_type": "execute_result"
    }
   ],
   "source": [
    "cross_table_2 = pd.crosstab(ab_test_data.query(\"revenue < 35000\").testgroup,\n",
    "                            ab_test_data.query(\"revenue < 35000\").Paying,\n",
    "                            rownames=['group'], colnames=['Paying'])\n",
    "cross_table_2"
   ]
  },
  {
   "cell_type": "markdown",
   "metadata": {},
   "source": [
    "Проведем проверку новой таблицы сопряженности используя Хи-квадрат"
   ]
  },
  {
   "cell_type": "markdown",
   "metadata": {},
   "source": [
    "Гипотеза $H_0$: доля платящих пользователей не зависит от группы."
   ]
  },
  {
   "cell_type": "code",
   "execution_count": 167,
   "metadata": {},
   "outputs": [
    {
     "data": {
      "text/plain": [
       "Chi2ContingencyResult(statistic=0.0073526946879701, pvalue=0.9316668591658103, dof=1, expected_freq=array([[200178.06448584,   1801.93551416],\n",
       "       [200858.93551416,   1808.06448584]]))"
      ]
     },
     "execution_count": 167,
     "metadata": {},
     "output_type": "execute_result"
    }
   ],
   "source": [
    "chi2_contingency(cross_table_2)"
   ]
  },
  {
   "cell_type": "markdown",
   "metadata": {},
   "source": [
    "__Вывод:__"
   ]
  },
  {
   "cell_type": "markdown",
   "metadata": {},
   "source": [
    "Во втором случае мы не получили статзначимых различий в количестве платящих пользователей между двумя группами."
   ]
  },
  {
   "cell_type": "markdown",
   "metadata": {},
   "source": [
    "<h3>Аналитическое заключение по заданию 2<h3>"
   ]
  },
  {
   "cell_type": "markdown",
   "metadata": {},
   "source": [
    "__Вопрос:__ Какой набор предложений можно считать лучшим?"
   ]
  },
  {
   "cell_type": "markdown",
   "metadata": {},
   "source": [
    "__Ответ:__"
   ]
  },
  {
   "cell_type": "markdown",
   "metadata": {},
   "source": [
    "Мы сравнили 2 метрики: ARPPU и Conversion Rate. На основе статистического анализа этих метрик трудно однозначно определить лучший акционный набор.  По ARPPU мы не обнаружили значимых различий, по Conversion Rate показатель лучше в контрольной группе. \n",
    "\n",
    "Также в ходе исследования были обнаружены значительные выбросы в контрольной группе. Можно предположить, что диапазоны цен акционных предложений в двух группах сильно различались, поэтому мы видим такие распределения.\n",
    "\n",
    "В контрольной группе немногочисленные высокие чеки дают почти 90% выручки, это может нести определенные риски для компании. В тестовой группе продемонстрирован более стабильный вариант.\n",
    "\n",
    "В ходе статистического анализа мы не выявили улучшения ключевых метрик в тестовой группе. Следовательно, экспериментальный вариант акционных предложений нельзя раскатывать на всю аудиторию приложения.\n"
   ]
  },
  {
   "cell_type": "markdown",
   "metadata": {},
   "source": [
    "<h2>Задание 3<h2>"
   ]
  },
  {
   "cell_type": "markdown",
   "metadata": {},
   "source": [
    "__Вопрос 1__"
   ]
  },
  {
   "cell_type": "markdown",
   "metadata": {},
   "source": [
    "В игре \"Plants & Gardens\" каждый месяц проводятся тематические события, ограниченные по времени. В них игроки могут получить уникальные предметы для сада и персонажей, дополнительные монеты или бонусы. Для получения награды требуется пройти ряд уровней за определенное время. С помощью каких метрик можно оценить результаты последнего прошедшего события?\n",
    "\n",
    "Предположим, в другом событии мы усложнили механику событий так, что при каждой неудачной попытке выполнения уровня игрок будет откатываться на несколько уровней назад. Изменится ли набор метрик оценки результата? Если да, то как?"
   ]
  },
  {
   "cell_type": "markdown",
   "metadata": {},
   "source": [
    "__Ответ:__"
   ]
  },
  {
   "cell_type": "markdown",
   "metadata": {},
   "source": [
    "Для оценки результатов последнего прошедшего тематического события в игре мы можем использовать следующие метрики:\n",
    "\n",
    "1. Процент активных пользователей, участвовавших в событии (__Participation Rate__)\n",
    "\n",
    "2. Процент пользователей, которые успешно прошли все уровни (__Completion Rate__)\n",
    "\n",
    "3. Среднее время прохождения события - покажет, сколько времени в среднем требовалось игрокам для прохождения всех уровней и получения наград (__Average Event Completion Time__).\n",
    "\n",
    "4. Новые привлеченные пользователи - количество пользователей, которые начали играть в период проведения события (__New Users__)\n",
    "\n",
    "5. Прибыль - покажет, как изменились доходы во время проведения события (__Revenue__)\n",
    "\n",
    "6. Удержание пользователей - покажет, как проведение тематического события повлияло на то, остались ли новые пользователи в игре после его проведения (__Retention Rate__)\n",
    "\n",
    "7. Метрики вовлеченности - необходимо зафиксировать изменения в средней продолжительности сессии игроков (__Average Session Time__) и частоту сессий во время события (__Session Frequency__)\n",
    "\n",
    "8. А также мы можем собрать отзывы пользователей о проведенном событии(например, в виде опроса после события) (__User Feedback__)\n",
    "\n",
    "Использование этих метрик даст комплексное представление об успехе события, влиянии на игровой процесс и экономику игры, а также покажет, насколько событие было интересно и привлекательно для аудитории."
   ]
  },
  {
   "cell_type": "markdown",
   "metadata": {},
   "source": [
    "__Вопрос 2__"
   ]
  },
  {
   "cell_type": "markdown",
   "metadata": {},
   "source": [
    "Предположим, в другом событии мы усложнили механику событий так, что при каждой неудачной попытке выполнения уровня игрок будет откатываться на несколько уровней назад. Изменится ли набор метрик оценки результата? Если да, то как?"
   ]
  },
  {
   "cell_type": "markdown",
   "metadata": {},
   "source": [
    "__Ответ:__"
   ]
  },
  {
   "cell_type": "markdown",
   "metadata": {},
   "source": [
    "При усложнении механики события, когда игроки откатываться на несколько уровней назад, для оценки успешности события мы сможем применять предудыщий набор метрик, но также нам следует учеть и дополнительные метрики такие как:\n",
    "\n",
    "1. Количество попыток - среднее количество попыток, которые потребовались игрокам для прохождения уровней. Это поможет оценить сложность события (__Number of Attempts__)\n",
    "\n",
    "2. Коэффициент отказов - доля игроков, которые прекратили прохождение событий после нескольких неудачных попыток (__Failure Rate__)\n",
    "\n",
    "5. Время первого отката - покажет, как быстро игроки сталкиваются с первой неудачей, которая заставляет их возвращаться на предыдущие уровни (__Time of First Rollback__)\n",
    "\n",
    "Эти дополнительные метрики позволят нам получить более полное представление о влиянии новой механики на игровой процесс и пользовательский опыт, а также улучшить дизайн и баланс будущих событий."
   ]
  }
 ],
 "metadata": {
  "kernelspec": {
   "display_name": "Python 3 (ipykernel)",
   "language": "python",
   "name": "python3"
  },
  "language_info": {
   "codemirror_mode": {
    "name": "ipython",
    "version": 3
   },
   "file_extension": ".py",
   "mimetype": "text/x-python",
   "name": "python",
   "nbconvert_exporter": "python",
   "pygments_lexer": "ipython3",
   "version": "3.12.3"
  }
 },
 "nbformat": 4,
 "nbformat_minor": 4
}
